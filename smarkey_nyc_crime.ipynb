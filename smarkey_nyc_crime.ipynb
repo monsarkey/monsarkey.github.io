{
  "nbformat": 4,
  "nbformat_minor": 0,
  "metadata": {
    "colab": {
      "name": "smarkey_nyc_crime.ipynb",
      "provenance": [],
      "collapsed_sections": []
    },
    "kernelspec": {
      "name": "python3",
      "display_name": "Python 3"
    },
    "language_info": {
      "name": "python"
    }
  },
  "cells": [
    {
      "cell_type": "markdown",
      "source": [
        "## 1. Introduction: Analysis of Crime in NYC By Location\n",
        "\n",
        "Sean Markey, Dec. 2021"
      ],
      "metadata": {
        "id": "8PMi51d77Nw_"
      }
    },
    {
      "cell_type": "markdown",
      "source": [
        "The below notebook's main intent is to guide the reader through an investigation of crime in New York City, paying specific attention to the locations at which said crimes take place. Much attention will be paid to comparison between the crime rates of the five boroughs of the city, which could help us understand the underlying reasons for differences in crime rates throughout the city. This comparison will involve not only the quantity of arrests from borough to borough, but also the severity of crimes committed leading to such arrests. I believe it will be interesting to compare the ratio of misdemeanors to felonies throughout the boroughs of NYC."
      ],
      "metadata": {
        "id": "pliDglRv8peU"
      }
    },
    {
      "cell_type": "markdown",
      "source": [
        "A secondary focus is being placed on an investigation into how the setting of a crime can be used to predict the actual crime committed. I don't expect to have accurate results due to the limitations of this dataset, but I believe it will be interesting to see which factors the model identifies as most important in making its decision. In order to look into this, I plan on implementing a decision tree in order to take advantage of its simplicity and readability for further analysis."
      ],
      "metadata": {
        "id": "cn67yuAFBCk3"
      }
    },
    {
      "cell_type": "markdown",
      "source": [
        "## 2. Data Cleaning"
      ],
      "metadata": {
        "id": "Mjs1zjvor2pL"
      }
    },
    {
      "cell_type": "code",
      "execution_count": 647,
      "metadata": {
        "id": "HafkXk4IqY-s"
      },
      "outputs": [],
      "source": [
        "import pandas as pd\n",
        "import numpy as np\n",
        "import folium\n",
        "\n",
        "from folium import plugins\n",
        "from folium.plugins import HeatMap \n",
        "\n",
        "import matplotlib.pyplot as plt"
      ]
    },
    {
      "cell_type": "markdown",
      "source": [
        "Here, we will be using data on crime provided by the police department of New York City, linked [here](https://www1.nyc.gov/site/nypd/stats/crime-statistics/citywide-crime-stats.page). At this link, you can find additional information regarding not only arrests, but also data regarding court summons, shootings, and complaints.\n",
        "\n",
        "At the link above, you can find crime data dating back to 2013, yet I chose to focus on this most recent year for analysis. This is for a few reasons, mainly that it greatly minimized the number of datapoints and allowed for easier data analysis. I also noticed that upon preliminary inspection, older data seemed to be patchier and just generally worse to work with. Furthermore, I wasn't planning on analyzing the time element to these datasets, so I wouldn't need a wide range of dates for effective analysis."
      ],
      "metadata": {
        "id": "R4XZVlH4sm9j"
      }
    },
    {
      "cell_type": "markdown",
      "source": [
        "This is an example of the data from the start. It contains ~100,000 data points regarding specific arrests made in New York City over the past year. These data points include information about the crime itself, the perpetrator's age, race, sex, and the location of the crime. "
      ],
      "metadata": {
        "id": "P4mciYR7waXZ"
      }
    },
    {
      "cell_type": "code",
      "source": [
        "df = pd.read_csv(\"NYPD_Arrest_Data__Year_to_Date_.csv\")\n",
        "\n",
        "df.head()"
      ],
      "metadata": {
        "colab": {
          "base_uri": "https://localhost:8080/",
          "height": 496
        },
        "id": "lzLePeNUsOs_",
        "outputId": "b75d5827-3298-4ed2-8ff0-731c01f3bda8"
      },
      "execution_count": 648,
      "outputs": [
        {
          "output_type": "execute_result",
          "data": {
            "text/html": [
              "\n",
              "  <div id=\"df-6644164a-2ee3-4ee5-80ba-ed5edec21e2b\">\n",
              "    <div class=\"colab-df-container\">\n",
              "      <div>\n",
              "<style scoped>\n",
              "    .dataframe tbody tr th:only-of-type {\n",
              "        vertical-align: middle;\n",
              "    }\n",
              "\n",
              "    .dataframe tbody tr th {\n",
              "        vertical-align: top;\n",
              "    }\n",
              "\n",
              "    .dataframe thead th {\n",
              "        text-align: right;\n",
              "    }\n",
              "</style>\n",
              "<table border=\"1\" class=\"dataframe\">\n",
              "  <thead>\n",
              "    <tr style=\"text-align: right;\">\n",
              "      <th></th>\n",
              "      <th>ARREST_KEY</th>\n",
              "      <th>ARREST_DATE</th>\n",
              "      <th>PD_CD</th>\n",
              "      <th>PD_DESC</th>\n",
              "      <th>KY_CD</th>\n",
              "      <th>OFNS_DESC</th>\n",
              "      <th>LAW_CODE</th>\n",
              "      <th>LAW_CAT_CD</th>\n",
              "      <th>ARREST_BORO</th>\n",
              "      <th>ARREST_PRECINCT</th>\n",
              "      <th>JURISDICTION_CODE</th>\n",
              "      <th>AGE_GROUP</th>\n",
              "      <th>PERP_SEX</th>\n",
              "      <th>PERP_RACE</th>\n",
              "      <th>X_COORD_CD</th>\n",
              "      <th>Y_COORD_CD</th>\n",
              "      <th>Latitude</th>\n",
              "      <th>Longitude</th>\n",
              "      <th>New Georeferenced Column</th>\n",
              "    </tr>\n",
              "  </thead>\n",
              "  <tbody>\n",
              "    <tr>\n",
              "      <th>0</th>\n",
              "      <td>234233843</td>\n",
              "      <td>09/29/2021</td>\n",
              "      <td>105.0</td>\n",
              "      <td>STRANGULATION 1ST</td>\n",
              "      <td>106.0</td>\n",
              "      <td>FELONY ASSAULT</td>\n",
              "      <td>PL 1211200</td>\n",
              "      <td>F</td>\n",
              "      <td>B</td>\n",
              "      <td>42</td>\n",
              "      <td>0</td>\n",
              "      <td>25-44</td>\n",
              "      <td>M</td>\n",
              "      <td>BLACK</td>\n",
              "      <td>1009231</td>\n",
              "      <td>240290</td>\n",
              "      <td>40.826189</td>\n",
              "      <td>-73.909738</td>\n",
              "      <td>POINT (-73.90973778899996 40.82618898100003)</td>\n",
              "    </tr>\n",
              "    <tr>\n",
              "      <th>1</th>\n",
              "      <td>234129823</td>\n",
              "      <td>09/27/2021</td>\n",
              "      <td>157.0</td>\n",
              "      <td>RAPE 1</td>\n",
              "      <td>104.0</td>\n",
              "      <td>RAPE</td>\n",
              "      <td>PL 1303501</td>\n",
              "      <td>F</td>\n",
              "      <td>K</td>\n",
              "      <td>77</td>\n",
              "      <td>0</td>\n",
              "      <td>25-44</td>\n",
              "      <td>M</td>\n",
              "      <td>BLACK</td>\n",
              "      <td>1003606</td>\n",
              "      <td>185050</td>\n",
              "      <td>40.674583</td>\n",
              "      <td>-73.930222</td>\n",
              "      <td>POINT (-73.93022154099998 40.67458330800008)</td>\n",
              "    </tr>\n",
              "    <tr>\n",
              "      <th>2</th>\n",
              "      <td>234040747</td>\n",
              "      <td>09/25/2021</td>\n",
              "      <td>109.0</td>\n",
              "      <td>ASSAULT 2,1,UNCLASSIFIED</td>\n",
              "      <td>106.0</td>\n",
              "      <td>FELONY ASSAULT</td>\n",
              "      <td>PL 1200501</td>\n",
              "      <td>F</td>\n",
              "      <td>Q</td>\n",
              "      <td>101</td>\n",
              "      <td>0</td>\n",
              "      <td>25-44</td>\n",
              "      <td>M</td>\n",
              "      <td>BLACK</td>\n",
              "      <td>1049232</td>\n",
              "      <td>159210</td>\n",
              "      <td>40.603441</td>\n",
              "      <td>-73.765986</td>\n",
              "      <td>POINT (-73.76598558899997 40.60344094100003)</td>\n",
              "    </tr>\n",
              "    <tr>\n",
              "      <th>3</th>\n",
              "      <td>234047720</td>\n",
              "      <td>09/25/2021</td>\n",
              "      <td>101.0</td>\n",
              "      <td>ASSAULT 3</td>\n",
              "      <td>344.0</td>\n",
              "      <td>ASSAULT 3 &amp; RELATED OFFENSES</td>\n",
              "      <td>PL 1200001</td>\n",
              "      <td>M</td>\n",
              "      <td>B</td>\n",
              "      <td>44</td>\n",
              "      <td>0</td>\n",
              "      <td>25-44</td>\n",
              "      <td>M</td>\n",
              "      <td>BLACK</td>\n",
              "      <td>1006537</td>\n",
              "      <td>244511</td>\n",
              "      <td>40.837782</td>\n",
              "      <td>-73.919458</td>\n",
              "      <td>POINT (-73.91945797099999 40.83778161800007)</td>\n",
              "    </tr>\n",
              "    <tr>\n",
              "      <th>4</th>\n",
              "      <td>234042526</td>\n",
              "      <td>09/25/2021</td>\n",
              "      <td>101.0</td>\n",
              "      <td>ASSAULT 3</td>\n",
              "      <td>344.0</td>\n",
              "      <td>ASSAULT 3 &amp; RELATED OFFENSES</td>\n",
              "      <td>PL 1200001</td>\n",
              "      <td>M</td>\n",
              "      <td>B</td>\n",
              "      <td>44</td>\n",
              "      <td>0</td>\n",
              "      <td>25-44</td>\n",
              "      <td>M</td>\n",
              "      <td>BLACK</td>\n",
              "      <td>1007418</td>\n",
              "      <td>243859</td>\n",
              "      <td>40.835990</td>\n",
              "      <td>-73.916276</td>\n",
              "      <td>POINT (-73.91627635999998 40.83598980000005)</td>\n",
              "    </tr>\n",
              "  </tbody>\n",
              "</table>\n",
              "</div>\n",
              "      <button class=\"colab-df-convert\" onclick=\"convertToInteractive('df-6644164a-2ee3-4ee5-80ba-ed5edec21e2b')\"\n",
              "              title=\"Convert this dataframe to an interactive table.\"\n",
              "              style=\"display:none;\">\n",
              "        \n",
              "  <svg xmlns=\"http://www.w3.org/2000/svg\" height=\"24px\"viewBox=\"0 0 24 24\"\n",
              "       width=\"24px\">\n",
              "    <path d=\"M0 0h24v24H0V0z\" fill=\"none\"/>\n",
              "    <path d=\"M18.56 5.44l.94 2.06.94-2.06 2.06-.94-2.06-.94-.94-2.06-.94 2.06-2.06.94zm-11 1L8.5 8.5l.94-2.06 2.06-.94-2.06-.94L8.5 2.5l-.94 2.06-2.06.94zm10 10l.94 2.06.94-2.06 2.06-.94-2.06-.94-.94-2.06-.94 2.06-2.06.94z\"/><path d=\"M17.41 7.96l-1.37-1.37c-.4-.4-.92-.59-1.43-.59-.52 0-1.04.2-1.43.59L10.3 9.45l-7.72 7.72c-.78.78-.78 2.05 0 2.83L4 21.41c.39.39.9.59 1.41.59.51 0 1.02-.2 1.41-.59l7.78-7.78 2.81-2.81c.8-.78.8-2.07 0-2.86zM5.41 20L4 18.59l7.72-7.72 1.47 1.35L5.41 20z\"/>\n",
              "  </svg>\n",
              "      </button>\n",
              "      \n",
              "  <style>\n",
              "    .colab-df-container {\n",
              "      display:flex;\n",
              "      flex-wrap:wrap;\n",
              "      gap: 12px;\n",
              "    }\n",
              "\n",
              "    .colab-df-convert {\n",
              "      background-color: #E8F0FE;\n",
              "      border: none;\n",
              "      border-radius: 50%;\n",
              "      cursor: pointer;\n",
              "      display: none;\n",
              "      fill: #1967D2;\n",
              "      height: 32px;\n",
              "      padding: 0 0 0 0;\n",
              "      width: 32px;\n",
              "    }\n",
              "\n",
              "    .colab-df-convert:hover {\n",
              "      background-color: #E2EBFA;\n",
              "      box-shadow: 0px 1px 2px rgba(60, 64, 67, 0.3), 0px 1px 3px 1px rgba(60, 64, 67, 0.15);\n",
              "      fill: #174EA6;\n",
              "    }\n",
              "\n",
              "    [theme=dark] .colab-df-convert {\n",
              "      background-color: #3B4455;\n",
              "      fill: #D2E3FC;\n",
              "    }\n",
              "\n",
              "    [theme=dark] .colab-df-convert:hover {\n",
              "      background-color: #434B5C;\n",
              "      box-shadow: 0px 1px 3px 1px rgba(0, 0, 0, 0.15);\n",
              "      filter: drop-shadow(0px 1px 2px rgba(0, 0, 0, 0.3));\n",
              "      fill: #FFFFFF;\n",
              "    }\n",
              "  </style>\n",
              "\n",
              "      <script>\n",
              "        const buttonEl =\n",
              "          document.querySelector('#df-6644164a-2ee3-4ee5-80ba-ed5edec21e2b button.colab-df-convert');\n",
              "        buttonEl.style.display =\n",
              "          google.colab.kernel.accessAllowed ? 'block' : 'none';\n",
              "\n",
              "        async function convertToInteractive(key) {\n",
              "          const element = document.querySelector('#df-6644164a-2ee3-4ee5-80ba-ed5edec21e2b');\n",
              "          const dataTable =\n",
              "            await google.colab.kernel.invokeFunction('convertToInteractive',\n",
              "                                                     [key], {});\n",
              "          if (!dataTable) return;\n",
              "\n",
              "          const docLinkHtml = 'Like what you see? Visit the ' +\n",
              "            '<a target=\"_blank\" href=https://colab.research.google.com/notebooks/data_table.ipynb>data table notebook</a>'\n",
              "            + ' to learn more about interactive tables.';\n",
              "          element.innerHTML = '';\n",
              "          dataTable['output_type'] = 'display_data';\n",
              "          await google.colab.output.renderOutput(dataTable, element);\n",
              "          const docLink = document.createElement('div');\n",
              "          docLink.innerHTML = docLinkHtml;\n",
              "          element.appendChild(docLink);\n",
              "        }\n",
              "      </script>\n",
              "    </div>\n",
              "  </div>\n",
              "  "
            ],
            "text/plain": [
              "   ARREST_KEY  ...                      New Georeferenced Column\n",
              "0   234233843  ...  POINT (-73.90973778899996 40.82618898100003)\n",
              "1   234129823  ...  POINT (-73.93022154099998 40.67458330800008)\n",
              "2   234040747  ...  POINT (-73.76598558899997 40.60344094100003)\n",
              "3   234047720  ...  POINT (-73.91945797099999 40.83778161800007)\n",
              "4   234042526  ...  POINT (-73.91627635999998 40.83598980000005)\n",
              "\n",
              "[5 rows x 19 columns]"
            ]
          },
          "metadata": {},
          "execution_count": 648
        }
      ]
    },
    {
      "cell_type": "markdown",
      "source": [
        "As you can see, not much cleaning should be needed here. I mostly would like to first drop some columns I don't plan on using going forward"
      ],
      "metadata": {
        "id": "qb1hw1rsxUNg"
      }
    },
    {
      "cell_type": "code",
      "source": [
        "df = df.drop(columns=[\"ARREST_KEY\", \"PD_CD\", \"PD_DESC\", \"LAW_CODE\", \"ARREST_PRECINCT\", \n",
        "                      \"X_COORD_CD\", \"Y_COORD_CD\", \"New Georeferenced Column\"])\n",
        "\n",
        "df.head()"
      ],
      "metadata": {
        "colab": {
          "base_uri": "https://localhost:8080/",
          "height": 206
        },
        "id": "ZdzIdPM1xgS1",
        "outputId": "04259fb3-14e0-4c46-e8e6-eef7534c90c3"
      },
      "execution_count": 649,
      "outputs": [
        {
          "output_type": "execute_result",
          "data": {
            "text/html": [
              "\n",
              "  <div id=\"df-111924a3-7094-4e19-b22f-206e3f36217d\">\n",
              "    <div class=\"colab-df-container\">\n",
              "      <div>\n",
              "<style scoped>\n",
              "    .dataframe tbody tr th:only-of-type {\n",
              "        vertical-align: middle;\n",
              "    }\n",
              "\n",
              "    .dataframe tbody tr th {\n",
              "        vertical-align: top;\n",
              "    }\n",
              "\n",
              "    .dataframe thead th {\n",
              "        text-align: right;\n",
              "    }\n",
              "</style>\n",
              "<table border=\"1\" class=\"dataframe\">\n",
              "  <thead>\n",
              "    <tr style=\"text-align: right;\">\n",
              "      <th></th>\n",
              "      <th>ARREST_DATE</th>\n",
              "      <th>KY_CD</th>\n",
              "      <th>OFNS_DESC</th>\n",
              "      <th>LAW_CAT_CD</th>\n",
              "      <th>ARREST_BORO</th>\n",
              "      <th>JURISDICTION_CODE</th>\n",
              "      <th>AGE_GROUP</th>\n",
              "      <th>PERP_SEX</th>\n",
              "      <th>PERP_RACE</th>\n",
              "      <th>Latitude</th>\n",
              "      <th>Longitude</th>\n",
              "    </tr>\n",
              "  </thead>\n",
              "  <tbody>\n",
              "    <tr>\n",
              "      <th>0</th>\n",
              "      <td>09/29/2021</td>\n",
              "      <td>106.0</td>\n",
              "      <td>FELONY ASSAULT</td>\n",
              "      <td>F</td>\n",
              "      <td>B</td>\n",
              "      <td>0</td>\n",
              "      <td>25-44</td>\n",
              "      <td>M</td>\n",
              "      <td>BLACK</td>\n",
              "      <td>40.826189</td>\n",
              "      <td>-73.909738</td>\n",
              "    </tr>\n",
              "    <tr>\n",
              "      <th>1</th>\n",
              "      <td>09/27/2021</td>\n",
              "      <td>104.0</td>\n",
              "      <td>RAPE</td>\n",
              "      <td>F</td>\n",
              "      <td>K</td>\n",
              "      <td>0</td>\n",
              "      <td>25-44</td>\n",
              "      <td>M</td>\n",
              "      <td>BLACK</td>\n",
              "      <td>40.674583</td>\n",
              "      <td>-73.930222</td>\n",
              "    </tr>\n",
              "    <tr>\n",
              "      <th>2</th>\n",
              "      <td>09/25/2021</td>\n",
              "      <td>106.0</td>\n",
              "      <td>FELONY ASSAULT</td>\n",
              "      <td>F</td>\n",
              "      <td>Q</td>\n",
              "      <td>0</td>\n",
              "      <td>25-44</td>\n",
              "      <td>M</td>\n",
              "      <td>BLACK</td>\n",
              "      <td>40.603441</td>\n",
              "      <td>-73.765986</td>\n",
              "    </tr>\n",
              "    <tr>\n",
              "      <th>3</th>\n",
              "      <td>09/25/2021</td>\n",
              "      <td>344.0</td>\n",
              "      <td>ASSAULT 3 &amp; RELATED OFFENSES</td>\n",
              "      <td>M</td>\n",
              "      <td>B</td>\n",
              "      <td>0</td>\n",
              "      <td>25-44</td>\n",
              "      <td>M</td>\n",
              "      <td>BLACK</td>\n",
              "      <td>40.837782</td>\n",
              "      <td>-73.919458</td>\n",
              "    </tr>\n",
              "    <tr>\n",
              "      <th>4</th>\n",
              "      <td>09/25/2021</td>\n",
              "      <td>344.0</td>\n",
              "      <td>ASSAULT 3 &amp; RELATED OFFENSES</td>\n",
              "      <td>M</td>\n",
              "      <td>B</td>\n",
              "      <td>0</td>\n",
              "      <td>25-44</td>\n",
              "      <td>M</td>\n",
              "      <td>BLACK</td>\n",
              "      <td>40.835990</td>\n",
              "      <td>-73.916276</td>\n",
              "    </tr>\n",
              "  </tbody>\n",
              "</table>\n",
              "</div>\n",
              "      <button class=\"colab-df-convert\" onclick=\"convertToInteractive('df-111924a3-7094-4e19-b22f-206e3f36217d')\"\n",
              "              title=\"Convert this dataframe to an interactive table.\"\n",
              "              style=\"display:none;\">\n",
              "        \n",
              "  <svg xmlns=\"http://www.w3.org/2000/svg\" height=\"24px\"viewBox=\"0 0 24 24\"\n",
              "       width=\"24px\">\n",
              "    <path d=\"M0 0h24v24H0V0z\" fill=\"none\"/>\n",
              "    <path d=\"M18.56 5.44l.94 2.06.94-2.06 2.06-.94-2.06-.94-.94-2.06-.94 2.06-2.06.94zm-11 1L8.5 8.5l.94-2.06 2.06-.94-2.06-.94L8.5 2.5l-.94 2.06-2.06.94zm10 10l.94 2.06.94-2.06 2.06-.94-2.06-.94-.94-2.06-.94 2.06-2.06.94z\"/><path d=\"M17.41 7.96l-1.37-1.37c-.4-.4-.92-.59-1.43-.59-.52 0-1.04.2-1.43.59L10.3 9.45l-7.72 7.72c-.78.78-.78 2.05 0 2.83L4 21.41c.39.39.9.59 1.41.59.51 0 1.02-.2 1.41-.59l7.78-7.78 2.81-2.81c.8-.78.8-2.07 0-2.86zM5.41 20L4 18.59l7.72-7.72 1.47 1.35L5.41 20z\"/>\n",
              "  </svg>\n",
              "      </button>\n",
              "      \n",
              "  <style>\n",
              "    .colab-df-container {\n",
              "      display:flex;\n",
              "      flex-wrap:wrap;\n",
              "      gap: 12px;\n",
              "    }\n",
              "\n",
              "    .colab-df-convert {\n",
              "      background-color: #E8F0FE;\n",
              "      border: none;\n",
              "      border-radius: 50%;\n",
              "      cursor: pointer;\n",
              "      display: none;\n",
              "      fill: #1967D2;\n",
              "      height: 32px;\n",
              "      padding: 0 0 0 0;\n",
              "      width: 32px;\n",
              "    }\n",
              "\n",
              "    .colab-df-convert:hover {\n",
              "      background-color: #E2EBFA;\n",
              "      box-shadow: 0px 1px 2px rgba(60, 64, 67, 0.3), 0px 1px 3px 1px rgba(60, 64, 67, 0.15);\n",
              "      fill: #174EA6;\n",
              "    }\n",
              "\n",
              "    [theme=dark] .colab-df-convert {\n",
              "      background-color: #3B4455;\n",
              "      fill: #D2E3FC;\n",
              "    }\n",
              "\n",
              "    [theme=dark] .colab-df-convert:hover {\n",
              "      background-color: #434B5C;\n",
              "      box-shadow: 0px 1px 3px 1px rgba(0, 0, 0, 0.15);\n",
              "      filter: drop-shadow(0px 1px 2px rgba(0, 0, 0, 0.3));\n",
              "      fill: #FFFFFF;\n",
              "    }\n",
              "  </style>\n",
              "\n",
              "      <script>\n",
              "        const buttonEl =\n",
              "          document.querySelector('#df-111924a3-7094-4e19-b22f-206e3f36217d button.colab-df-convert');\n",
              "        buttonEl.style.display =\n",
              "          google.colab.kernel.accessAllowed ? 'block' : 'none';\n",
              "\n",
              "        async function convertToInteractive(key) {\n",
              "          const element = document.querySelector('#df-111924a3-7094-4e19-b22f-206e3f36217d');\n",
              "          const dataTable =\n",
              "            await google.colab.kernel.invokeFunction('convertToInteractive',\n",
              "                                                     [key], {});\n",
              "          if (!dataTable) return;\n",
              "\n",
              "          const docLinkHtml = 'Like what you see? Visit the ' +\n",
              "            '<a target=\"_blank\" href=https://colab.research.google.com/notebooks/data_table.ipynb>data table notebook</a>'\n",
              "            + ' to learn more about interactive tables.';\n",
              "          element.innerHTML = '';\n",
              "          dataTable['output_type'] = 'display_data';\n",
              "          await google.colab.output.renderOutput(dataTable, element);\n",
              "          const docLink = document.createElement('div');\n",
              "          docLink.innerHTML = docLinkHtml;\n",
              "          element.appendChild(docLink);\n",
              "        }\n",
              "      </script>\n",
              "    </div>\n",
              "  </div>\n",
              "  "
            ],
            "text/plain": [
              "  ARREST_DATE  KY_CD  ...   Latitude  Longitude\n",
              "0  09/29/2021  106.0  ...  40.826189 -73.909738\n",
              "1  09/27/2021  104.0  ...  40.674583 -73.930222\n",
              "2  09/25/2021  106.0  ...  40.603441 -73.765986\n",
              "3  09/25/2021  344.0  ...  40.837782 -73.919458\n",
              "4  09/25/2021  344.0  ...  40.835990 -73.916276\n",
              "\n",
              "[5 rows x 11 columns]"
            ]
          },
          "metadata": {},
          "execution_count": 649
        }
      ]
    },
    {
      "cell_type": "markdown",
      "source": [
        "Here, I drop the null entries of the database. I don't think I have any shortage of data, so I don't see the need to try and salvage these rows going forward."
      ],
      "metadata": {
        "id": "XhAcO5Ikymyg"
      }
    },
    {
      "cell_type": "code",
      "source": [
        "df = df.dropna()\n",
        "\n",
        "df.head()"
      ],
      "metadata": {
        "colab": {
          "base_uri": "https://localhost:8080/",
          "height": 206
        },
        "id": "yphPxb__yTnr",
        "outputId": "ba528c55-6e88-4db5-96d5-a507ce2225ee"
      },
      "execution_count": 650,
      "outputs": [
        {
          "output_type": "execute_result",
          "data": {
            "text/html": [
              "\n",
              "  <div id=\"df-7414cc0e-5bb7-4723-80e2-220ad38729e9\">\n",
              "    <div class=\"colab-df-container\">\n",
              "      <div>\n",
              "<style scoped>\n",
              "    .dataframe tbody tr th:only-of-type {\n",
              "        vertical-align: middle;\n",
              "    }\n",
              "\n",
              "    .dataframe tbody tr th {\n",
              "        vertical-align: top;\n",
              "    }\n",
              "\n",
              "    .dataframe thead th {\n",
              "        text-align: right;\n",
              "    }\n",
              "</style>\n",
              "<table border=\"1\" class=\"dataframe\">\n",
              "  <thead>\n",
              "    <tr style=\"text-align: right;\">\n",
              "      <th></th>\n",
              "      <th>ARREST_DATE</th>\n",
              "      <th>KY_CD</th>\n",
              "      <th>OFNS_DESC</th>\n",
              "      <th>LAW_CAT_CD</th>\n",
              "      <th>ARREST_BORO</th>\n",
              "      <th>JURISDICTION_CODE</th>\n",
              "      <th>AGE_GROUP</th>\n",
              "      <th>PERP_SEX</th>\n",
              "      <th>PERP_RACE</th>\n",
              "      <th>Latitude</th>\n",
              "      <th>Longitude</th>\n",
              "    </tr>\n",
              "  </thead>\n",
              "  <tbody>\n",
              "    <tr>\n",
              "      <th>0</th>\n",
              "      <td>09/29/2021</td>\n",
              "      <td>106.0</td>\n",
              "      <td>FELONY ASSAULT</td>\n",
              "      <td>F</td>\n",
              "      <td>B</td>\n",
              "      <td>0</td>\n",
              "      <td>25-44</td>\n",
              "      <td>M</td>\n",
              "      <td>BLACK</td>\n",
              "      <td>40.826189</td>\n",
              "      <td>-73.909738</td>\n",
              "    </tr>\n",
              "    <tr>\n",
              "      <th>1</th>\n",
              "      <td>09/27/2021</td>\n",
              "      <td>104.0</td>\n",
              "      <td>RAPE</td>\n",
              "      <td>F</td>\n",
              "      <td>K</td>\n",
              "      <td>0</td>\n",
              "      <td>25-44</td>\n",
              "      <td>M</td>\n",
              "      <td>BLACK</td>\n",
              "      <td>40.674583</td>\n",
              "      <td>-73.930222</td>\n",
              "    </tr>\n",
              "    <tr>\n",
              "      <th>2</th>\n",
              "      <td>09/25/2021</td>\n",
              "      <td>106.0</td>\n",
              "      <td>FELONY ASSAULT</td>\n",
              "      <td>F</td>\n",
              "      <td>Q</td>\n",
              "      <td>0</td>\n",
              "      <td>25-44</td>\n",
              "      <td>M</td>\n",
              "      <td>BLACK</td>\n",
              "      <td>40.603441</td>\n",
              "      <td>-73.765986</td>\n",
              "    </tr>\n",
              "    <tr>\n",
              "      <th>3</th>\n",
              "      <td>09/25/2021</td>\n",
              "      <td>344.0</td>\n",
              "      <td>ASSAULT 3 &amp; RELATED OFFENSES</td>\n",
              "      <td>M</td>\n",
              "      <td>B</td>\n",
              "      <td>0</td>\n",
              "      <td>25-44</td>\n",
              "      <td>M</td>\n",
              "      <td>BLACK</td>\n",
              "      <td>40.837782</td>\n",
              "      <td>-73.919458</td>\n",
              "    </tr>\n",
              "    <tr>\n",
              "      <th>4</th>\n",
              "      <td>09/25/2021</td>\n",
              "      <td>344.0</td>\n",
              "      <td>ASSAULT 3 &amp; RELATED OFFENSES</td>\n",
              "      <td>M</td>\n",
              "      <td>B</td>\n",
              "      <td>0</td>\n",
              "      <td>25-44</td>\n",
              "      <td>M</td>\n",
              "      <td>BLACK</td>\n",
              "      <td>40.835990</td>\n",
              "      <td>-73.916276</td>\n",
              "    </tr>\n",
              "  </tbody>\n",
              "</table>\n",
              "</div>\n",
              "      <button class=\"colab-df-convert\" onclick=\"convertToInteractive('df-7414cc0e-5bb7-4723-80e2-220ad38729e9')\"\n",
              "              title=\"Convert this dataframe to an interactive table.\"\n",
              "              style=\"display:none;\">\n",
              "        \n",
              "  <svg xmlns=\"http://www.w3.org/2000/svg\" height=\"24px\"viewBox=\"0 0 24 24\"\n",
              "       width=\"24px\">\n",
              "    <path d=\"M0 0h24v24H0V0z\" fill=\"none\"/>\n",
              "    <path d=\"M18.56 5.44l.94 2.06.94-2.06 2.06-.94-2.06-.94-.94-2.06-.94 2.06-2.06.94zm-11 1L8.5 8.5l.94-2.06 2.06-.94-2.06-.94L8.5 2.5l-.94 2.06-2.06.94zm10 10l.94 2.06.94-2.06 2.06-.94-2.06-.94-.94-2.06-.94 2.06-2.06.94z\"/><path d=\"M17.41 7.96l-1.37-1.37c-.4-.4-.92-.59-1.43-.59-.52 0-1.04.2-1.43.59L10.3 9.45l-7.72 7.72c-.78.78-.78 2.05 0 2.83L4 21.41c.39.39.9.59 1.41.59.51 0 1.02-.2 1.41-.59l7.78-7.78 2.81-2.81c.8-.78.8-2.07 0-2.86zM5.41 20L4 18.59l7.72-7.72 1.47 1.35L5.41 20z\"/>\n",
              "  </svg>\n",
              "      </button>\n",
              "      \n",
              "  <style>\n",
              "    .colab-df-container {\n",
              "      display:flex;\n",
              "      flex-wrap:wrap;\n",
              "      gap: 12px;\n",
              "    }\n",
              "\n",
              "    .colab-df-convert {\n",
              "      background-color: #E8F0FE;\n",
              "      border: none;\n",
              "      border-radius: 50%;\n",
              "      cursor: pointer;\n",
              "      display: none;\n",
              "      fill: #1967D2;\n",
              "      height: 32px;\n",
              "      padding: 0 0 0 0;\n",
              "      width: 32px;\n",
              "    }\n",
              "\n",
              "    .colab-df-convert:hover {\n",
              "      background-color: #E2EBFA;\n",
              "      box-shadow: 0px 1px 2px rgba(60, 64, 67, 0.3), 0px 1px 3px 1px rgba(60, 64, 67, 0.15);\n",
              "      fill: #174EA6;\n",
              "    }\n",
              "\n",
              "    [theme=dark] .colab-df-convert {\n",
              "      background-color: #3B4455;\n",
              "      fill: #D2E3FC;\n",
              "    }\n",
              "\n",
              "    [theme=dark] .colab-df-convert:hover {\n",
              "      background-color: #434B5C;\n",
              "      box-shadow: 0px 1px 3px 1px rgba(0, 0, 0, 0.15);\n",
              "      filter: drop-shadow(0px 1px 2px rgba(0, 0, 0, 0.3));\n",
              "      fill: #FFFFFF;\n",
              "    }\n",
              "  </style>\n",
              "\n",
              "      <script>\n",
              "        const buttonEl =\n",
              "          document.querySelector('#df-7414cc0e-5bb7-4723-80e2-220ad38729e9 button.colab-df-convert');\n",
              "        buttonEl.style.display =\n",
              "          google.colab.kernel.accessAllowed ? 'block' : 'none';\n",
              "\n",
              "        async function convertToInteractive(key) {\n",
              "          const element = document.querySelector('#df-7414cc0e-5bb7-4723-80e2-220ad38729e9');\n",
              "          const dataTable =\n",
              "            await google.colab.kernel.invokeFunction('convertToInteractive',\n",
              "                                                     [key], {});\n",
              "          if (!dataTable) return;\n",
              "\n",
              "          const docLinkHtml = 'Like what you see? Visit the ' +\n",
              "            '<a target=\"_blank\" href=https://colab.research.google.com/notebooks/data_table.ipynb>data table notebook</a>'\n",
              "            + ' to learn more about interactive tables.';\n",
              "          element.innerHTML = '';\n",
              "          dataTable['output_type'] = 'display_data';\n",
              "          await google.colab.output.renderOutput(dataTable, element);\n",
              "          const docLink = document.createElement('div');\n",
              "          docLink.innerHTML = docLinkHtml;\n",
              "          element.appendChild(docLink);\n",
              "        }\n",
              "      </script>\n",
              "    </div>\n",
              "  </div>\n",
              "  "
            ],
            "text/plain": [
              "  ARREST_DATE  KY_CD  ...   Latitude  Longitude\n",
              "0  09/29/2021  106.0  ...  40.826189 -73.909738\n",
              "1  09/27/2021  104.0  ...  40.674583 -73.930222\n",
              "2  09/25/2021  106.0  ...  40.603441 -73.765986\n",
              "3  09/25/2021  344.0  ...  40.837782 -73.919458\n",
              "4  09/25/2021  344.0  ...  40.835990 -73.916276\n",
              "\n",
              "[5 rows x 11 columns]"
            ]
          },
          "metadata": {},
          "execution_count": 650
        }
      ]
    },
    {
      "cell_type": "markdown",
      "source": [
        "## 3. Data Analysis and Visualization"
      ],
      "metadata": {
        "id": "Heg6dU3Ry3qG"
      }
    },
    {
      "cell_type": "markdown",
      "source": [
        "First, I just want to get an idea of what offenses are listed within this dataset so I know what to look for in the future. I did this by taking all unique values of offenses listed and printing them."
      ],
      "metadata": {
        "id": "cny6myor0OoM"
      }
    },
    {
      "cell_type": "code",
      "source": [
        "offenses = set(df['OFNS_DESC'])\n"
      ],
      "metadata": {
        "id": "nPbvxjRyzWSX"
      },
      "execution_count": 652,
      "outputs": []
    },
    {
      "cell_type": "markdown",
      "source": [
        "Next, we set up a starting heatmap just to get an idea of how crimes are distributed throughout the boroughs of New York City. I chose to sample only a percent of the total dataset as not to oversaturate the heatmap's data."
      ],
      "metadata": {
        "id": "V2n9KtPG_11-"
      }
    },
    {
      "cell_type": "code",
      "source": [
        "heatmap = folium.Map(location=[40.73, -74], zoom_start=11)\n",
        "\n",
        "heat_df = df.sample(frac=.01)\n",
        "heat_df = heat_df[['Latitude', 'Longitude']]\n",
        "heat_data = [[row['Latitude'],row['Longitude']] for index, row in heat_df.iterrows()]\n",
        "\n",
        "title_html = '''\n",
        "             <h3 align=\"center\" style=\"font-size:20px\"><b>Crime in NYC 2021</b></h3>\n",
        "             '''\n",
        "heatmap.get_root().html.add_child(folium.Element(title_html))\n",
        "\n",
        "HeatMap(heat_data).add_to(heatmap)\n",
        "\n",
        "heatmap"
      ],
      "metadata": {
        "colab": {
          "base_uri": "https://localhost:8080/",
          "height": 1000
        },
        "id": "04FYJUFo0qYs",
        "outputId": "960f2041-cc78-4405-a871-00e161264702"
      },
      "execution_count": 653,
      "outputs": [
        {
          "output_type": "execute_result",
          "data": {
            "text/html": [
              "<div style=\"width:100%;\"><div style=\"position:relative;width:100%;height:0;padding-bottom:60%;\"><span style=\"color:#565656\">Make this Notebook Trusted to load map: File -> Trust Notebook</span><iframe src=\"about:blank\" style=\"position:absolute;width:100%;height:100%;left:0;top:0;border:none !important;\" data-html=%3C%21DOCTYPE%20html%3E%0A%3Chead%3E%20%20%20%20%0A%20%20%20%20%3Cmeta%20http-equiv%3D%22content-type%22%20content%3D%22text/html%3B%20charset%3DUTF-8%22%20/%3E%0A%20%20%20%20%3Cscript%3EL_PREFER_CANVAS%3Dfalse%3B%20L_NO_TOUCH%3Dfalse%3B%20L_DISABLE_3D%3Dfalse%3B%3C/script%3E%0A%20%20%20%20%3Cscript%20src%3D%22https%3A//cdn.jsdelivr.net/npm/leaflet%401.4.0/dist/leaflet.js%22%3E%3C/script%3E%0A%20%20%20%20%3Cscript%20src%3D%22https%3A//code.jquery.com/jquery-1.12.4.min.js%22%3E%3C/script%3E%0A%20%20%20%20%3Cscript%20src%3D%22https%3A//maxcdn.bootstrapcdn.com/bootstrap/3.2.0/js/bootstrap.min.js%22%3E%3C/script%3E%0A%20%20%20%20%3Cscript%20src%3D%22https%3A//cdnjs.cloudflare.com/ajax/libs/Leaflet.awesome-markers/2.0.2/leaflet.awesome-markers.js%22%3E%3C/script%3E%0A%20%20%20%20%3Clink%20rel%3D%22stylesheet%22%20href%3D%22https%3A//cdn.jsdelivr.net/npm/leaflet%401.4.0/dist/leaflet.css%22/%3E%0A%20%20%20%20%3Clink%20rel%3D%22stylesheet%22%20href%3D%22https%3A//maxcdn.bootstrapcdn.com/bootstrap/3.2.0/css/bootstrap.min.css%22/%3E%0A%20%20%20%20%3Clink%20rel%3D%22stylesheet%22%20href%3D%22https%3A//maxcdn.bootstrapcdn.com/bootstrap/3.2.0/css/bootstrap-theme.min.css%22/%3E%0A%20%20%20%20%3Clink%20rel%3D%22stylesheet%22%20href%3D%22https%3A//maxcdn.bootstrapcdn.com/font-awesome/4.6.3/css/font-awesome.min.css%22/%3E%0A%20%20%20%20%3Clink%20rel%3D%22stylesheet%22%20href%3D%22https%3A//cdnjs.cloudflare.com/ajax/libs/Leaflet.awesome-markers/2.0.2/leaflet.awesome-markers.css%22/%3E%0A%20%20%20%20%3Clink%20rel%3D%22stylesheet%22%20href%3D%22https%3A//rawcdn.githack.com/python-visualization/folium/master/folium/templates/leaflet.awesome.rotate.css%22/%3E%0A%20%20%20%20%3Cstyle%3Ehtml%2C%20body%20%7Bwidth%3A%20100%25%3Bheight%3A%20100%25%3Bmargin%3A%200%3Bpadding%3A%200%3B%7D%3C/style%3E%0A%20%20%20%20%3Cstyle%3E%23map%20%7Bposition%3Aabsolute%3Btop%3A0%3Bbottom%3A0%3Bright%3A0%3Bleft%3A0%3B%7D%3C/style%3E%0A%20%20%20%20%0A%20%20%20%20%3Cmeta%20name%3D%22viewport%22%20content%3D%22width%3Ddevice-width%2C%0A%20%20%20%20%20%20%20%20initial-scale%3D1.0%2C%20maximum-scale%3D1.0%2C%20user-scalable%3Dno%22%20/%3E%0A%20%20%20%20%3Cstyle%3E%23map_34f83a08fe7f4872a869853ef3265095%20%7B%0A%20%20%20%20%20%20%20%20position%3A%20relative%3B%0A%20%20%20%20%20%20%20%20width%3A%20100.0%25%3B%0A%20%20%20%20%20%20%20%20height%3A%20100.0%25%3B%0A%20%20%20%20%20%20%20%20left%3A%200.0%25%3B%0A%20%20%20%20%20%20%20%20top%3A%200.0%25%3B%0A%20%20%20%20%20%20%20%20%7D%0A%20%20%20%20%3C/style%3E%0A%20%20%20%20%3Cscript%20src%3D%22https%3A//leaflet.github.io/Leaflet.heat/dist/leaflet-heat.js%22%3E%3C/script%3E%0A%3C/head%3E%0A%3Cbody%3E%20%20%20%20%0A%20%20%20%20%0A%20%20%20%20%20%20%20%20%20%20%20%20%20%3Ch3%20align%3D%22center%22%20style%3D%22font-size%3A20px%22%3E%3Cb%3ECrime%20in%20NYC%202021%3C/b%3E%3C/h3%3E%0A%20%20%20%20%20%20%20%20%20%20%20%20%20%0A%20%20%20%20%0A%20%20%20%20%3Cdiv%20class%3D%22folium-map%22%20id%3D%22map_34f83a08fe7f4872a869853ef3265095%22%20%3E%3C/div%3E%0A%3C/body%3E%0A%3Cscript%3E%20%20%20%20%0A%20%20%20%20%0A%20%20%20%20%0A%20%20%20%20%20%20%20%20var%20bounds%20%3D%20null%3B%0A%20%20%20%20%0A%0A%20%20%20%20var%20map_34f83a08fe7f4872a869853ef3265095%20%3D%20L.map%28%0A%20%20%20%20%20%20%20%20%27map_34f83a08fe7f4872a869853ef3265095%27%2C%20%7B%0A%20%20%20%20%20%20%20%20center%3A%20%5B40.73%2C%20-74%5D%2C%0A%20%20%20%20%20%20%20%20zoom%3A%2011%2C%0A%20%20%20%20%20%20%20%20maxBounds%3A%20bounds%2C%0A%20%20%20%20%20%20%20%20layers%3A%20%5B%5D%2C%0A%20%20%20%20%20%20%20%20worldCopyJump%3A%20false%2C%0A%20%20%20%20%20%20%20%20crs%3A%20L.CRS.EPSG3857%2C%0A%20%20%20%20%20%20%20%20zoomControl%3A%20true%2C%0A%20%20%20%20%20%20%20%20%7D%29%3B%0A%0A%0A%20%20%20%20%0A%20%20%20%20var%20tile_layer_a9bb95972a2d4b9b98dd360513df66bf%20%3D%20L.tileLayer%28%0A%20%20%20%20%20%20%20%20%27https%3A//%7Bs%7D.tile.openstreetmap.org/%7Bz%7D/%7Bx%7D/%7By%7D.png%27%2C%0A%20%20%20%20%20%20%20%20%7B%0A%20%20%20%20%20%20%20%20%22attribution%22%3A%20null%2C%0A%20%20%20%20%20%20%20%20%22detectRetina%22%3A%20false%2C%0A%20%20%20%20%20%20%20%20%22maxNativeZoom%22%3A%2018%2C%0A%20%20%20%20%20%20%20%20%22maxZoom%22%3A%2018%2C%0A%20%20%20%20%20%20%20%20%22minZoom%22%3A%200%2C%0A%20%20%20%20%20%20%20%20%22noWrap%22%3A%20false%2C%0A%20%20%20%20%20%20%20%20%22opacity%22%3A%201%2C%0A%20%20%20%20%20%20%20%20%22subdomains%22%3A%20%22abc%22%2C%0A%20%20%20%20%20%20%20%20%22tms%22%3A%20false%0A%7D%29.addTo%28map_34f83a08fe7f4872a869853ef3265095%29%3B%0A%20%20%20%20%0A%20%20%20%20%20%20%20%20%20%20%20%20var%20heat_map_01b0696220cb4a25b68858a6e1d03b1c%20%3D%20L.heatLayer%28%0A%20%20%20%20%20%20%20%20%20%20%20%20%20%20%20%20%5B%5B40.82404000400004%2C%20-73.94475961199998%5D%2C%20%5B40.69843969400005%2C%20-73.83112953899997%5D%2C%20%5B40.814852894000076%2C%20-73.95631335299998%5D%2C%20%5B40.680048726000045%2C%20-73.77590919399995%5D%2C%20%5B40.68406075000007%2C%20-73.97745929199993%5D%2C%20%5B40.82514828500007%2C%20-73.94947035199993%5D%2C%20%5B40.822207280000036%2C%20-73.93087607899997%5D%2C%20%5B40.71634415200003%2C%20-74.00125319299997%5D%2C%20%5B40.58053296400004%2C%20-73.96675902299995%5D%2C%20%5B40.64112356900005%2C%20-74.00371281099996%5D%2C%20%5B40.80855767700007%2C%20-73.95235475399994%5D%2C%20%5B40.713706313000046%2C%20-73.99451129699997%5D%2C%20%5B40.76390985300003%2C%20-73.97118712099996%5D%2C%20%5B40.67459999000005%2C%20-73.93057482199998%5D%2C%20%5B40.83593960600007%2C%20-73.88646598899999%5D%2C%20%5B40.76956124200007%2C%20-73.91536344699995%5D%2C%20%5B40.63733869800007%2C%20-73.95004852899994%5D%2C%20%5B40.79226983800004%2C%20-73.96610798199998%5D%2C%20%5B40.765397475000036%2C%20-73.98570226399994%5D%2C%20%5B40.73381985200007%2C%20-73.87163311999996%5D%2C%20%5B40.57758741600002%2C%20-73.97633607099993%5D%2C%20%5B40.61827241700007%2C%20-73.93209943399995%5D%2C%20%5B40.60712463400005%2C%20-73.97849726899994%5D%2C%20%5B40.75379382400007%2C%20-73.89357207399995%5D%2C%20%5B40.80747335900003%2C%20-73.94579563399995%5D%2C%20%5B40.88733281800006%2C%20-73.84725001299995%5D%2C%20%5B40.72547793600006%2C%20-73.73005585199995%5D%2C%20%5B40.67458330800008%2C%20-73.93022154099998%5D%2C%20%5B40.83420938300002%2C%20-73.85168677499998%5D%2C%20%5B40.71241149700006%2C%20-73.82621729999995%5D%2C%20%5B40.73388303300004%2C%20-74.00542831099993%5D%2C%20%5B40.821931651000064%2C%20-73.86693959599995%5D%2C%20%5B40.85358740100002%2C%20-73.90059135599995%5D%2C%20%5B40.75737941700004%2C%20-73.83401937099995%5D%2C%20%5B40.88852106900004%2C%20-73.86008289799997%5D%2C%20%5B40.87896354700007%2C%20-73.87393483899997%5D%2C%20%5B40.857111270000075%2C%20-73.89110401099998%5D%2C%20%5B40.595398000000046%2C%20-73.99464704499997%5D%2C%20%5B40.79336125700007%2C%20-73.97274177099996%5D%2C%20%5B40.85081043600008%2C%20-73.93173916899997%5D%2C%20%5B40.572071117000064%2C%20-74.09264655999993%5D%2C%20%5B40.75913993600005%2C%20-73.99026621099993%5D%2C%20%5B40.792130892000046%2C%20-73.936172792%5D%2C%20%5B40.72089168400004%2C%20-73.98881793899994%5D%2C%20%5B40.671615114000076%2C%20-73.88454310099996%5D%2C%20%5B40.57622510800008%2C%20-73.98848577499997%5D%2C%20%5B40.73388303300004%2C%20-74.00542831099993%5D%2C%20%5B40.82725326600007%2C%20-73.92404883099994%5D%2C%20%5B40.79605784000006%2C%20-73.96705230699997%5D%2C%20%5B40.649129892000076%2C%20-74.00792598499999%5D%2C%20%5B40.67557588700004%2C%20-74.00726217999993%5D%2C%20%5B40.72906475000008%2C%20-73.81102013199995%5D%2C%20%5B40.645022746000045%2C%20-74.077216847%5D%2C%20%5B40.79382650300005%2C%20-73.94010774199995%5D%2C%20%5B40.675876238000065%2C%20-73.94576198599998%5D%2C%20%5B40.59625634300004%2C%20-73.77912870599994%5D%2C%20%5B40.756327687000066%2C%20-73.83367908799994%5D%2C%20%5B40.765397475000036%2C%20-73.98570226399994%5D%2C%20%5B40.663460155000045%2C%20-73.942762342%5D%2C%20%5B40.688743368000075%2C%20-73.94498708099997%5D%2C%20%5B40.59602728300007%2C%20-73.93960459599998%5D%2C%20%5B40.68703414200007%2C%20-73.98202677399995%5D%2C%20%5B40.67467858200007%2C%20-73.91665550699997%5D%2C%20%5B40.709609866000044%2C%20-73.78891759499999%5D%2C%20%5B40.88459594900007%2C%20-73.90932939299995%5D%2C%20%5B40.84091806300006%2C%20-73.93573927899995%5D%2C%20%5B40.525813871000025%2C%20-74.20735743799997%5D%2C%20%5B40.75058602300004%2C%20-73.87026541099993%5D%2C%20%5B40.75950142700003%2C%20-73.87565895399997%5D%2C%20%5B40.63318389700004%2C%20-74.02037551199999%5D%2C%20%5B40.76524686400006%2C%20-73.82360659499993%5D%2C%20%5B40.66416202000005%2C%20-73.94681681999998%5D%2C%20%5B40.763320339000074%2C%20-73.97371790399995%5D%2C%20%5B40.76672941900005%2C%20-73.91269198599997%5D%2C%20%5B40.891346191000025%2C%20-73.85851809399995%5D%2C%20%5B40.66562077400005%2C%20-73.93837369699997%5D%2C%20%5B40.632641552000045%2C%20-74.01253562699995%5D%2C%20%5B40.701425997000065%2C%20-73.88720358599994%5D%2C%20%5B40.726293088000034%2C%20-73.73476084899994%5D%2C%20%5B40.74807004900003%2C%20-73.86165909499994%5D%2C%20%5B40.80855767700007%2C%20-73.95235475399994%5D%2C%20%5B40.72278734400004%2C%20-73.98134610299998%5D%2C%20%5B40.88733281800006%2C%20-73.84725001299995%5D%2C%20%5B40.81659760700006%2C%20-73.95392416599998%5D%2C%20%5B40.62438850700005%2C%20-73.99423405099995%5D%2C%20%5B40.61171147300007%2C%20-73.74801294199995%5D%2C%20%5B40.814852894000076%2C%20-73.95631335299998%5D%2C%20%5B40.637824229000046%2C%20-74.07968744499993%5D%2C%20%5B40.78953081100008%2C%20-73.93003245799997%5D%2C%20%5B40.750664208000046%2C%20-73.99086657499998%5D%2C%20%5B40.84479164300007%2C%20-73.90846561399997%5D%2C%20%5B40.71140227300003%2C%20-73.98259733599998%5D%2C%20%5B40.885946223000076%2C%20-73.85981345999993%5D%2C%20%5B40.720463840000036%2C%20-74.00685220399998%5D%2C%20%5B40.81216603900003%2C%20-73.94412643699997%5D%2C%20%5B40.81670439000004%2C%20-73.96062579499993%5D%2C%20%5B40.83270471100008%2C%20-73.93862005899997%5D%2C%20%5B40.81039601900005%2C%20-73.92531074499993%5D%2C%20%5B40.80855767700007%2C%20-73.95235475399994%5D%2C%20%5B40.758299326000035%2C%20-73.83430945699997%5D%2C%20%5B40.69978137100002%2C%20-73.78476162399994%5D%2C%20%5B40.642938926000056%2C%20-73.93526331599996%5D%2C%20%5B40.82471222400005%2C%20-73.94427126999993%5D%2C%20%5B40.73388303300004%2C%20-74.00542831099993%5D%2C%20%5B40.79605784000006%2C%20-73.96705230699997%5D%2C%20%5B40.83644685100006%2C%20-73.90401760099995%5D%2C%20%5B40.672410222000046%2C%20-73.90129398999993%5D%2C%20%5B40.88311992000007%2C%20-73.90332096899994%5D%2C%20%5B40.68894718400003%2C%20-73.94647613099994%5D%2C%20%5B40.720463840000036%2C%20-74.00685220399998%5D%2C%20%5B40.67141166300007%2C%20-73.88151172399995%5D%2C%20%5B40.84109492400006%2C%20-73.93792925299994%5D%2C%20%5B40.77667053400006%2C%20-73.96292775599994%5D%2C%20%5B40.84119523700008%2C%20-73.88596550099999%5D%2C%20%5B40.86015882100002%2C%20-73.870731317%5D%2C%20%5B40.74366016900007%2C%20-73.87445791099998%5D%2C%20%5B40.74283378800004%2C%20-73.99842802399995%5D%2C%20%5B40.79362741500006%2C%20-73.97240578999998%5D%2C%20%5B40.63853216900003%2C%20-73.97318694399995%5D%2C%20%5B40.66346923100008%2C%20-73.76847836599995%5D%2C%20%5B40.757361023000044%2C%20-73.80156580699997%5D%2C%20%5B40.765397475000036%2C%20-73.98570226399994%5D%2C%20%5B40.85268238500004%2C%20-73.91909652899994%5D%2C%20%5B40.66979809000002%2C%20-73.94911580699994%5D%2C%20%5B40.82229848500003%2C%20-73.91169413099993%5D%2C%20%5B40.82377925000004%2C%20-73.89992047999993%5D%2C%20%5B40.60094207600008%2C%20-73.76144973899994%5D%2C%20%5B40.67458330800008%2C%20-73.93022154099998%5D%2C%20%5B40.87726828600006%2C%20-73.83354290199999%5D%2C%20%5B40.725426295000034%2C%20-73.99207504799993%5D%2C%20%5B40.70120492000007%2C%20-73.91409056899995%5D%2C%20%5B40.85358740100002%2C%20-73.90059135599995%5D%2C%20%5B40.74885110600008%2C%20-73.86295313999993%5D%2C%20%5B40.67459999000005%2C%20-73.93057482199998%5D%2C%20%5B40.76208146500005%2C%20-73.91868676299998%5D%2C%20%5B40.81286818600006%2C%20-73.96340612899995%5D%2C%20%5B40.63662459600005%2C%20-74.140152071%5D%2C%20%5B40.82236418400004%2C%20-73.91146641999995%5D%2C%20%5B40.720463840000036%2C%20-74.00685220399998%5D%2C%20%5B40.63800631300006%2C%20-74.02135342599996%5D%2C%20%5B40.68502181100007%2C%20-73.91416910799995%5D%2C%20%5B40.60274595100003%2C%20-73.75007786499998%5D%2C%20%5B40.73926803400008%2C%20-73.78499131699994%5D%2C%20%5B40.79884745600003%2C%20-73.95387866199997%5D%2C%20%5B40.55048536700008%2C%20-74.14816491699997%5D%2C%20%5B40.60207069800003%2C%20-74.00269150899999%5D%2C%20%5B40.62601911000007%2C%20-73.92471012099996%5D%2C%20%5B40.83778161800007%2C%20-73.91945797099999%5D%2C%20%5B40.64459027600003%2C%20-74.00190046499995%5D%2C%20%5B40.67141166300007%2C%20-73.88151172399995%5D%2C%20%5B40.72338870300007%2C%20-73.84819940399994%5D%2C%20%5B40.64815525700004%2C%20-74.01083041199999%5D%2C%20%5B40.82229848500003%2C%20-73.91169413099993%5D%2C%20%5B40.703414406000036%2C%20-73.91777731399995%5D%2C%20%5B40.80337107400004%2C%20-73.93711198499993%5D%2C%20%5B40.75211177400007%2C%20-73.87242800499997%5D%2C%20%5B40.69945583800006%2C%20-73.83340983399995%5D%2C%20%5B40.64870676900005%2C%20-73.90513094099998%5D%2C%20%5B40.76015718700007%2C%20-73.76742395499997%5D%2C%20%5B40.71567057300007%2C%20-73.98394174399994%5D%2C%20%5B40.80011206800003%2C%20-73.96798938899997%5D%2C%20%5B40.60207069800003%2C%20-74.00269150899999%5D%2C%20%5B40.74296235400004%2C%20-73.95527424799997%5D%2C%20%5B40.843208496000045%2C%20-73.93820196199994%5D%2C%20%5B40.822198206000046%2C%20-73.86961996799994%5D%2C%20%5B40.82338729100008%2C%20-73.87017045%5D%2C%20%5B40.84289186400008%2C%20-73.88361336099996%5D%2C%20%5B40.59103248900004%2C%20-73.78612750699995%5D%2C%20%5B40.764692670000045%2C%20-73.99178879999994%5D%2C%20%5B40.86946758700003%2C%20-73.85359312699995%5D%2C%20%5B40.66109683900004%2C%20-73.91970373499998%5D%2C%20%5B40.87780694200006%2C%20-73.86805001999993%5D%2C%20%5B40.81608766100004%2C%20-73.89582435399994%5D%2C%20%5B40.684888145000045%2C%20-73.92310404899997%5D%2C%20%5B40.81477027000005%2C%20-73.92403056199998%5D%2C%20%5B40.62988541300007%2C%20-73.94739534199994%5D%2C%20%5B40.63688682200007%2C%20-73.92639128899998%5D%2C%20%5B40.720463840000036%2C%20-74.00685220399998%5D%2C%20%5B40.696357662000025%2C%20-73.83011423999993%5D%2C%20%5B40.62851560000007%2C%20-73.94138369799998%5D%2C%20%5B40.649762797000044%2C%20-74.01803454299994%5D%2C%20%5B40.88733281800006%2C%20-73.84725001299995%5D%2C%20%5B40.693798958000045%2C%20-73.79289472399995%5D%2C%20%5B40.756594678000056%2C%20-73.87560301799994%5D%2C%20%5B40.816391847000034%2C%20-73.89529641399997%5D%2C%20%5B40.84378786800004%2C%20-73.90946452699995%5D%2C%20%5B40.753464076000064%2C%20-73.99439974299997%5D%2C%20%5B40.737082284000046%2C%20-73.98296229999994%5D%2C%20%5B40.83023069100005%2C%20-73.90149349599994%5D%2C%20%5B40.688743368000075%2C%20-73.94498708099997%5D%2C%20%5B40.68388091100008%2C%20-73.90825381499997%5D%2C%20%5B40.803429633000064%2C%20-73.95705409699997%5D%2C%20%5B40.81331875300003%2C%20-73.90943733499995%5D%2C%20%5B40.67110691100004%2C%20-73.88143295699997%5D%2C%20%5B40.67141166300007%2C%20-73.88151172399995%5D%2C%20%5B40.740160295000074%2C%20-73.99480502599994%5D%2C%20%5B40.62413916500003%2C%20-74.13267977799995%5D%2C%20%5B40.70451983100002%2C%20-73.89347040299998%5D%2C%20%5B40.81881540500007%2C%20-73.95408520999997%5D%2C%20%5B40.710917489000046%2C%20-73.99202987999998%5D%2C%20%5B40.81418945400002%2C%20-73.90677724599993%5D%2C%20%5B40.70030215500003%2C%20-73.80760338%5D%2C%20%5B40.65001137600007%2C%20-73.83153320699995%5D%2C%20%5B40.793358510000076%2C%20-73.97273454899994%5D%2C%20%5B40.753464076000064%2C%20-73.99439974299997%5D%2C%20%5B40.82229848500003%2C%20-73.91169413099993%5D%2C%20%5B40.75709455700007%2C%20-73.94184447299993%5D%2C%20%5B40.64422517400004%2C%20-73.88208610299995%5D%2C%20%5B40.710915844000056%2C%20-73.95164542099997%5D%2C%20%5B40.88662243700002%2C%20-73.90701925199994%5D%2C%20%5B40.672478867000045%2C%20-73.79986805799997%5D%2C%20%5B40.81196574300003%2C%20-73.92081139399994%5D%2C%20%5B40.804694598000026%2C%20-73.93815825199994%5D%2C%20%5B40.67998073800004%2C%20-73.77623390699993%5D%2C%20%5B40.82614244500007%2C%20-73.95079567399995%5D%2C%20%5B40.86940749200004%2C%20-73.87999831299999%5D%2C%20%5B40.677605279000026%2C%20-73.82821877999999%5D%2C%20%5B40.85284199500006%2C%20-73.88417430999993%5D%2C%20%5B40.79296572700008%2C%20-73.94796350499998%5D%2C%20%5B40.80506560400005%2C%20-73.93903565799998%5D%2C%20%5B40.88459594900007%2C%20-73.90932939299995%5D%2C%20%5B40.855802743000034%2C%20-73.84390995399998%5D%2C%20%5B40.82769753600007%2C%20-73.87610243299997%5D%2C%20%5B40.810312698000075%2C%20-73.91976936899994%5D%2C%20%5B40.66696955500004%2C%20-73.87531958199997%5D%2C%20%5B40.87049603600008%2C%20-73.90208828999994%5D%2C%20%5B40.848701366000064%2C%20-73.90328062999998%5D%2C%20%5B40.673925161000064%2C%20-73.87311470999998%5D%2C%20%5B40.66416202000005%2C%20-73.94681681999998%5D%2C%20%5B40.74957445600006%2C%20-73.87385847499998%5D%2C%20%5B40.81514311300003%2C%20-73.81636455499995%5D%2C%20%5B40.77851795200007%2C%20-73.77631440599998%5D%2C%20%5B40.586231405000035%2C%20-73.81601112099996%5D%2C%20%5B40.80176203400004%2C%20-73.931204327%5D%2C%20%5B40.67998073800004%2C%20-73.77623390699993%5D%2C%20%5B40.804694598000026%2C%20-73.93815825199994%5D%2C%20%5B40.81421532000007%2C%20-73.82696301599998%5D%2C%20%5B40.753464076000064%2C%20-73.99439974299997%5D%2C%20%5B40.728615975000025%2C%20-74.00005917499993%5D%2C%20%5B40.65553848200005%2C%20-73.88409879299998%5D%2C%20%5B40.586231405000035%2C%20-73.81601112099996%5D%2C%20%5B40.68175622500007%2C%20-73.95359188299993%5D%2C%20%5B40.587663570000075%2C%20-73.81055977899997%5D%2C%20%5B40.84091806300006%2C%20-73.93573927899995%5D%2C%20%5B40.74695102800007%2C%20-73.89050092199994%5D%2C%20%5B40.687215464000076%2C%20-73.81797166799998%5D%2C%20%5B40.76255336600008%2C%20-73.96893877799994%5D%2C%20%5B40.804384046000045%2C%20-73.93742166899995%5D%2C%20%5B40.722797981000035%2C%20-73.85195635699995%5D%2C%20%5B40.74403988300003%2C%20-73.85868295099993%5D%2C%20%5B40.87216165000007%2C%20-73.86614123499999%5D%2C%20%5B40.68078561300007%2C%20-73.97447511599995%5D%2C%20%5B40.645022746000045%2C%20-74.077216847%5D%2C%20%5B40.762043893000055%2C%20-73.82732958099997%5D%2C%20%5B40.79651171500007%2C%20-73.936594771%5D%2C%20%5B40.68133673700004%2C%20-73.836653132%5D%2C%20%5B40.838778865000045%2C%20-73.86470137399994%5D%2C%20%5B40.67126895600006%2C%20-73.89570808199994%5D%2C%20%5B40.680048726000045%2C%20-73.77590919399995%5D%2C%20%5B40.73927925700008%2C%20-73.99544742099994%5D%2C%20%5B40.75927784000004%2C%20-73.71894544299995%5D%2C%20%5B40.74682740600008%2C%20-74.00108775399997%5D%2C%20%5B40.82338729100008%2C%20-73.87017045%5D%2C%20%5B40.753464076000064%2C%20-73.99439974299997%5D%2C%20%5B40.595177902000046%2C%20-73.79252725699997%5D%2C%20%5B40.68015778400007%2C%20-73.94512395699995%5D%2C%20%5B40.70227340600008%2C%20-74.01587398599996%5D%2C%20%5B40.68589451700007%2C%20-73.82639457699997%5D%2C%20%5B40.839240603000064%2C%20-73.94554568499996%5D%2C%20%5B40.80855767700007%2C%20-73.95235475399994%5D%2C%20%5B40.88996632900006%2C%20-73.83430317899997%5D%2C%20%5B40.82575863200003%2C%20-73.85842629899997%5D%2C%20%5B40.84194638500002%2C%20-73.93905607299997%5D%2C%20%5B40.67740670300003%2C%20-74.006397124%5D%2C%20%5B40.670049867000046%2C%20-73.93657079299999%5D%2C%20%5B40.58898517400007%2C%20-73.80642989599994%5D%2C%20%5B40.83286256300004%2C%20-73.88624357899994%5D%2C%20%5B40.81232435900005%2C%20-73.90841995099998%5D%2C%20%5B40.886444002000076%2C%20-73.85615605699995%5D%2C%20%5B40.858376975000056%2C%20-73.90391003799994%5D%2C%20%5B40.867041810000046%2C%20-73.84764732699995%5D%2C%20%5B40.747095184000045%2C%20-73.88912565399994%5D%2C%20%5B40.669485070000064%2C%20-73.91996760299999%5D%2C%20%5B40.73398976300007%2C%20-73.98988740399994%5D%2C%20%5B40.716195914000025%2C%20-73.99749074599998%5D%2C%20%5B40.89538420400004%2C%20-73.86355891299998%5D%2C%20%5B40.765397475000036%2C%20-73.98570226399994%5D%2C%20%5B40.678875265000045%2C%20-73.74864246899993%5D%2C%20%5B40.595398000000046%2C%20-73.99464704499997%5D%2C%20%5B40.84628840200002%2C%20-73.90959846999993%5D%2C%20%5B40.88733281800006%2C%20-73.84725001299995%5D%2C%20%5B40.67459999000005%2C%20-73.93057482199998%5D%2C%20%5B40.79605784000006%2C%20-73.96705230699997%5D%2C%20%5B40.88576606700008%2C%20-73.91045615599995%5D%2C%20%5B40.80370796300008%2C%20-73.93581854499998%5D%2C%20%5B40.67141166300007%2C%20-73.88151172399995%5D%2C%20%5B40.68888229000004%2C%20-73.87140231499995%5D%2C%20%5B40.680048726000045%2C%20-73.77590919399995%5D%2C%20%5B40.758759600000076%2C%20-73.97868294999995%5D%2C%20%5B40.638667594000026%2C%20-74.02246340399995%5D%2C%20%5B40.83103446900003%2C%20-73.87298855899995%5D%2C%20%5B40.85232375800007%2C%20-73.92043079399998%5D%2C%20%5B40.68218640100008%2C%20-73.83969048299997%5D%2C%20%5B40.796571143000044%2C%20-73.96718568699998%5D%2C%20%5B40.85396027400003%2C%20-73.90012087499997%5D%2C%20%5B40.67864264400004%2C%20-73.867542755%5D%2C%20%5B40.67111083400005%2C%20-73.91356336299998%5D%2C%20%5B40.76039613900008%2C%20-73.76750253499995%5D%2C%20%5B40.75737941700004%2C%20-73.83401937099995%5D%2C%20%5B40.80855767700007%2C%20-73.95235475399994%5D%2C%20%5B40.67889242800004%2C%20-73.75923485099996%5D%2C%20%5B40.75767544700005%2C%20-73.82269537399995%5D%2C%20%5B40.586231405000035%2C%20-73.81601112099996%5D%2C%20%5B40.80116342600007%2C%20-73.95964892799998%5D%2C%20%5B40.768416383000044%2C%20-73.91131430299998%5D%2C%20%5B40.81537620200004%2C%20-73.94177548299997%5D%2C%20%5B40.726293088000034%2C%20-73.73476084899994%5D%2C%20%5B40.71351503600005%2C%20-73.97844130799997%5D%2C%20%5B40.82415372600008%2C%20-73.87575132499995%5D%2C%20%5B40.83739247600005%2C%20-73.91645167499998%5D%2C%20%5B40.63696282800004%2C%20-74.11755084999999%5D%2C%20%5B40.69323301900005%2C%20-73.99292630299993%5D%2C%20%5B40.57902207600006%2C%20-73.83684576099995%5D%2C%20%5B40.815095246000055%2C%20-73.82439932599993%5D%2C%20%5B40.757240531000036%2C%20-73.98979363699993%5D%2C%20%5B40.558895005000075%2C%20-74.19769644699994%5D%2C%20%5B40.86940749200004%2C%20-73.87999831299999%5D%2C%20%5B40.69843969400005%2C%20-73.83112953899997%5D%2C%20%5B40.69414199700003%2C%20-73.97599900399997%5D%2C%20%5B40.636916327000044%2C%20-74.16822403899994%5D%2C%20%5B40.79897077700008%2C%20-73.94137447199995%5D%2C%20%5B40.746495373000066%2C%20-73.92467863299998%5D%2C%20%5B40.75614127500006%2C%20-73.96760625499998%5D%2C%20%5B40.70151114400005%2C%20-73.85535049499998%5D%2C%20%5B40.756594678000056%2C%20-73.87560301799994%5D%2C%20%5B40.663875596000025%2C%20-73.90001260299994%5D%2C%20%5B40.71595711700007%2C%20-73.997353676%5D%2C%20%5B40.632575541000044%2C%20-74.13126263199997%5D%2C%20%5B40.586231405000035%2C%20-73.81601112099996%5D%2C%20%5B40.59382012200007%2C%20-73.95035473699994%5D%2C%20%5B40.737203099000055%2C%20-73.98327259799999%5D%2C%20%5B40.70580384600004%2C%20-74.00986595399995%5D%2C%20%5B40.63068215900006%2C%20-73.97355396999995%5D%2C%20%5B40.82069625100007%2C%20-73.90904070399995%5D%2C%20%5B40.68437614000004%2C%20-73.950373857%5D%2C%20%5B40.65799306600008%2C%20-74.00069344599996%5D%2C%20%5B40.74754387900003%2C%20-73.88485542499996%5D%2C%20%5B40.68679855100004%2C%20-73.91534589799994%5D%2C%20%5B40.68072088400004%2C%20-73.79954407299994%5D%2C%20%5B40.88733281800006%2C%20-73.84725001299995%5D%2C%20%5B40.85191198100006%2C%20-73.91644789699995%5D%2C%20%5B40.80603127300003%2C%20-73.95609879899997%5D%2C%20%5B40.75686097700003%2C%20-73.87565666399995%5D%2C%20%5B40.65152183500004%2C%20-73.935204534%5D%2C%20%5B40.847891533000045%2C%20-73.78673300099996%5D%2C%20%5B40.74664995000006%2C%20-73.89139283499998%5D%2C%20%5B40.68459767400003%2C%20-73.98913050199997%5D%2C%20%5B40.69843969400005%2C%20-73.83112953899997%5D%2C%20%5B40.71417997700007%2C%20-73.76220239299995%5D%2C%20%5B40.71567057300007%2C%20-73.98394174399994%5D%2C%20%5B40.804384046000045%2C%20-73.93742166899995%5D%2C%20%5B40.675582879000046%2C%20-73.86574626299995%5D%2C%20%5B40.849963054000064%2C%20-73.90224140899994%5D%2C%20%5B40.737082284000046%2C%20-73.98296229999994%5D%2C%20%5B40.76786851900005%2C%20-73.96407706599996%5D%2C%20%5B40.82338729100008%2C%20-73.87017045%5D%2C%20%5B40.75679820100004%2C%20-73.97111078699999%5D%2C%20%5B40.672372851000034%2C%20-74.00508083199999%5D%2C%20%5B40.82867545800008%2C%20-73.94398971599996%5D%2C%20%5B40.829952373000026%2C%20-73.93005138299998%5D%2C%20%5B40.729120515000034%2C%20-74.01067399699998%5D%2C%20%5B40.77984350400004%2C%20-73.95533974699998%5D%2C%20%5B40.71815279100008%2C%20-73.99382912599998%5D%2C%20%5B40.72628948700003%2C%20-73.98033491899997%5D%2C%20%5B40.809970985000064%2C%20-73.91782630099993%5D%2C%20%5B40.753764217000025%2C%20-73.82632598299993%5D%2C%20%5B40.75269936900003%2C%20-73.70603737599998%5D%2C%20%5B40.74500029700005%2C%20-73.87012832399995%5D%2C%20%5B40.610844419000045%2C%20-73.92249781999993%5D%2C%20%5B40.83406892500005%2C%20-73.87954528799997%5D%2C%20%5B40.78713453900008%2C%20-73.944999678%5D%2C%20%5B40.66882551000003%2C%20-73.91880765899998%5D%2C%20%5B40.810920377000045%2C%20-73.94504504699995%5D%2C%20%5B40.68060193900004%2C%20-73.84314827399999%5D%2C%20%5B40.762043893000055%2C%20-73.82732958099997%5D%2C%20%5B40.66245192500002%2C%20-73.98197932899996%5D%2C%20%5B40.81659760700006%2C%20-73.95392416599998%5D%2C%20%5B40.67998073800004%2C%20-73.77623390699993%5D%2C%20%5B40.66487843300007%2C%20-73.94122918999993%5D%2C%20%5B40.688706258000025%2C%20-73.94207719699995%5D%2C%20%5B40.68239828900005%2C%20-73.84007936899997%5D%2C%20%5B40.70629036500002%2C%20-73.95035033099998%5D%2C%20%5B40.82759078500004%2C%20-73.89582802499997%5D%2C%20%5B40.819702045000035%2C%20-73.90160301699996%5D%2C%20%5B40.76956124200007%2C%20-73.91536344699995%5D%2C%20%5B40.753464076000064%2C%20-73.99439974299997%5D%2C%20%5B40.73388303300004%2C%20-74.00542831099993%5D%2C%20%5B40.66305108200004%2C%20-73.76396341899994%5D%2C%20%5B40.57758741600002%2C%20-73.97633607099993%5D%2C%20%5B40.71634415200003%2C%20-74.00125319299997%5D%2C%20%5B40.82434298300007%2C%20-73.95337682399997%5D%2C%20%5B40.586231405000035%2C%20-73.81601112099996%5D%2C%20%5B40.730358248000066%2C%20-73.88689843999998%5D%2C%20%5B40.839802528000064%2C%20-73.86696167799995%5D%2C%20%5B40.757989139000074%2C%20-73.98365360499997%5D%2C%20%5B40.68389579800004%2C%20-73.79137507499998%5D%2C%20%5B40.58787986600004%2C%20-73.80857534199998%5D%2C%20%5B40.67459999000005%2C%20-73.93057482199998%5D%2C%20%5B40.78934789300007%2C%20-73.94735241299998%5D%2C%20%5B40.69590304600007%2C%20-73.91929037599994%5D%2C%20%5B40.84725621200005%2C%20-73.93685724499993%5D%2C%20%5B40.66496091700003%2C%20-73.92287830599996%5D%2C%20%5B40.63671443100003%2C%20-74.145174894%5D%2C%20%5B40.85345024200007%2C%20-73.89153654899997%5D%2C%20%5B40.763522977000044%2C%20-73.98707442499993%5D%2C%20%5B40.88311992000007%2C%20-73.90332096899994%5D%2C%20%5B40.767117864000056%2C%20-73.98171996799994%5D%2C%20%5B40.61825401700002%2C%20-74.00240039699997%5D%2C%20%5B40.75201086000004%2C%20-73.93587196099996%5D%2C%20%5B40.732618210000055%2C%20-73.84943404099994%5D%2C%20%5B40.716195914000025%2C%20-73.99749074599998%5D%2C%20%5B40.814852894000076%2C%20-73.95631335299998%5D%2C%20%5B40.618097381000034%2C%20-73.993096354%5D%2C%20%5B40.654866766000055%2C%20-73.93845571099996%5D%2C%20%5B40.644981504000036%2C%20-74.07732129999994%5D%2C%20%5B40.74500029700005%2C%20-73.87012832399995%5D%2C%20%5B40.80706319500007%2C%20-73.92013089799997%5D%2C%20%5B40.846705615000076%2C%20-73.86472139499993%5D%2C%20%5B40.74877577400008%2C%20-73.91235099599999%5D%2C%20%5B40.64367884300003%2C%20-74.00643352699996%5D%2C%20%5B40.82756516300003%2C%20-73.91476211799994%5D%2C%20%5B40.623226819000074%2C%20-74.14922697299994%5D%2C%20%5B40.643371226000056%2C%20-74.08753865699998%5D%2C%20%5B40.66416202000005%2C%20-73.94681681999998%5D%2C%20%5B40.84844783200003%2C%20-73.92390535299995%5D%2C%20%5B40.81354743000002%2C%20-73.95909952999993%5D%2C%20%5B40.69453246300003%2C%20-73.83016576999995%5D%2C%20%5B40.80557089600006%2C%20-73.92547148199995%5D%2C%20%5B40.676404225000056%2C%20-73.91186927899997%5D%2C%20%5B40.645022746000045%2C%20-74.077216847%5D%2C%20%5B40.653214329000036%2C%20-73.92043040299995%5D%2C%20%5B40.87388560100004%2C%20-73.90521465599994%5D%2C%20%5B40.729939364000074%2C%20-73.81043314199997%5D%2C%20%5B40.826946459000055%2C%20-73.93892166499995%5D%2C%20%5B40.678298324000025%2C%20-73.82913273699995%5D%2C%20%5B40.76435837700007%2C%20-73.82594458199995%5D%2C%20%5B40.65141629700002%2C%20-73.84088160599998%5D%2C%20%5B40.71308875600005%2C%20-73.964074123%5D%2C%20%5B40.74970646600008%2C%20-73.99342558899998%5D%2C%20%5B40.67005407200002%2C%20-73.92117453999998%5D%2C%20%5B40.707447364000075%2C%20-73.79214176799998%5D%2C%20%5B40.84283850100008%2C%20-73.93921789399997%5D%2C%20%5B40.63522503300004%2C%20-74.106641643%5D%2C%20%5B40.70891470600003%2C%20-73.93456803099998%5D%2C%20%5B40.661093607000055%2C%20-73.90805447599996%5D%2C%20%5B40.658407139000076%2C%20-73.91997007999998%5D%2C%20%5B40.62851560000007%2C%20-73.94138369799998%5D%2C%20%5B40.851111636000034%2C%20-73.93525591199995%5D%2C%20%5B40.68251795800006%2C%20-73.976316867%5D%2C%20%5B40.71516318900007%2C%20-73.98709822999997%5D%2C%20%5B40.784507365000024%2C%20-73.97548255699995%5D%2C%20%5B40.68239828900005%2C%20-73.84007936899997%5D%2C%20%5B40.707447364000075%2C%20-73.79214176799998%5D%2C%20%5B40.85358740100002%2C%20-73.90059135599995%5D%2C%20%5B40.78787459900008%2C%20-73.92818164599998%5D%2C%20%5B40.62892923200008%2C%20-73.93474371899998%5D%2C%20%5B40.68239828900005%2C%20-73.84007936899997%5D%2C%20%5B40.66416202000005%2C%20-73.94681681999998%5D%2C%20%5B40.66359452300003%2C%20-73.90191619299998%5D%2C%20%5B40.770794342000045%2C%20-73.93314615799993%5D%2C%20%5B40.64521822200004%2C%20-74.01200106999994%5D%2C%20%5B40.64870676900005%2C%20-73.90513094099998%5D%2C%20%5B40.82809705700004%2C%20-73.94552228399994%5D%2C%20%5B40.76970718100006%2C%20-73.932728463%5D%2C%20%5B40.844139945000045%2C%20-73.90038861799998%5D%2C%20%5B40.596671702000044%2C%20-73.95646689799997%5D%2C%20%5B40.74470568300006%2C%20-73.99706743499998%5D%2C%20%5B40.54922148000002%2C%20-74.19974045999999%5D%2C%20%5B40.757317199000056%2C%20-73.98788055999995%5D%2C%20%5B40.80837413600005%2C%20-73.94688582299993%5D%2C%20%5B40.816174595000064%2C%20-73.94679289199999%5D%2C%20%5B40.684334558000046%2C%20-74.00549999299993%5D%2C%20%5B40.76117915400005%2C%20-73.83093437599996%5D%2C%20%5B40.57758741600002%2C%20-73.97633607099993%5D%2C%20%5B40.85358740100002%2C%20-73.90059135599995%5D%2C%20%5B40.66713587700008%2C%20-73.86697804199997%5D%2C%20%5B40.64886713300007%2C%20-73.95082189999994%5D%2C%20%5B40.68499714200004%2C%20-73.78874310999998%5D%2C%20%5B40.64855438400008%2C%20-73.89709136099998%5D%2C%20%5B40.78673189800003%2C%20-73.94113246799998%5D%2C%20%5B40.75627543400003%2C%20-73.94501432899995%5D%2C%20%5B40.86651330300003%2C%20-73.89263242799996%5D%2C%20%5B40.72845057200004%2C%20-73.87115638299997%5D%2C%20%5B40.659596683000075%2C%20-73.74775997499995%5D%2C%20%5B40.72236368700004%2C%20-73.85147389399998%5D%2C%20%5B40.720335773000045%2C%20-73.97847517799994%5D%2C%20%5B40.76956124200007%2C%20-73.91536344699995%5D%2C%20%5B40.753464076000064%2C%20-73.99439974299997%5D%2C%20%5B40.750430768000044%2C%20-73.98928217599996%5D%2C%20%5B40.680508417000055%2C%20-73.97459780599996%5D%2C%20%5B40.693445193000045%2C%20-73.97782754699995%5D%2C%20%5B40.623226819000074%2C%20-74.14922697299994%5D%2C%20%5B40.88215697200008%2C%20-73.83191415899995%5D%2C%20%5B40.847446697000066%2C%20-73.89967161999994%5D%2C%20%5B40.680048726000045%2C%20-73.77590919399995%5D%2C%20%5B40.849456428000046%2C%20-73.921728235%5D%2C%20%5B40.78740345600005%2C%20-73.97742791999997%5D%2C%20%5B40.80029049500007%2C%20-73.95934244699998%5D%2C%20%5B40.65577085600006%2C%20-73.86325607899995%5D%2C%20%5B40.71815279100008%2C%20-73.99382912599998%5D%2C%20%5B40.70629036500002%2C%20-73.95035033099998%5D%2C%20%5B40.858765776000034%2C%20-73.86465348399997%5D%2C%20%5B40.67574726200007%2C%20-73.92193931099996%5D%2C%20%5B40.74500029700005%2C%20-73.87012832399995%5D%2C%20%5B40.680048726000045%2C%20-73.77590919399995%5D%2C%20%5B40.82042838300004%2C%20-73.87008228499997%5D%2C%20%5B40.79578013900005%2C%20-73.96540192499998%5D%2C%20%5B40.86940749200004%2C%20-73.87999831299999%5D%2C%20%5B40.77391474400008%2C%20-73.98878015399998%5D%2C%20%5B40.81636941200002%2C%20-73.89180652199997%5D%2C%20%5B40.73392684100002%2C%20-73.87158239799999%5D%2C%20%5B40.723091625000045%2C%20-73.95875097699997%5D%2C%20%5B40.80837413600005%2C%20-73.94688582299993%5D%2C%20%5B40.68271257600002%2C%20-73.87188653499999%5D%2C%20%5B40.72628777500006%2C%20-73.98779600499995%5D%2C%20%5B40.632581505000076%2C%20-73.99108448899995%5D%2C%20%5B40.762043893000055%2C%20-73.82732958099997%5D%2C%20%5B40.62118548700005%2C%20-73.96449461199995%5D%2C%20%5B40.861354575000064%2C%20-73.86748615299997%5D%2C%20%5B40.80343750500003%2C%20-73.95609328499995%5D%2C%20%5B40.51158633800003%2C%20-74.24930372699998%5D%2C%20%5B40.68437614000004%2C%20-73.950373857%5D%2C%20%5B40.817217733000064%2C%20-73.95347213499997%5D%2C%20%5B40.643595565000055%2C%20-73.95362563099997%5D%2C%20%5B40.77076177400005%2C%20-73.95694158199996%5D%2C%20%5B40.694452556000044%2C%20-73.97800030799993%5D%2C%20%5B40.72249497400002%2C%20-73.851116441%5D%2C%20%5B40.72628777500006%2C%20-73.98779600499995%5D%2C%20%5B40.70782816400003%2C%20-73.78723882099996%5D%2C%20%5B40.726502488000044%2C%20-74.00235018199999%5D%2C%20%5B40.816391847000034%2C%20-73.89529641399997%5D%2C%20%5B40.70959980200007%2C%20-73.81497445999997%5D%2C%20%5B40.716400613000076%2C%20-73.98347261399994%5D%2C%20%5B40.68011986800008%2C%20-73.92220459599997%5D%2C%20%5B40.57758741600002%2C%20-73.97633607099993%5D%2C%20%5B40.76930608700008%2C%20-73.91550817999997%5D%2C%20%5B40.715594426000045%2C%20-73.83295826599993%5D%2C%20%5B40.77485969700007%2C%20-73.93383168399998%5D%2C%20%5B40.698317848000045%2C%20-73.98176046799993%5D%2C%20%5B40.67998073800004%2C%20-73.77623390699993%5D%2C%20%5B40.57758741600002%2C%20-73.97633607099993%5D%2C%20%5B40.72249497400002%2C%20-73.851116441%5D%2C%20%5B40.762043893000055%2C%20-73.82732958099997%5D%2C%20%5B40.65256130700004%2C%20-73.92077355199996%5D%2C%20%5B40.68701420900004%2C%20-73.80568018599996%5D%2C%20%5B40.67459999000005%2C%20-73.93057482199998%5D%2C%20%5B40.64011203600006%2C%20-73.91460881299997%5D%2C%20%5B40.58989372800004%2C%20-73.80807989899995%5D%2C%20%5B40.67111083400005%2C%20-73.91356336299998%5D%2C%20%5B40.65029020700007%2C%20-73.94179701999997%5D%2C%20%5B40.76187469000007%2C%20-73.96635808399995%5D%2C%20%5B40.68703414200007%2C%20-73.98202677399995%5D%2C%20%5B40.880666475000055%2C%20-73.87761657599998%5D%2C%20%5B40.67141166300007%2C%20-73.88151172399995%5D%2C%20%5B40.81698564800007%2C%20-73.84701407099993%5D%2C%20%5B40.665385170000036%2C%20-73.93422504099993%5D%2C%20%5B40.69406668300008%2C%20-73.90151796499998%5D%2C%20%5B40.572857425000045%2C%20-73.990584916%5D%2C%20%5B40.71184274700005%2C%20-73.99912852899995%5D%2C%20%5B40.72045033300003%2C%20-73.97491447999995%5D%2C%20%5B40.86940749200004%2C%20-73.87999831299999%5D%2C%20%5B40.81608766100004%2C%20-73.89582435399994%5D%2C%20%5B40.74296235400004%2C%20-73.95527424799997%5D%2C%20%5B40.68822079700004%2C%20-73.91981169999997%5D%2C%20%5B40.807674105000046%2C%20-73.95291167699997%5D%2C%20%5B40.58879135300003%2C%20-73.81713100999998%5D%2C%20%5B40.718921358000046%2C%20-73.964024082%5D%2C%20%5B40.86284715100004%2C%20-73.899579697%5D%2C%20%5B40.726293088000034%2C%20-73.73476084899994%5D%2C%20%5B40.74136484500008%2C%20-73.98912845999998%5D%2C%20%5B40.678878851000036%2C%20-73.92164721999995%5D%2C%20%5B40.70057551000008%2C%20-73.91294812399997%5D%2C%20%5B40.83382547300005%2C%20-73.86777225999998%5D%2C%20%5B40.82338729100008%2C%20-73.87017045%5D%2C%20%5B40.67694665100004%2C%20-73.92182614599994%5D%2C%20%5B40.67436409100002%2C%20-73.76751404099997%5D%2C%20%5B40.753464076000064%2C%20-73.99439974299997%5D%2C%20%5B40.68406075000007%2C%20-73.97745929199993%5D%2C%20%5B40.59932607300004%2C%20-74.06125830999997%5D%2C%20%5B40.684711083000025%2C%20-73.75262994399995%5D%2C%20%5B40.737472885000045%2C%20-73.99022968099996%5D%2C%20%5B40.87367103500002%2C%20-73.90801364899994%5D%2C%20%5B40.71058672000004%2C%20-73.95938994399995%5D%2C%20%5B40.737082284000046%2C%20-73.98296229999994%5D%2C%20%5B40.586846912000055%2C%20-73.81643066599996%5D%2C%20%5B40.61827918500006%2C%20-73.95766669299998%5D%2C%20%5B40.63093901600007%2C%20-73.91847906599996%5D%2C%20%5B40.89260104900006%2C%20-73.85023994099998%5D%2C%20%5B40.78169762500005%2C%20-73.84366480799997%5D%2C%20%5B40.69536744700008%2C%20-73.98324342499996%5D%2C%20%5B40.83778161800007%2C%20-73.91945797099999%5D%2C%20%5B40.792370809000026%2C%20-73.96417580099995%5D%2C%20%5B40.86893213900004%2C%20-73.90277394399999%5D%2C%20%5B40.831969085000026%2C%20-73.90265811699999%5D%2C%20%5B40.69450249200002%2C%20-73.93082816599998%5D%2C%20%5B40.75709455700007%2C%20-73.94184447299993%5D%2C%20%5B40.68112594000007%2C%20-73.97436682299997%5D%2C%20%5B40.69086637500004%2C%20-73.98584805699994%5D%2C%20%5B40.67141166300007%2C%20-73.88151172399995%5D%2C%20%5B40.69974268200008%2C%20-73.91142368699997%5D%2C%20%5B40.70546240200008%2C%20-73.91093638899997%5D%2C%20%5B40.71241149700006%2C%20-73.82621729999995%5D%2C%20%5B40.57900240600002%2C%20-73.98468018299997%5D%2C%20%5B40.75238791700008%2C%20-73.97327466399997%5D%2C%20%5B40.810398494000026%2C%20-73.92489531099994%5D%2C%20%5B40.60269654900002%2C%20-73.93355215099997%5D%2C%20%5B40.771608644000025%2C%20-73.91512617399997%5D%2C%20%5B40.696183373000046%2C%20-73.79707057399997%5D%2C%20%5B40.810048839000046%2C%20-73.91541672299998%5D%2C%20%5B40.78934789300007%2C%20-73.94735241299998%5D%2C%20%5B40.799232486000044%2C%20-73.93305619799997%5D%2C%20%5B40.81428694400006%2C%20-73.92364455999996%5D%2C%20%5B40.67110691100004%2C%20-73.88143295699997%5D%2C%20%5B40.84283850100008%2C%20-73.93921789399997%5D%2C%20%5B40.726293088000034%2C%20-73.73476084899994%5D%2C%20%5B40.80208483900003%2C%20-73.93406468499995%5D%2C%20%5B40.720463840000036%2C%20-74.00685220399998%5D%2C%20%5B40.57758741600002%2C%20-73.97633607099993%5D%2C%20%5B40.716195914000025%2C%20-73.99749074599998%5D%2C%20%5B40.83046481000007%2C%20-73.89926360299995%5D%2C%20%5B40.72628777500006%2C%20-73.98779600499995%5D%2C%20%5B40.87849108700004%2C%20-73.86163001599994%5D%2C%20%5B40.83072232800004%2C%20-73.82712605899997%5D%2C%20%5B40.67141166300007%2C%20-73.88151172399995%5D%2C%20%5B40.73817137200007%2C%20-73.86075225699994%5D%2C%20%5B40.838751870000074%2C%20-73.91375755599995%5D%2C%20%5B40.751169074000074%2C%20-73.98895722599997%5D%2C%20%5B40.82010581400005%2C%20-73.95507788499998%5D%2C%20%5B40.81569533200008%2C%20-73.92846231799997%5D%2C%20%5B40.68112594000007%2C%20-73.97436682299997%5D%2C%20%5B40.737082284000046%2C%20-73.98296229999994%5D%2C%20%5B40.68239828900005%2C%20-73.84007936899997%5D%2C%20%5B40.784066351000035%2C%20-73.84987018699995%5D%2C%20%5B40.77208140900007%2C%20-73.84466940099996%5D%2C%20%5B40.85386605000008%2C%20-73.88722703099995%5D%2C%20%5B40.82725326600007%2C%20-73.92404883099994%5D%2C%20%5B40.76690500600006%2C%20-73.96373101899997%5D%2C%20%5B40.800880893000055%2C%20-73.94095380699997%5D%2C%20%5B40.67430937100005%2C%20-73.98202659799993%5D%2C%20%5B40.751449370000046%2C%20-73.97396079599997%5D%2C%20%5B40.65940291600003%2C%20-73.73128196699997%5D%2C%20%5B40.74957445600006%2C%20-73.87385847499998%5D%2C%20%5B40.66785360700004%2C%20-73.94651468599994%5D%2C%20%5B40.71567057300007%2C%20-73.98394174399994%5D%2C%20%5B40.87764149000003%2C%20-73.86737775499995%5D%2C%20%5B40.82573469500005%2C%20-73.91892694799998%5D%2C%20%5B40.621973341000064%2C%20-73.90613073599997%5D%2C%20%5B40.66507441700002%2C%20-73.88742726299995%5D%2C%20%5B40.83007533400007%2C%20-73.92914787699993%5D%2C%20%5B40.649196637000045%2C%20-73.94504491399994%5D%2C%20%5B40.60047022200007%2C%20-73.97358394099997%5D%2C%20%5B40.77397177000006%2C%20-73.92279539099997%5D%2C%20%5B40.688181746000055%2C%20-73.98398802699995%5D%2C%20%5B40.63028263500007%2C%20-73.89743657099996%5D%2C%20%5B40.759295447000056%2C%20-73.96928321499998%5D%2C%20%5B40.72236368700004%2C%20-73.85147389399998%5D%2C%20%5B40.74500029700005%2C%20-73.87012832399995%5D%2C%20%5B40.72628777500006%2C%20-73.98779600499995%5D%2C%20%5B40.817712090000036%2C%20-73.915396145%5D%2C%20%5B40.693467241000064%2C%20-73.93975073199994%5D%2C%20%5B40.68373461400005%2C%20-73.96796232199993%5D%2C%20%5B40.65799306600008%2C%20-74.00069344599996%5D%2C%20%5B40.83382547300005%2C%20-73.86777225999998%5D%2C%20%5B40.70876258700008%2C%20-73.91588429399997%5D%2C%20%5B40.80024432600004%2C%20-73.95339008999997%5D%2C%20%5B40.698897961000064%2C%20-73.93267368599999%5D%2C%20%5B40.644803566000064%2C%20-73.95436350199995%5D%2C%20%5B40.688743368000075%2C%20-73.94498708099997%5D%2C%20%5B40.879062848000046%2C%20-73.87438667199996%5D%2C%20%5B40.750430768000044%2C%20-73.98928217599996%5D%2C%20%5B40.65495241700007%2C%20-73.95800022199995%5D%2C%20%5B40.756594678000056%2C%20-73.87560301799994%5D%2C%20%5B40.762043893000055%2C%20-73.82732958099997%5D%2C%20%5B40.67459999000005%2C%20-73.93057482199998%5D%2C%20%5B40.66576856600005%2C%20-73.90880499999997%5D%2C%20%5B40.82963595800004%2C%20-73.87416922399994%5D%2C%20%5B40.86607576000005%2C%20-73.89437578699994%5D%2C%20%5B40.57082493000007%2C%20-74.09270242299993%5D%2C%20%5B40.73392684100002%2C%20-73.87158239799999%5D%2C%20%5B40.68942044000005%2C%20-73.99153483799995%5D%2C%20%5B40.69585990500008%2C%20-73.80203734799994%5D%2C%20%5B40.69833089400004%2C%20-73.91749507299994%5D%2C%20%5B40.88311992000007%2C%20-73.90332096899994%5D%2C%20%5B40.729584871000036%2C%20-74.00084573199997%5D%2C%20%5B40.76834506700004%2C%20-73.97005522399995%5D%2C%20%5B40.76490876100007%2C%20-73.94737895099996%5D%2C%20%5B40.693227053000044%2C%20-73.82181738299995%5D%2C%20%5B40.73381985200007%2C%20-73.87163311999996%5D%2C%20%5B40.83778161800007%2C%20-73.91945797099999%5D%2C%20%5B40.58721540900007%2C%20-73.81345214699995%5D%2C%20%5B40.86370044700004%2C%20-73.90572447299998%5D%2C%20%5B40.680048726000045%2C%20-73.77590919399995%5D%2C%20%5B40.846409037000065%2C%20-73.89337329799997%5D%2C%20%5B40.75194535700007%2C%20-73.87334507899999%5D%2C%20%5B40.77226932600007%2C%20-73.92590227999993%5D%2C%20%5B40.67970040800003%2C%20-73.77604736799998%5D%2C%20%5B40.87187683500007%2C%20-73.87915137999995%5D%2C%20%5B40.67051880800005%2C%20-73.86116025599993%5D%2C%20%5B40.69224167400005%2C%20-73.987300996%5D%2C%20%5B40.82229848500003%2C%20-73.91169413099993%5D%2C%20%5B40.696573698000066%2C%20-73.79124885399995%5D%2C%20%5B40.85284199500006%2C%20-73.88417430999993%5D%2C%20%5B40.64270648100006%2C%20-74.07671690299998%5D%2C%20%5B40.72628777500006%2C%20-73.98779600499995%5D%2C%20%5B40.764818269000045%2C%20-73.98518977299993%5D%2C%20%5B40.57725224200004%2C%20-74.000033837%5D%2C%20%5B40.86940749200004%2C%20-73.87999831299999%5D%2C%20%5B40.65819343200008%2C%20-74.00103224299994%5D%2C%20%5B40.84390125500005%2C%20-73.900504632%5D%2C%20%5B40.84934873100008%2C%20-73.91687040499993%5D%2C%20%5B40.71156543300003%2C%20-73.76818506299998%5D%2C%20%5B40.81055902000002%2C%20-73.94706831499997%5D%2C%20%5B40.63969318900007%2C%20-73.88722145999998%5D%2C%20%5B40.70969733600003%2C%20-73.81248897699999%5D%2C%20%5B40.57490191000005%2C%20-73.98661056099995%5D%2C%20%5B40.89055078200005%2C%20-73.86123238399993%5D%2C%20%5B40.769495118000066%2C%20-73.91502416999998%5D%2C%20%5B40.70629036500002%2C%20-73.95035033099998%5D%2C%20%5B40.88733281800006%2C%20-73.84725001299995%5D%2C%20%5B40.66996684300005%2C%20-73.88588695199995%5D%2C%20%5B40.654317721000034%2C%20-74.00441992599998%5D%2C%20%5B40.71185339900006%2C%20-73.85976117699995%5D%2C%20%5B40.722159068000046%2C%20-73.94130133999995%5D%2C%20%5B40.753464076000064%2C%20-73.99439974299997%5D%2C%20%5B40.81480347900003%2C%20-73.95628448399998%5D%2C%20%5B40.814712230000055%2C%20-73.94227461199995%5D%2C%20%5B40.62991922600002%2C%20-74.00640337899993%5D%2C%20%5B40.688743368000075%2C%20-73.94498708099997%5D%2C%20%5B40.79918422600008%2C%20-73.95184497099996%5D%2C%20%5B40.83857195500008%2C%20-73.91542744099996%5D%2C%20%5B40.82414626900004%2C%20-73.89294648299993%5D%2C%20%5B40.625796679000075%2C%20-74.15489937099994%5D%2C%20%5B40.763976222000046%2C%20-73.97324113499997%5D%2C%20%5B40.680048726000045%2C%20-73.77590919399995%5D%2C%20%5B40.64886713300007%2C%20-73.95082189999994%5D%2C%20%5B40.74479335700005%2C%20-73.99329254599995%5D%2C%20%5B40.88545230600005%2C%20-73.84489274799995%5D%2C%20%5B40.61755821700007%2C%20-74.08142462899998%5D%2C%20%5B40.766582105000055%2C%20-73.81739013599997%5D%2C%20%5B40.72236368700004%2C%20-73.85147389399998%5D%2C%20%5B40.75851417100006%2C%20-73.99071750399997%5D%2C%20%5B40.88733281800006%2C%20-73.84725001299995%5D%2C%20%5B40.61071712900008%2C%20-73.92098528299994%5D%2C%20%5B40.81942759100008%2C%20-73.88391452799993%5D%2C%20%5B40.748270296000044%2C%20-73.74815326899994%5D%2C%20%5B40.63868910700006%2C%20-73.91681215399994%5D%2C%20%5B40.71059024500005%2C%20-73.98566351999993%5D%2C%20%5B40.736282051000046%2C%20-73.85774678199994%5D%2C%20%5B40.59876936400008%2C%20-73.97793460499997%5D%2C%20%5B40.63662459600005%2C%20-74.140152071%5D%2C%20%5B40.63167574400006%2C%20-74.14674554599996%5D%2C%20%5B40.71889760100004%2C%20-73.84158990499998%5D%2C%20%5B40.729120515000034%2C%20-74.01067399699998%5D%2C%20%5B40.764379785000074%2C%20-73.99201626499998%5D%2C%20%5B40.57564361900006%2C%20-73.99378828999993%5D%2C%20%5B40.74879513500007%2C%20-73.992234678%5D%2C%20%5B40.73226369800005%2C%20-73.99635355899994%5D%2C%20%5B40.840783858000066%2C%20-73.93625260699997%5D%2C%20%5B40.75178715100003%2C%20-73.97475830899998%5D%2C%20%5B40.75210064200007%2C%20-73.97760951699999%5D%2C%20%5B40.76824562300004%2C%20-73.90708704499998%5D%2C%20%5B40.69843969400005%2C%20-73.83112953899997%5D%2C%20%5B40.76187469000007%2C%20-73.96635808399995%5D%2C%20%5B40.623226819000074%2C%20-74.14922697299994%5D%2C%20%5B40.815929553000046%2C%20-73.94516735699995%5D%2C%20%5B40.75737941700004%2C%20-73.83401937099995%5D%2C%20%5B40.69833089400004%2C%20-73.91749507299994%5D%2C%20%5B40.765397475000036%2C%20-73.98570226399994%5D%2C%20%5B40.76148493400007%2C%20-73.91364823299993%5D%2C%20%5B40.839286927000046%2C%20-73.91728413099996%5D%2C%20%5B40.67793224300004%2C%20-73.91819088799997%5D%2C%20%5B40.72622256300008%2C%20-73.92051641299997%5D%2C%20%5B40.57718381500007%2C%20-74.09372639999998%5D%2C%20%5B40.69143597300007%2C%20-73.92545481499997%5D%2C%20%5B40.79701189900004%2C%20-73.93777532299998%5D%2C%20%5B40.70068465600008%2C%20-73.82725408099995%5D%2C%20%5B40.67141166300007%2C%20-73.88151172399995%5D%2C%20%5B40.69833089400004%2C%20-73.91749507299994%5D%2C%20%5B40.840783858000066%2C%20-73.93625260699997%5D%2C%20%5B40.71098871600003%2C%20-73.94294877599998%5D%2C%20%5B40.70446856000007%2C%20-73.92611469399995%5D%2C%20%5B40.659690989000076%2C%20-73.90138489499998%5D%2C%20%5B40.88733281800006%2C%20-73.84725001299995%5D%2C%20%5B40.66169847500004%2C%20-73.88756992599998%5D%2C%20%5B40.75534475800004%2C%20-73.84324659799995%5D%2C%20%5B40.80176203400004%2C%20-73.931204327%5D%2C%20%5B40.63406531000004%2C%20-74.11104252499997%5D%2C%20%5B40.61284130800004%2C%20-74.00045165899995%5D%2C%20%5B40.83795285700006%2C%20-73.90633196%5D%2C%20%5B40.703108136000026%2C%20-73.98664973499997%5D%2C%20%5B40.69308974300003%2C%20-73.96205467599998%5D%2C%20%5B40.83778161800007%2C%20-73.91945797099999%5D%2C%20%5B40.719404551000025%2C%20-74.00188456299998%5D%2C%20%5B40.756594678000056%2C%20-73.87560301799994%5D%2C%20%5B40.726293088000034%2C%20-73.73476084899994%5D%2C%20%5B40.82229848500003%2C%20-73.91169413099993%5D%2C%20%5B40.804046578000055%2C%20-73.93766760899997%5D%2C%20%5B40.590942615000074%2C%20-73.93718241499994%5D%2C%20%5B40.74100109200003%2C%20-73.88283143899997%5D%2C%20%5B40.784507365000024%2C%20-73.97548255699995%5D%2C%20%5B40.816391847000034%2C%20-73.89529641399997%5D%2C%20%5B40.86447077300004%2C%20-73.918944803%5D%2C%20%5B40.59264449900007%2C%20-73.79408341299995%5D%2C%20%5B40.665516282000056%2C%20-73.99277063999993%5D%2C%20%5B40.736425335000035%2C%20-73.97742353699994%5D%2C%20%5B40.749139326000034%2C%20-73.86297059399999%5D%2C%20%5B40.70629036500002%2C%20-73.95035033099998%5D%2C%20%5B40.82988213900006%2C%20-73.93675809999998%5D%2C%20%5B40.85671228800004%2C%20-73.86427086199996%5D%2C%20%5B40.81608766100004%2C%20-73.89582435399994%5D%2C%20%5B40.851853709000075%2C%20-73.88957637599998%5D%2C%20%5B40.71552621300003%2C%20-74.00123874799993%5D%2C%20%5B40.751449824000076%2C%20-73.97605054499998%5D%2C%20%5B40.87849391900005%2C%20-73.86401304599997%5D%2C%20%5B40.69512905800008%2C%20-73.78480549199999%5D%2C%20%5B40.81537620200004%2C%20-73.94177548299997%5D%2C%20%5B40.76740891000002%2C%20-73.98238053699998%5D%2C%20%5B40.61091593500004%2C%20-74.10192067399998%5D%2C%20%5B40.677847848000056%2C%20-73.87599866499993%5D%2C%20%5B40.71601201200008%2C%20-73.99733202999995%5D%2C%20%5B40.836566051000034%2C%20-73.94305431299993%5D%2C%20%5B40.639163716000034%2C%20-73.99442734699994%5D%2C%20%5B40.83778161800007%2C%20-73.91945797099999%5D%2C%20%5B40.66008349500004%2C%20-73.91896246999994%5D%2C%20%5B40.82154859600007%2C%20-73.90084877399994%5D%2C%20%5B40.752259534000075%2C%20-73.85358003%5D%2C%20%5B40.623226819000074%2C%20-74.14922697299994%5D%2C%20%5B40.83778161800007%2C%20-73.91945797099999%5D%2C%20%5B40.687570848000064%2C%20-73.86470890199999%5D%2C%20%5B40.737082284000046%2C%20-73.98296229999994%5D%2C%20%5B40.769132229000036%2C%20-73.95209053099995%5D%2C%20%5B40.680048726000045%2C%20-73.77590919399995%5D%2C%20%5B40.73146492200004%2C%20-73.95616235499993%5D%2C%20%5B40.840783858000066%2C%20-73.93625260699997%5D%2C%20%5B40.849456428000046%2C%20-73.921728235%5D%2C%20%5B40.63068215900006%2C%20-73.97355396999995%5D%2C%20%5B40.76956124200007%2C%20-73.91536344699995%5D%2C%20%5B40.88311992000007%2C%20-73.90332096899994%5D%2C%20%5B40.74283378800004%2C%20-73.99842802399995%5D%2C%20%5B40.75686097700003%2C%20-73.87565666399995%5D%2C%20%5B40.687215464000076%2C%20-73.81797166799998%5D%2C%20%5B40.647559115000035%2C%20-73.97051303499995%5D%2C%20%5B40.82338729100008%2C%20-73.87017045%5D%2C%20%5B40.51158633800003%2C%20-74.24930372699998%5D%2C%20%5B40.721686573000056%2C%20-73.98060684799998%5D%2C%20%5B40.827819901000055%2C%20-73.92593075599996%5D%2C%20%5B40.606770966000056%2C%20-74.16582515999994%5D%2C%20%5B40.74695102800007%2C%20-73.89050092199994%5D%2C%20%5B40.81309029000005%2C%20-73.93738096999994%5D%2C%20%5B40.74500029700005%2C%20-73.87012832399995%5D%2C%20%5B40.815929553000046%2C%20-73.94516735699995%5D%2C%20%5B40.725171296000035%2C%20-74.00141570999993%5D%2C%20%5B40.669220931000034%2C%20-73.984616207%5D%2C%20%5B40.66032394600006%2C%20-73.92134822999998%5D%2C%20%5B40.65095796000002%2C%20-73.95586928499995%5D%2C%20%5B40.720463840000036%2C%20-74.00685220399998%5D%2C%20%5B40.85036729300003%2C%20-73.91725589399994%5D%2C%20%5B40.665182541000036%2C%20-73.93038276699998%5D%2C%20%5B40.755771999000046%2C%20-73.91216853599997%5D%2C%20%5B40.72236368700004%2C%20-73.85147389399998%5D%2C%20%5B40.687809352000045%2C%20-73.94335082099997%5D%2C%20%5B40.82067200400007%2C%20-73.82405582699994%5D%2C%20%5B40.812115968000064%2C%20-73.95516997799997%5D%2C%20%5B40.66345601300003%2C%20-73.94553779399995%5D%2C%20%5B40.82338729100008%2C%20-73.87017045%5D%2C%20%5B40.625304911000065%2C%20-73.91598947199995%5D%2C%20%5B40.74478828300005%2C%20-73.97588332099998%5D%2C%20%5B40.71595711700007%2C%20-73.997353676%5D%2C%20%5B40.779505997000065%2C%20-73.95558550399994%5D%2C%20%5B40.711389864000076%2C%20-74.000106051%5D%2C%20%5B40.70850321700004%2C%20-73.80577985599997%5D%2C%20%5B40.70451983100002%2C%20-73.89347040299998%5D%2C%20%5B40.69538490700006%2C%20-73.94920807199999%5D%2C%20%5B40.67998073800004%2C%20-73.77623390699993%5D%2C%20%5B40.83778161800007%2C%20-73.91945797099999%5D%2C%20%5B40.70629036500002%2C%20-73.95035033099998%5D%2C%20%5B40.65121036700003%2C%20-73.92837200099996%5D%2C%20%5B40.705616513000045%2C%20-73.79209337499998%5D%2C%20%5B40.846260031000035%2C%20-73.90175529499999%5D%2C%20%5B40.81608766100004%2C%20-73.89582435399994%5D%2C%20%5B40.623226819000074%2C%20-74.14922697299994%5D%2C%20%5B40.81576532700007%2C%20-73.88585733899998%5D%2C%20%5B40.726274209000046%2C%20-73.81665994899998%5D%2C%20%5B40.81650933700007%2C%20-73.94654695699995%5D%2C%20%5B40.64298156500007%2C%20-74.07580556499995%5D%2C%20%5B40.83072232800004%2C%20-73.82712605899997%5D%2C%20%5B40.72239709900003%2C%20-73.97853584199999%5D%2C%20%5B40.67111083400005%2C%20-73.91356336299998%5D%2C%20%5B40.71567057300007%2C%20-73.98394174399994%5D%2C%20%5B40.68485994600008%2C%20-73.95920730199998%5D%2C%20%5B40.755958814000046%2C%20-73.99072868799993%5D%2C%20%5B40.720463840000036%2C%20-74.00685220399998%5D%2C%20%5B40.63552853900006%2C%20-74.01669759799995%5D%2C%20%5B40.80193203300007%2C%20-73.93565410599996%5D%2C%20%5B40.69843969400005%2C%20-73.83112953899997%5D%2C%20%5B40.680048726000045%2C%20-73.77590919399995%5D%2C%20%5B40.65799306600008%2C%20-74.00069344599996%5D%2C%20%5B40.82310129900002%2C%20-73.86969046099993%5D%2C%20%5B40.84147602600007%2C%20-73.91565505399994%5D%2C%20%5B40.737047787000044%2C%20-73.87172432899997%5D%2C%20%5B40.76753670800008%2C%20-73.82408067599994%5D%2C%20%5B40.69833089400004%2C%20-73.91749507299994%5D%2C%20%5B40.85358740100002%2C%20-73.90059135599995%5D%2C%20%5B40.770827222000044%2C%20-73.99261118899994%5D%2C%20%5B40.69469571400003%2C%20-73.95519843899994%5D%2C%20%5B40.68449288100004%2C%20-73.79679606599996%5D%2C%20%5B40.70696423800007%2C%20-73.90464406899997%5D%2C%20%5B40.844139945000045%2C%20-73.90038861799998%5D%2C%20%5B40.76187469000007%2C%20-73.96635808399995%5D%2C%20%5B40.67488136200007%2C%20-74.00866088199997%5D%2C%20%5B40.618069020000064%2C%20-73.908012882%5D%2C%20%5B40.72806119000006%2C%20-73.85312808099997%5D%2C%20%5B40.82566342400003%2C%20-73.908072787%5D%2C%20%5B40.839279611000045%2C%20-73.92256058699995%5D%2C%20%5B40.86940749200004%2C%20-73.87999831299999%5D%2C%20%5B40.71595711700007%2C%20-73.997353676%5D%2C%20%5B40.82229848500003%2C%20-73.91169413099993%5D%2C%20%5B40.87419065500006%2C%20-73.90911578099998%5D%2C%20%5B40.83684634100007%2C%20-73.94372625299998%5D%2C%20%5B40.72842095400005%2C%20-73.99425391799997%5D%2C%20%5B40.79705615700004%2C%20-73.96447666399997%5D%2C%20%5B40.83752574500005%2C%20-73.91478188199994%5D%2C%20%5B40.57414012800007%2C%20-74.10600776499997%5D%2C%20%5B40.756594678000056%2C%20-73.87560301799994%5D%2C%20%5B40.61544130600004%2C%20-73.913876772%5D%2C%20%5B40.70685174000005%2C%20-73.91902824899995%5D%2C%20%5B40.664208479000074%2C%20-73.89775927899994%5D%2C%20%5B40.82338729100008%2C%20-73.87017045%5D%2C%20%5B40.71552621300003%2C%20-74.00123874799993%5D%2C%20%5B40.64886713300007%2C%20-73.95082189999994%5D%2C%20%5B40.752884728000026%2C%20-73.99111170399993%5D%2C%20%5B40.69733813800008%2C%20-73.78455673899998%5D%2C%20%5B40.67134926000005%2C%20-73.89958683499998%5D%2C%20%5B40.75629855500005%2C%20-73.90809271299997%5D%2C%20%5B40.69493201400008%2C%20-73.94331591999997%5D%2C%20%5B40.720463840000036%2C%20-74.00685220399998%5D%2C%20%5B40.67725891100008%2C%20-73.82604211299997%5D%2C%20%5B40.61696893300007%2C%20-74.02750245699998%5D%2C%20%5B40.674126054000055%2C%20-73.84446853499998%5D%2C%20%5B40.66838074700007%2C%20-73.92263283299998%5D%2C%20%5B40.60472224100005%2C%20-73.74883161299994%5D%2C%20%5B40.74754387900003%2C%20-73.88485542499996%5D%2C%20%5B40.72156940800004%2C%20-73.98664603799993%5D%2C%20%5B40.62851560000007%2C%20-73.94138369799998%5D%2C%20%5B40.841223444000036%2C%20-73.84847625999998%5D%2C%20%5B40.85779530700007%2C%20-73.89776535899993%5D%2C%20%5B40.75498210300003%2C%20-73.862301657%5D%2C%20%5B40.75581198500004%2C%20-73.88304361299998%5D%2C%20%5B40.78946330000008%2C%20-73.94763400399995%5D%2C%20%5B40.838997766000034%2C%20-73.93755896999993%5D%2C%20%5B40.76159662700008%2C%20-73.99218625899994%5D%2C%20%5B40.866162675000055%2C%20-73.90269845299997%5D%2C%20%5B40.753229530000056%2C%20-73.90759524899995%5D%2C%20%5B40.69346419800007%2C%20-73.92520733299993%5D%2C%20%5B40.83482361400007%2C%20-73.90269007899997%5D%2C%20%5B40.81600451200006%2C%20-73.94131972799995%5D%2C%20%5B40.66679569100006%2C%20-73.89651170599996%5D%2C%20%5B40.64870676900005%2C%20-73.90513094099998%5D%2C%20%5B40.82736692100008%2C%20-73.90685995799998%5D%2C%20%5B40.67916253100003%2C%20-73.89526309799999%5D%2C%20%5B40.690106415000045%2C%20-73.98897094299997%5D%2C%20%5B40.68962245400007%2C%20-73.96014913199997%5D%2C%20%5B40.696919541000064%2C%20-73.96471393499998%5D%2C%20%5B40.81300852900005%2C%20-73.95654576899994%5D%2C%20%5B40.69733813800008%2C%20-73.78455673899998%5D%2C%20%5B40.82338729100008%2C%20-73.87017045%5D%2C%20%5B40.762315800000074%2C%20-73.82744800199998%5D%2C%20%5B40.70629036500002%2C%20-73.95035033099998%5D%2C%20%5B40.82382420000005%2C%20-73.90774291599996%5D%2C%20%5B40.787353607000064%2C%20-73.97526483699994%5D%2C%20%5B40.72640849400005%2C%20-73.90846946699997%5D%2C%20%5B40.69459323800004%2C%20-73.79347284999993%5D%2C%20%5B40.753464076000064%2C%20-73.99439974299997%5D%2C%20%5B40.72236368700004%2C%20-73.85147389399998%5D%2C%20%5B40.720463840000036%2C%20-74.00685220399998%5D%2C%20%5B40.695900403000046%2C%20-73.95452687099998%5D%2C%20%5B40.737082284000046%2C%20-73.98296229999994%5D%2C%20%5B40.83872992300008%2C%20-73.91377204099996%5D%2C%20%5B40.623226819000074%2C%20-74.14922697299994%5D%2C%20%5B40.71173878600007%2C%20-73.93407469599998%5D%2C%20%5B40.753464076000064%2C%20-73.99439974299997%5D%2C%20%5B40.87288651800003%2C%20-73.90519800099996%5D%2C%20%5B40.730522568000026%2C%20-73.98472473199999%5D%2C%20%5B40.84202122200002%2C%20-73.93535511199997%5D%2C%20%5B40.82229848500003%2C%20-73.91169413099993%5D%2C%20%5B40.814852894000076%2C%20-73.95631335299998%5D%2C%20%5B40.824338872000055%2C%20-73.87437073899997%5D%2C%20%5B40.82547196300004%2C%20-73.89294073699995%5D%2C%20%5B40.78673189800003%2C%20-73.94113246799998%5D%2C%20%5B40.645022746000045%2C%20-74.077216847%5D%2C%20%5B40.64544846200005%2C%20-74.08081363799994%5D%2C%20%5B40.69516277400004%2C%20-73.78968096799997%5D%2C%20%5B40.61256665100007%2C%20-74.03609436899995%5D%2C%20%5B40.750430768000044%2C%20-73.98928217599996%5D%2C%20%5B40.676330602000064%2C%20-74.00868270099994%5D%2C%20%5B40.841642767000046%2C%20-73.94106580999993%5D%2C%20%5B40.844139945000045%2C%20-73.90038861799998%5D%2C%20%5B40.85099855500005%2C%20-73.90989931399997%5D%2C%20%5B40.82532319300003%2C%20-73.90821417299998%5D%2C%20%5B40.69541760200008%2C%20-73.74100343599997%5D%2C%20%5B40.64535093400008%2C%20-73.95737565299999%5D%2C%20%5B40.65475124500005%2C%20-74.007368032%5D%2C%20%5B40.62649970700004%2C%20-73.97634394799998%5D%2C%20%5B40.73669094600008%2C%20-73.99523109199998%5D%2C%20%5B40.84202174700005%2C%20-73.93629840599993%5D%2C%20%5B40.60207069800003%2C%20-74.00269150899999%5D%2C%20%5B40.807699163000045%2C%20-73.94738485799998%5D%2C%20%5B40.68486205100004%2C%20-73.77821505499998%5D%2C%20%5B40.586231405000035%2C%20-73.81601112099996%5D%2C%20%5B40.632445129000075%2C%20-73.88817404099996%5D%2C%20%5B40.688743368000075%2C%20-73.94498708099997%5D%2C%20%5B40.69500772200007%2C%20-73.89484152699998%5D%2C%20%5B40.68218640100008%2C%20-73.83969048299997%5D%2C%20%5B40.762043893000055%2C%20-73.82732958099997%5D%2C%20%5B40.70794958100004%2C%20-73.96106514499998%5D%2C%20%5B40.60207069800003%2C%20-74.00269150899999%5D%2C%20%5B40.74138257800007%2C%20-73.78119174399995%5D%2C%20%5B40.679524703000034%2C%20-73.90457153799997%5D%2C%20%5B40.847487073000025%2C%20-73.93741726499997%5D%2C%20%5B40.65415007000007%2C%20-73.88731234799997%5D%2C%20%5B40.663563856000046%2C%20-73.93160997999998%5D%2C%20%5B40.62572501600005%2C%20-73.99104937999994%5D%2C%20%5B40.70629036500002%2C%20-73.95035033099998%5D%2C%20%5B40.69843969400005%2C%20-73.83112953899997%5D%2C%20%5B40.855802743000034%2C%20-73.84390995399998%5D%2C%20%5B40.67964380700005%2C%20-73.94958420199998%5D%2C%20%5B40.59224121600005%2C%20-74.10090559699995%5D%2C%20%5B40.812227638000024%2C%20-73.91851712199998%5D%2C%20%5B40.71634415200003%2C%20-74.00125319299997%5D%2C%20%5B40.57826723200003%2C%20-73.97232556399997%5D%2C%20%5B40.651147127000065%2C%20-73.88999505499999%5D%2C%20%5B40.66828526200004%2C%20-73.98705322499995%5D%2C%20%5B40.77528038400004%2C%20-73.90707361899997%5D%2C%20%5B40.87419065500006%2C%20-73.90911578099998%5D%2C%20%5B40.693533468000055%2C%20-73.952195336%5D%2C%20%5B40.66048172400008%2C%20-73.88129685699994%5D%2C%20%5B40.86940749200004%2C%20-73.87999831299999%5D%2C%20%5B40.85358740100002%2C%20-73.90059135599995%5D%2C%20%5B40.71552621300003%2C%20-74.00123874799993%5D%2C%20%5B40.74368994400004%2C%20-74.00708194899995%5D%2C%20%5B40.60514634700007%2C%20-74.01728421699994%5D%2C%20%5B40.73388303300004%2C%20-74.00542831099993%5D%2C%20%5B40.80193203300007%2C%20-73.93565410599996%5D%2C%20%5B40.72034704200007%2C%20-73.98008053499996%5D%2C%20%5B40.76956124200007%2C%20-73.91536344699995%5D%2C%20%5B40.678373075000025%2C%20-73.77948046099993%5D%2C%20%5B40.74980454200004%2C%20-73.883848174%5D%2C%20%5B40.73381985200007%2C%20-73.87163311999996%5D%2C%20%5B40.72636681100005%2C%20-73.98331500399995%5D%2C%20%5B40.720169000000055%2C%20-73.81271925899993%5D%2C%20%5B40.831293326000036%2C%20-73.89573911599996%5D%2C%20%5B40.819991180000045%2C%20-73.94400425099997%5D%2C%20%5B40.737082284000046%2C%20-73.98296229999994%5D%2C%20%5B40.82127054700004%2C%20-73.93923036799998%5D%2C%20%5B40.840783858000066%2C%20-73.93625260699997%5D%2C%20%5B40.84652613500003%2C%20-73.89536102899994%5D%2C%20%5B40.726965067000044%2C%20-73.95311662899995%5D%2C%20%5B40.69205542900005%2C%20-73.91253013099998%5D%2C%20%5B40.815929553000046%2C%20-73.94516735699995%5D%2C%20%5B40.57414012800007%2C%20-74.10600776499997%5D%2C%20%5B40.767722578000075%2C%20-73.93246331899995%5D%2C%20%5B40.707447364000075%2C%20-73.79214176799998%5D%2C%20%5B40.855802743000034%2C%20-73.84390995399998%5D%2C%20%5B40.78363977600003%2C%20-73.943518451%5D%2C%20%5B40.765397475000036%2C%20-73.98570226399994%5D%2C%20%5B40.57391411000003%2C%20-73.97290331099998%5D%2C%20%5B40.79089937200007%2C%20-73.94306448199995%5D%2C%20%5B40.810398494000026%2C%20-73.92489531099994%5D%2C%20%5B40.67970040800003%2C%20-73.77604736799998%5D%2C%20%5B40.72628777500006%2C%20-73.98779600499995%5D%2C%20%5B40.582301992000055%2C%20-74.16893609499994%5D%2C%20%5B40.74500029700005%2C%20-73.87012832399995%5D%2C%20%5B40.63295606400004%2C%20-73.94574282499997%5D%2C%20%5B40.77075047700004%2C%20-73.99454992099999%5D%2C%20%5B40.72651564100005%2C%20-73.98829024399998%5D%2C%20%5B40.82229848500003%2C%20-73.91169413099993%5D%2C%20%5B40.87641091600005%2C%20-73.87900211399995%5D%2C%20%5B40.84078110900003%2C%20-73.936245382%5D%2C%20%5B40.64280872900008%2C%20-73.95596115499995%5D%2C%20%5B40.70968853400007%2C%20-73.75908394099997%5D%2C%20%5B40.76690500600006%2C%20-73.96373101899997%5D%2C%20%5B40.83956042800003%2C%20-73.91594298999998%5D%2C%20%5B40.65322793300004%2C%20-73.91269636099996%5D%2C%20%5B40.66416202000005%2C%20-73.94681681999998%5D%2C%20%5B40.603190622000064%2C%20-73.75008340299998%5D%2C%20%5B40.824452463000064%2C%20-73.94074500599999%5D%2C%20%5B40.75393893800003%2C%20-73.99484365499995%5D%2C%20%5B40.86783742100005%2C%20-73.88529432399997%5D%2C%20%5B40.63230532500006%2C%20-74.16036551399995%5D%2C%20%5B40.74983230300006%2C%20-73.97220377099995%5D%2C%20%5B40.716418145000034%2C%20-73.99469144099999%5D%2C%20%5B40.74283378800004%2C%20-73.99842802399995%5D%2C%20%5B40.87806961800004%2C%20-73.87470676699995%5D%2C%20%5B40.746206140000034%2C%20-73.98514699399993%5D%2C%20%5B40.62851560000007%2C%20-73.94138369799998%5D%2C%20%5B40.64244174100002%2C%20-73.90341745099995%5D%2C%20%5B40.711970200000046%2C%20-73.94068989099996%5D%2C%20%5B40.726965067000044%2C%20-73.95311662899995%5D%2C%20%5B40.661076321000046%2C%20-73.95882176199996%5D%2C%20%5B40.840783858000066%2C%20-73.93625260699997%5D%2C%20%5B40.815929553000046%2C%20-73.94516735699995%5D%2C%20%5B40.72628777500006%2C%20-73.98779600499995%5D%2C%20%5B40.69843969400005%2C%20-73.83112953899997%5D%2C%20%5B40.809942904000025%2C%20-73.85791085299998%5D%2C%20%5B40.72906475000008%2C%20-73.81102013199995%5D%2C%20%5B40.700899370000045%2C%20-73.89334996099996%5D%2C%20%5B40.840783858000066%2C%20-73.93625260699997%5D%2C%20%5B40.79321710700003%2C%20-73.96727401599996%5D%2C%20%5B40.74283378800004%2C%20-73.99842802399995%5D%2C%20%5B40.821455958000044%2C%20-73.86619987399997%5D%2C%20%5B40.85358740100002%2C%20-73.90059135599995%5D%2C%20%5B40.717095638000046%2C%20-73.80330900899997%5D%2C%20%5B40.707447364000075%2C%20-73.79214176799998%5D%2C%20%5B40.70629036500002%2C%20-73.95035033099998%5D%2C%20%5B40.59864860000005%2C%20-73.91024343699995%5D%2C%20%5B40.81226765700006%2C%20-73.95708452099996%5D%2C%20%5B40.66309770000004%2C%20-73.96238892699995%5D%2C%20%5B40.69833089400004%2C%20-73.91749507299994%5D%2C%20%5B40.707447364000075%2C%20-73.79214176799998%5D%2C%20%5B40.705753997000045%2C%20-73.80969039299998%5D%2C%20%5B40.726293088000034%2C%20-73.73476084899994%5D%2C%20%5B40.86184029000003%2C%20-73.84331734599994%5D%2C%20%5B40.811986508000075%2C%20-73.94757654399997%5D%2C%20%5B40.740433478000064%2C%20-73.98198711099997%5D%2C%20%5B40.75626620700007%2C%20-73.99050124799999%5D%2C%20%5B40.72063684600005%2C%20-74.00521077799993%5D%2C%20%5B40.586231405000035%2C%20-73.81601112099996%5D%2C%20%5B40.66005536800003%2C%20-73.92610621599994%5D%2C%20%5B40.60226831400007%2C%20-74.00306963999998%5D%2C%20%5B40.657957922000044%2C%20-73.88266012399998%5D%2C%20%5B40.79321710700003%2C%20-73.96727401599996%5D%2C%20%5B40.70334997200007%2C%20-73.80020457099994%5D%5D%2C%0A%20%20%20%20%20%20%20%20%20%20%20%20%20%20%20%20%7B%0A%20%20%20%20%20%20%20%20%20%20%20%20%20%20%20%20%20%20%20%20minOpacity%3A%200.5%2C%0A%20%20%20%20%20%20%20%20%20%20%20%20%20%20%20%20%20%20%20%20maxZoom%3A%2018%2C%0A%20%20%20%20%20%20%20%20%20%20%20%20%20%20%20%20%20%20%20%20max%3A%201.0%2C%0A%20%20%20%20%20%20%20%20%20%20%20%20%20%20%20%20%20%20%20%20radius%3A%2025%2C%0A%20%20%20%20%20%20%20%20%20%20%20%20%20%20%20%20%20%20%20%20blur%3A%2015%2C%0A%20%20%20%20%20%20%20%20%20%20%20%20%20%20%20%20%20%20%20%20gradient%3A%20null%0A%20%20%20%20%20%20%20%20%20%20%20%20%20%20%20%20%20%20%20%20%7D%29%0A%20%20%20%20%20%20%20%20%20%20%20%20%20%20%20%20.addTo%28map_34f83a08fe7f4872a869853ef3265095%29%3B%0A%20%20%20%20%20%20%20%20%0A%3C/script%3E onload=\"this.contentDocument.open();this.contentDocument.write(    decodeURIComponent(this.getAttribute('data-html')));this.contentDocument.close();\" allowfullscreen webkitallowfullscreen mozallowfullscreen></iframe></div></div>"
            ],
            "text/plain": [
              "<folium.folium.Map at 0x7f9e431ff450>"
            ]
          },
          "metadata": {},
          "execution_count": 653
        }
      ]
    },
    {
      "cell_type": "markdown",
      "source": [
        "From this map, we can get a decent idea of how crimes are distributed throughout NYC. We notice a significantly lower amount of arrests made in Staten Island compared to the other boroughs. It would require further investigation to see whether or not this is due entirely to its lower population, or other factors like the higher GDP per capita of its citizens than the other boroughs."
      ],
      "metadata": {
        "id": "sF5Z7c6GAeN5"
      }
    },
    {
      "cell_type": "markdown",
      "source": [
        "The following three heatmaps are meant to investigate the effect of location on the severity of arrests made. The categories each arrest is assigned to are violations, misdemeanors, and felonies in order of increasing severity."
      ],
      "metadata": {
        "id": "KCgf-GyKGiEV"
      }
    },
    {
      "cell_type": "markdown",
      "source": [
        "We choose to sample a limited amount of points from each category such that the heatmaps are not overly affected by the differing proportions of violations vs. misdemeanors vs. felonies"
      ],
      "metadata": {
        "id": "7MtcwiViHaNV"
      }
    },
    {
      "cell_type": "code",
      "source": [
        "# the number of arrests we choose to sample for the below heatmaps\n",
        "heatmap_ss = 250"
      ],
      "metadata": {
        "id": "f-1yTUCKF4CQ"
      },
      "execution_count": 654,
      "outputs": []
    },
    {
      "cell_type": "code",
      "source": [
        "heatmap = folium.Map(location=[40.73, -74], zoom_start=11)\n",
        "\n",
        "\n",
        "heat_df = df[df['LAW_CAT_CD'] == 'V'].sample(heatmap_ss)\n",
        "heat_df = heat_df[['Latitude', 'Longitude']]\n",
        "heat_data = [[row['Latitude'],row['Longitude']] for index, row in heat_df.iterrows()]\n",
        "\n",
        "title_html = '''\n",
        "             <h3 align=\"center\" style=\"font-size:20px\"><b>Violations Committed in NYC 2021</b></h3>\n",
        "             '''\n",
        "heatmap.get_root().html.add_child(folium.Element(title_html))\n",
        "\n",
        "HeatMap(heat_data).add_to(heatmap)\n",
        "\n",
        "heatmap"
      ],
      "metadata": {
        "colab": {
          "base_uri": "https://localhost:8080/",
          "height": 1000
        },
        "id": "Zc3jsqnJCtB6",
        "outputId": "362ac7d8-1687-46e6-ff7f-c7d1887be364"
      },
      "execution_count": 655,
      "outputs": [
        {
          "output_type": "execute_result",
          "data": {
            "text/html": [
              "<div style=\"width:100%;\"><div style=\"position:relative;width:100%;height:0;padding-bottom:60%;\"><span style=\"color:#565656\">Make this Notebook Trusted to load map: File -> Trust Notebook</span><iframe src=\"about:blank\" style=\"position:absolute;width:100%;height:100%;left:0;top:0;border:none !important;\" data-html=%3C%21DOCTYPE%20html%3E%0A%3Chead%3E%20%20%20%20%0A%20%20%20%20%3Cmeta%20http-equiv%3D%22content-type%22%20content%3D%22text/html%3B%20charset%3DUTF-8%22%20/%3E%0A%20%20%20%20%3Cscript%3EL_PREFER_CANVAS%3Dfalse%3B%20L_NO_TOUCH%3Dfalse%3B%20L_DISABLE_3D%3Dfalse%3B%3C/script%3E%0A%20%20%20%20%3Cscript%20src%3D%22https%3A//cdn.jsdelivr.net/npm/leaflet%401.4.0/dist/leaflet.js%22%3E%3C/script%3E%0A%20%20%20%20%3Cscript%20src%3D%22https%3A//code.jquery.com/jquery-1.12.4.min.js%22%3E%3C/script%3E%0A%20%20%20%20%3Cscript%20src%3D%22https%3A//maxcdn.bootstrapcdn.com/bootstrap/3.2.0/js/bootstrap.min.js%22%3E%3C/script%3E%0A%20%20%20%20%3Cscript%20src%3D%22https%3A//cdnjs.cloudflare.com/ajax/libs/Leaflet.awesome-markers/2.0.2/leaflet.awesome-markers.js%22%3E%3C/script%3E%0A%20%20%20%20%3Clink%20rel%3D%22stylesheet%22%20href%3D%22https%3A//cdn.jsdelivr.net/npm/leaflet%401.4.0/dist/leaflet.css%22/%3E%0A%20%20%20%20%3Clink%20rel%3D%22stylesheet%22%20href%3D%22https%3A//maxcdn.bootstrapcdn.com/bootstrap/3.2.0/css/bootstrap.min.css%22/%3E%0A%20%20%20%20%3Clink%20rel%3D%22stylesheet%22%20href%3D%22https%3A//maxcdn.bootstrapcdn.com/bootstrap/3.2.0/css/bootstrap-theme.min.css%22/%3E%0A%20%20%20%20%3Clink%20rel%3D%22stylesheet%22%20href%3D%22https%3A//maxcdn.bootstrapcdn.com/font-awesome/4.6.3/css/font-awesome.min.css%22/%3E%0A%20%20%20%20%3Clink%20rel%3D%22stylesheet%22%20href%3D%22https%3A//cdnjs.cloudflare.com/ajax/libs/Leaflet.awesome-markers/2.0.2/leaflet.awesome-markers.css%22/%3E%0A%20%20%20%20%3Clink%20rel%3D%22stylesheet%22%20href%3D%22https%3A//rawcdn.githack.com/python-visualization/folium/master/folium/templates/leaflet.awesome.rotate.css%22/%3E%0A%20%20%20%20%3Cstyle%3Ehtml%2C%20body%20%7Bwidth%3A%20100%25%3Bheight%3A%20100%25%3Bmargin%3A%200%3Bpadding%3A%200%3B%7D%3C/style%3E%0A%20%20%20%20%3Cstyle%3E%23map%20%7Bposition%3Aabsolute%3Btop%3A0%3Bbottom%3A0%3Bright%3A0%3Bleft%3A0%3B%7D%3C/style%3E%0A%20%20%20%20%0A%20%20%20%20%3Cmeta%20name%3D%22viewport%22%20content%3D%22width%3Ddevice-width%2C%0A%20%20%20%20%20%20%20%20initial-scale%3D1.0%2C%20maximum-scale%3D1.0%2C%20user-scalable%3Dno%22%20/%3E%0A%20%20%20%20%3Cstyle%3E%23map_74a15e69422447e9b170811646e155d4%20%7B%0A%20%20%20%20%20%20%20%20position%3A%20relative%3B%0A%20%20%20%20%20%20%20%20width%3A%20100.0%25%3B%0A%20%20%20%20%20%20%20%20height%3A%20100.0%25%3B%0A%20%20%20%20%20%20%20%20left%3A%200.0%25%3B%0A%20%20%20%20%20%20%20%20top%3A%200.0%25%3B%0A%20%20%20%20%20%20%20%20%7D%0A%20%20%20%20%3C/style%3E%0A%20%20%20%20%3Cscript%20src%3D%22https%3A//leaflet.github.io/Leaflet.heat/dist/leaflet-heat.js%22%3E%3C/script%3E%0A%3C/head%3E%0A%3Cbody%3E%20%20%20%20%0A%20%20%20%20%0A%20%20%20%20%20%20%20%20%20%20%20%20%20%3Ch3%20align%3D%22center%22%20style%3D%22font-size%3A20px%22%3E%3Cb%3EViolations%20Committed%20in%20NYC%202021%3C/b%3E%3C/h3%3E%0A%20%20%20%20%20%20%20%20%20%20%20%20%20%0A%20%20%20%20%0A%20%20%20%20%3Cdiv%20class%3D%22folium-map%22%20id%3D%22map_74a15e69422447e9b170811646e155d4%22%20%3E%3C/div%3E%0A%3C/body%3E%0A%3Cscript%3E%20%20%20%20%0A%20%20%20%20%0A%20%20%20%20%0A%20%20%20%20%20%20%20%20var%20bounds%20%3D%20null%3B%0A%20%20%20%20%0A%0A%20%20%20%20var%20map_74a15e69422447e9b170811646e155d4%20%3D%20L.map%28%0A%20%20%20%20%20%20%20%20%27map_74a15e69422447e9b170811646e155d4%27%2C%20%7B%0A%20%20%20%20%20%20%20%20center%3A%20%5B40.73%2C%20-74%5D%2C%0A%20%20%20%20%20%20%20%20zoom%3A%2011%2C%0A%20%20%20%20%20%20%20%20maxBounds%3A%20bounds%2C%0A%20%20%20%20%20%20%20%20layers%3A%20%5B%5D%2C%0A%20%20%20%20%20%20%20%20worldCopyJump%3A%20false%2C%0A%20%20%20%20%20%20%20%20crs%3A%20L.CRS.EPSG3857%2C%0A%20%20%20%20%20%20%20%20zoomControl%3A%20true%2C%0A%20%20%20%20%20%20%20%20%7D%29%3B%0A%0A%0A%20%20%20%20%0A%20%20%20%20var%20tile_layer_625e1e4f63c942bc90eded51f6180651%20%3D%20L.tileLayer%28%0A%20%20%20%20%20%20%20%20%27https%3A//%7Bs%7D.tile.openstreetmap.org/%7Bz%7D/%7Bx%7D/%7By%7D.png%27%2C%0A%20%20%20%20%20%20%20%20%7B%0A%20%20%20%20%20%20%20%20%22attribution%22%3A%20null%2C%0A%20%20%20%20%20%20%20%20%22detectRetina%22%3A%20false%2C%0A%20%20%20%20%20%20%20%20%22maxNativeZoom%22%3A%2018%2C%0A%20%20%20%20%20%20%20%20%22maxZoom%22%3A%2018%2C%0A%20%20%20%20%20%20%20%20%22minZoom%22%3A%200%2C%0A%20%20%20%20%20%20%20%20%22noWrap%22%3A%20false%2C%0A%20%20%20%20%20%20%20%20%22opacity%22%3A%201%2C%0A%20%20%20%20%20%20%20%20%22subdomains%22%3A%20%22abc%22%2C%0A%20%20%20%20%20%20%20%20%22tms%22%3A%20false%0A%7D%29.addTo%28map_74a15e69422447e9b170811646e155d4%29%3B%0A%20%20%20%20%0A%20%20%20%20%20%20%20%20%20%20%20%20var%20heat_map_4d4e10d5e602454699d9a8c82a049251%20%3D%20L.heatLayer%28%0A%20%20%20%20%20%20%20%20%20%20%20%20%20%20%20%20%5B%5B40.85345024200007%2C%20-73.89153654899997%5D%2C%20%5B40.690106415000045%2C%20-73.98897094299997%5D%2C%20%5B40.74987737400005%2C%20-73.86272726099996%5D%2C%20%5B40.684888145000045%2C%20-73.92310404899997%5D%2C%20%5B40.61101641200002%2C%20-73.97673841199997%5D%2C%20%5B40.68772017400005%2C%20-73.85009792499993%5D%2C%20%5B40.68214978900005%2C%20-73.94367291199995%5D%2C%20%5B40.679524703000034%2C%20-73.90457153799997%5D%2C%20%5B40.64953614800004%2C%20-73.91632293699999%5D%2C%20%5B40.81326462100003%2C%20-73.93027845099994%5D%2C%20%5B40.69243546900003%2C%20-73.95197615499995%5D%2C%20%5B40.820618301000025%2C%20-73.91478908099998%5D%2C%20%5B40.800880893000055%2C%20-73.94095380699997%5D%2C%20%5B40.851111636000034%2C%20-73.93525591199995%5D%2C%20%5B40.693870514000025%2C%20-73.92970371199993%5D%2C%20%5B40.63761575800004%2C%20-74.02527345399994%5D%2C%20%5B40.70858074100005%2C%20-73.79976327699995%5D%2C%20%5B40.69285795500008%2C%20-73.90354275599998%5D%2C%20%5B40.76058596700005%2C%20-73.98592709999998%5D%2C%20%5B40.86940749200004%2C%20-73.87999831299999%5D%2C%20%5B40.70843429200004%2C%20-73.95790520999998%5D%2C%20%5B40.679524703000034%2C%20-73.90457153799997%5D%2C%20%5B40.685769376000046%2C%20-73.91550224899999%5D%2C%20%5B40.83509424700002%2C%20-73.90804891499994%5D%2C%20%5B40.84108492100006%2C%20-73.93976883999993%5D%2C%20%5B40.61812050800006%2C%20-73.95910760599996%5D%2C%20%5B40.68519375500005%2C%20-73.92044993499997%5D%2C%20%5B40.679524703000034%2C%20-73.90457153799997%5D%2C%20%5B40.69119234900006%2C%20-73.86805872199994%5D%2C%20%5B40.68034722300007%2C%20-73.93003524099998%5D%2C%20%5B40.85513056600007%2C%20-73.88924198299998%5D%2C%20%5B40.68102056600002%2C%20-73.95344457199997%5D%2C%20%5B40.668806093000065%2C%20-73.93112156699993%5D%2C%20%5B40.795581553000034%2C%20-73.93229781499997%5D%2C%20%5B40.67474991700004%2C%20-73.99776989499998%5D%2C%20%5B40.63696033300005%2C%20-74.02248084499998%5D%2C%20%5B40.69699455600005%2C%20-73.93522525599997%5D%2C%20%5B40.862543023000065%2C%20-73.89707115799997%5D%2C%20%5B40.799110394000024%2C%20-73.96854247999994%5D%2C%20%5B40.83495981300007%2C%20-73.88653632299997%5D%2C%20%5B40.71610505500007%2C%20-73.99155309399998%5D%2C%20%5B40.76223477100008%2C%20-73.96818808299997%5D%2C%20%5B40.720053611000026%2C%20-73.98163907899993%5D%2C%20%5B40.790261092000044%2C%20-73.94563630299997%5D%2C%20%5B40.680048726000045%2C%20-73.77590919399995%5D%2C%20%5B40.88565451400007%2C%20-73.82872638499998%5D%2C%20%5B40.679649876000035%2C%20-73.92538867199994%5D%2C%20%5B40.57482547700005%2C%20-73.99092660999997%5D%2C%20%5B40.80708541200005%2C%20-73.94383088299999%5D%2C%20%5B40.66828046500007%2C%20-73.90262664599999%5D%2C%20%5B40.70843429200004%2C%20-73.95790520999998%5D%2C%20%5B40.66214759500008%2C%20-73.92721045199994%5D%2C%20%5B40.740057337000046%2C%20-73.77714721099994%5D%2C%20%5B40.841813522000045%2C%20-73.85055305099996%5D%2C%20%5B40.87669883700005%2C%20-73.90852293799998%5D%2C%20%5B40.71454252900003%2C%20-74.01567129499993%5D%2C%20%5B40.675441775000024%2C%20-73.86714533699995%5D%2C%20%5B40.74492259700002%2C%20-73.86462491899994%5D%2C%20%5B40.73097088200007%2C%20-73.99534335299995%5D%2C%20%5B40.65671661900007%2C%20-74.00536796699998%5D%2C%20%5B40.656524395000076%2C%20-73.91636102499997%5D%2C%20%5B40.684803219000045%2C%20-73.93690650499997%5D%2C%20%5B40.696847054000045%2C%20-73.93650923699995%5D%2C%20%5B40.593133841000046%2C%20-73.79146420299999%5D%2C%20%5B40.67066627200006%2C%20-73.95797590799998%5D%2C%20%5B40.686518784000036%2C%20-73.95454047999993%5D%2C%20%5B40.68982026700007%2C%20-73.98323400099997%5D%2C%20%5B40.73327645800003%2C%20-74.00507465299995%5D%2C%20%5B40.70843429200004%2C%20-73.95790520999998%5D%2C%20%5B40.68731964800003%2C%20-73.82140047499998%5D%2C%20%5B40.71784327200004%2C%20-73.957726112%5D%2C%20%5B40.67414212800003%2C%20-73.93620639499993%5D%2C%20%5B40.68406075000007%2C%20-73.97745929199993%5D%2C%20%5B40.75664204200007%2C%20-73.98837157699995%5D%2C%20%5B40.71592102200003%2C%20-74.01010553399993%5D%2C%20%5B40.751449824000076%2C%20-73.97605054499998%5D%2C%20%5B40.751449824000076%2C%20-73.97605054499998%5D%2C%20%5B40.75630267500002%2C%20-73.97673460599998%5D%2C%20%5B40.74350964400003%2C%20-73.84752923499997%5D%2C%20%5B40.59501006200002%2C%20-73.79536160199996%5D%2C%20%5B40.69833089400004%2C%20-73.91749507299994%5D%2C%20%5B40.68894241100002%2C%20-73.90504124399997%5D%2C%20%5B40.68365985900005%2C%20-73.87218758399997%5D%2C%20%5B40.60518710900004%2C%20-73.98017251099995%5D%2C%20%5B40.594081116000034%2C%20-73.77280939399995%5D%2C%20%5B40.75099904800004%2C%20-73.99062471199994%5D%2C%20%5B40.68891138900005%2C%20-73.98093008899998%5D%2C%20%5B40.61574449600005%2C%20-73.91558008099996%5D%2C%20%5B40.68034722300007%2C%20-73.93003524099998%5D%2C%20%5B40.57811661900007%2C%20-73.99262530099996%5D%2C%20%5B40.68860458600005%2C%20-73.98507328299998%5D%2C%20%5B40.71301216400008%2C%20-73.78236702599996%5D%2C%20%5B40.65912094200007%2C%20-73.89921958799994%5D%2C%20%5B40.679524703000034%2C%20-73.90457153799997%5D%2C%20%5B40.67859550700007%2C%20-73.90613035499997%5D%2C%20%5B40.683047491000025%2C%20-73.96477896299997%5D%2C%20%5B40.688154120000036%2C%20-73.94685537799995%5D%2C%20%5B40.68039860900007%2C%20-73.94955839299999%5D%2C%20%5B40.655718343000046%2C%20-73.94525938899994%5D%2C%20%5B40.840783858000066%2C%20-73.93625260699997%5D%2C%20%5B40.75973906000007%2C%20-73.84121121999993%5D%2C%20%5B40.751449824000076%2C%20-73.97605054499998%5D%2C%20%5B40.681842679000056%2C%20-73.91697825799997%5D%2C%20%5B40.647517268000044%2C%20-73.96798691899994%5D%2C%20%5B40.57557637700007%2C%20-73.98121802299994%5D%2C%20%5B40.67472664100006%2C%20-73.94112317399998%5D%2C%20%5B40.67690234600008%2C%20-73.90004715099997%5D%2C%20%5B40.679524703000034%2C%20-73.90457153799997%5D%2C%20%5B40.88358389500007%2C%20-73.86280560099993%5D%2C%20%5B40.69449438100002%2C%20-73.981736271%5D%2C%20%5B40.68039860900007%2C%20-73.94955839299999%5D%2C%20%5B40.68039860900007%2C%20-73.94955839299999%5D%2C%20%5B40.70670864700002%2C%20-73.95291446499994%5D%2C%20%5B40.69336646500005%2C%20-73.83052574399994%5D%2C%20%5B40.819702045000035%2C%20-73.90160301699996%5D%2C%20%5B40.75219869800003%2C%20-73.99346504499994%5D%2C%20%5B40.68078561300007%2C%20-73.97447511599995%5D%2C%20%5B40.75428869800004%2C%20-73.89750191399997%5D%2C%20%5B40.772808908000044%2C%20-73.93302138299998%5D%2C%20%5B40.75818729600008%2C%20-73.98800312899994%5D%2C%20%5B40.663815561000035%2C%20-73.90041639699997%5D%2C%20%5B40.61996984800004%2C%20-74.02365661999994%5D%2C%20%5B40.700733765000045%2C%20-73.94193330699994%5D%2C%20%5B40.756853343000046%2C%20-73.82177351899995%5D%2C%20%5B40.679524703000034%2C%20-73.90457153799997%5D%2C%20%5B40.751449824000076%2C%20-73.97605054499998%5D%2C%20%5B40.68982026700007%2C%20-73.98323400099997%5D%2C%20%5B40.66507499800008%2C%20-73.91347386099994%5D%2C%20%5B40.74716571600004%2C%20-73.86285916399999%5D%2C%20%5B40.75372087700004%2C%20-73.87555785399995%5D%2C%20%5B40.82449489700008%2C%20-73.91252947799995%5D%2C%20%5B40.645141680000044%2C%20-73.90231447799994%5D%2C%20%5B40.75713325800007%2C%20-73.97190835199996%5D%2C%20%5B40.679524703000034%2C%20-73.90457153799997%5D%2C%20%5B40.71237739700007%2C%20-73.79390471099998%5D%2C%20%5B40.70431846500002%2C%20-73.91923329999997%5D%2C%20%5B40.68365711400003%2C%20-73.87218758899995%5D%2C%20%5B40.742883474000045%2C%20-73.93393922399997%5D%2C%20%5B40.84743698900007%2C%20-73.93139564399995%5D%2C%20%5B40.634365460000026%2C%20-74.01074530599993%5D%2C%20%5B40.64927797800004%2C%20-74.00966659499993%5D%2C%20%5B40.837376359000075%2C%20-73.88776092899997%5D%2C%20%5B40.67667850000004%2C%20-73.93176958199997%5D%2C%20%5B40.79898610500004%2C%20-73.94461786899996%5D%2C%20%5B40.807780622000045%2C%20-73.94548472699995%5D%2C%20%5B40.75630267500002%2C%20-73.97673460599998%5D%2C%20%5B40.66559971500004%2C%20-73.88850054499993%5D%2C%20%5B40.816040445000056%2C%20-73.90808246599995%5D%2C%20%5B40.82414626900004%2C%20-73.89294648299993%5D%2C%20%5B40.75818729600008%2C%20-73.98800312899994%5D%2C%20%5B40.720813298000046%2C%20-73.97813591099998%5D%2C%20%5B40.69699455600005%2C%20-73.93522525599997%5D%2C%20%5B40.71069972600003%2C%20-73.78311041299997%5D%2C%20%5B40.61973073400002%2C%20-73.99881274299997%5D%2C%20%5B40.663815561000035%2C%20-73.90041639699997%5D%2C%20%5B40.67459999000005%2C%20-73.93057482199998%5D%2C%20%5B40.771638395000025%2C%20-73.82657541699997%5D%2C%20%5B40.76914830000004%2C%20-73.95811593899998%5D%2C%20%5B40.680672822000076%2C%20-73.95557561199999%5D%2C%20%5B40.689027417000034%2C%20-73.98615855199995%5D%2C%20%5B40.59219552500008%2C%20-73.97769553399995%5D%2C%20%5B40.68039860900007%2C%20-73.94955839299999%5D%2C%20%5B40.68731964800003%2C%20-73.82140047499998%5D%2C%20%5B40.812227638000024%2C%20-73.91851712199998%5D%2C%20%5B40.69105856700002%2C%20-73.98633121699999%5D%2C%20%5B40.663815561000035%2C%20-73.90041639699997%5D%2C%20%5B40.57732033700007%2C%20-73.96282240899995%5D%2C%20%5B40.70843429200004%2C%20-73.95790520999998%5D%2C%20%5B40.75428869800004%2C%20-73.89750191399997%5D%2C%20%5B40.751449824000076%2C%20-73.97605054499998%5D%2C%20%5B40.770081620000035%2C%20-73.95140029099997%5D%2C%20%5B40.81458867400005%2C%20-73.94795021199997%5D%2C%20%5B40.671026783000045%2C%20-73.98310894699993%5D%2C%20%5B40.66834956600008%2C%20-73.90651606299997%5D%2C%20%5B40.69151240700006%2C%20-73.90955229099995%5D%2C%20%5B40.67998073800004%2C%20-73.77623390699993%5D%2C%20%5B40.679524703000034%2C%20-73.90457153799997%5D%2C%20%5B40.667511760000025%2C%20-73.90242950999993%5D%2C%20%5B40.67928439700007%2C%20-73.92905930999996%5D%2C%20%5B40.75771167700003%2C%20-73.98202575399995%5D%2C%20%5B40.58091942300007%2C%20-73.96488321799995%5D%2C%20%5B40.61424878600008%2C%20-73.98823429499998%5D%2C%20%5B40.689531319000025%2C%20-73.93485749399997%5D%2C%20%5B40.751449824000076%2C%20-73.97605054499998%5D%2C%20%5B40.69220607500005%2C%20-73.92791326799994%5D%2C%20%5B40.82044551200005%2C%20-73.93623234699999%5D%2C%20%5B40.86226749000008%2C%20-73.89588578099993%5D%2C%20%5B40.69497183700002%2C%20-73.94622607499997%5D%2C%20%5B40.807780622000045%2C%20-73.94548472699995%5D%2C%20%5B40.679524703000034%2C%20-73.90457153799997%5D%2C%20%5B40.82096430100006%2C%20-73.94147793899998%5D%2C%20%5B40.704120897000045%2C%20-73.94785612699997%5D%2C%20%5B40.66979809000002%2C%20-73.94911580699994%5D%2C%20%5B40.80959683800006%2C%20-73.94978559799995%5D%2C%20%5B40.71610505500007%2C%20-73.99155309399998%5D%2C%20%5B40.740057337000046%2C%20-73.77714721099994%5D%2C%20%5B40.751449824000076%2C%20-73.97605054499998%5D%2C%20%5B40.737082284000046%2C%20-73.98296229999994%5D%2C%20%5B40.69220312900006%2C%20-73.98627328599997%5D%2C%20%5B40.815929553000046%2C%20-73.94516735699995%5D%2C%20%5B40.67610178900002%2C%20-73.90435651999995%5D%2C%20%5B40.586291409000076%2C%20-73.96624131199997%5D%2C%20%5B40.67828631700007%2C%20-73.91079962899995%5D%2C%20%5B40.70443503000007%2C%20-73.89378071399994%5D%2C%20%5B40.69699455600005%2C%20-73.93522525599997%5D%2C%20%5B40.686543845000074%2C%20-73.92828717399993%5D%2C%20%5B40.770340873000066%2C%20-73.87607555899997%5D%2C%20%5B40.683612895000074%2C%20-73.94396372699998%5D%2C%20%5B40.74664995000006%2C%20-73.89139283499998%5D%2C%20%5B40.63690202600003%2C%20-73.96407910599999%5D%2C%20%5B40.679524703000034%2C%20-73.90457153799997%5D%2C%20%5B40.70443503000007%2C%20-73.89378071399994%5D%2C%20%5B40.685769376000046%2C%20-73.91550224899999%5D%2C%20%5B40.69399449700006%2C%20-73.93517768399995%5D%2C%20%5B40.68962245400007%2C%20-73.96014913199997%5D%2C%20%5B40.75219869800003%2C%20-73.99346504499994%5D%2C%20%5B40.683047491000025%2C%20-73.96477896299997%5D%2C%20%5B40.68039860900007%2C%20-73.94955839299999%5D%2C%20%5B40.87669883700005%2C%20-73.90852293799998%5D%2C%20%5B40.679524703000034%2C%20-73.90457153799997%5D%2C%20%5B40.63036778500003%2C%20-73.93054157399997%5D%2C%20%5B40.737082284000046%2C%20-73.98296229999994%5D%2C%20%5B40.63932887100003%2C%20-74.02355178599998%5D%2C%20%5B40.81077276700007%2C%20-73.95259158999993%5D%2C%20%5B40.73782760100005%2C%20-73.73400405499996%5D%2C%20%5B40.72842095400005%2C%20-73.99425391799997%5D%2C%20%5B40.68101337500008%2C%20-73.99434453099997%5D%2C%20%5B40.758228256000045%2C%20-73.98612251699996%5D%2C%20%5B40.846883343000044%2C%20-73.908759117%5D%2C%20%5B40.684803219000045%2C%20-73.93690650499997%5D%2C%20%5B40.69356013500004%2C%20-73.93893927499995%5D%2C%20%5B40.66079807700004%2C%20-73.99400383299998%5D%2C%20%5B40.70059059000005%2C%20-73.80774319999993%5D%2C%20%5B40.751449824000076%2C%20-73.97605054499998%5D%2C%20%5B40.818568337000045%2C%20-73.92731394599997%5D%2C%20%5B40.645141680000044%2C%20-73.90231447799994%5D%2C%20%5B40.716686174000074%2C%20-73.96110693699995%5D%2C%20%5B40.679524703000034%2C%20-73.90457153799997%5D%2C%20%5B40.86226749000008%2C%20-73.89588578099993%5D%2C%20%5B40.76970718100006%2C%20-73.932728463%5D%2C%20%5B40.68220945600007%2C%20-73.83656806799998%5D%2C%20%5B40.679524703000034%2C%20-73.90457153799997%5D%2C%20%5B40.73818973500005%2C%20-73.88483189599998%5D%2C%20%5B40.68365985900005%2C%20-73.87218758399997%5D%2C%20%5B40.644981504000036%2C%20-74.07732129999994%5D%2C%20%5B40.69579171600003%2C%20-73.939095905%5D%2C%20%5B40.69062899500005%2C%20-73.95792726799993%5D%2C%20%5B40.739742901000064%2C%20-73.72101258899994%5D%2C%20%5B40.688939670000025%2C%20-73.90504485399998%5D%2C%20%5B40.65912094200007%2C%20-73.89921958799994%5D%5D%2C%0A%20%20%20%20%20%20%20%20%20%20%20%20%20%20%20%20%7B%0A%20%20%20%20%20%20%20%20%20%20%20%20%20%20%20%20%20%20%20%20minOpacity%3A%200.5%2C%0A%20%20%20%20%20%20%20%20%20%20%20%20%20%20%20%20%20%20%20%20maxZoom%3A%2018%2C%0A%20%20%20%20%20%20%20%20%20%20%20%20%20%20%20%20%20%20%20%20max%3A%201.0%2C%0A%20%20%20%20%20%20%20%20%20%20%20%20%20%20%20%20%20%20%20%20radius%3A%2025%2C%0A%20%20%20%20%20%20%20%20%20%20%20%20%20%20%20%20%20%20%20%20blur%3A%2015%2C%0A%20%20%20%20%20%20%20%20%20%20%20%20%20%20%20%20%20%20%20%20gradient%3A%20null%0A%20%20%20%20%20%20%20%20%20%20%20%20%20%20%20%20%20%20%20%20%7D%29%0A%20%20%20%20%20%20%20%20%20%20%20%20%20%20%20%20.addTo%28map_74a15e69422447e9b170811646e155d4%29%3B%0A%20%20%20%20%20%20%20%20%0A%3C/script%3E onload=\"this.contentDocument.open();this.contentDocument.write(    decodeURIComponent(this.getAttribute('data-html')));this.contentDocument.close();\" allowfullscreen webkitallowfullscreen mozallowfullscreen></iframe></div></div>"
            ],
            "text/plain": [
              "<folium.folium.Map at 0x7f9e43677650>"
            ]
          },
          "metadata": {},
          "execution_count": 655
        }
      ]
    },
    {
      "cell_type": "code",
      "source": [
        "heatmap = folium.Map(location=[40.73, -74], zoom_start=11)\n",
        "\n",
        "\n",
        "heat_df = df[df['LAW_CAT_CD'] == 'M'].sample(heatmap_ss)\n",
        "heat_df = heat_df[['Latitude', 'Longitude']]\n",
        "heat_data = [[row['Latitude'],row['Longitude']] for index, row in heat_df.iterrows()]\n",
        "\n",
        "title_html = '''\n",
        "             <h3 align=\"center\" style=\"font-size:20px\"><b>Misdemeanors Committed in NYC 2021</b></h3>\n",
        "             '''\n",
        "heatmap.get_root().html.add_child(folium.Element(title_html))\n",
        "\n",
        "HeatMap(heat_data).add_to(heatmap)\n",
        "\n",
        "heatmap"
      ],
      "metadata": {
        "colab": {
          "base_uri": "https://localhost:8080/",
          "height": 1000
        },
        "id": "fpXXpCvIFsDD",
        "outputId": "e34931c0-0509-42e9-8e12-dd0273680f87"
      },
      "execution_count": 656,
      "outputs": [
        {
          "output_type": "execute_result",
          "data": {
            "text/html": [
              "<div style=\"width:100%;\"><div style=\"position:relative;width:100%;height:0;padding-bottom:60%;\"><span style=\"color:#565656\">Make this Notebook Trusted to load map: File -> Trust Notebook</span><iframe src=\"about:blank\" style=\"position:absolute;width:100%;height:100%;left:0;top:0;border:none !important;\" data-html=%3C%21DOCTYPE%20html%3E%0A%3Chead%3E%20%20%20%20%0A%20%20%20%20%3Cmeta%20http-equiv%3D%22content-type%22%20content%3D%22text/html%3B%20charset%3DUTF-8%22%20/%3E%0A%20%20%20%20%3Cscript%3EL_PREFER_CANVAS%3Dfalse%3B%20L_NO_TOUCH%3Dfalse%3B%20L_DISABLE_3D%3Dfalse%3B%3C/script%3E%0A%20%20%20%20%3Cscript%20src%3D%22https%3A//cdn.jsdelivr.net/npm/leaflet%401.4.0/dist/leaflet.js%22%3E%3C/script%3E%0A%20%20%20%20%3Cscript%20src%3D%22https%3A//code.jquery.com/jquery-1.12.4.min.js%22%3E%3C/script%3E%0A%20%20%20%20%3Cscript%20src%3D%22https%3A//maxcdn.bootstrapcdn.com/bootstrap/3.2.0/js/bootstrap.min.js%22%3E%3C/script%3E%0A%20%20%20%20%3Cscript%20src%3D%22https%3A//cdnjs.cloudflare.com/ajax/libs/Leaflet.awesome-markers/2.0.2/leaflet.awesome-markers.js%22%3E%3C/script%3E%0A%20%20%20%20%3Clink%20rel%3D%22stylesheet%22%20href%3D%22https%3A//cdn.jsdelivr.net/npm/leaflet%401.4.0/dist/leaflet.css%22/%3E%0A%20%20%20%20%3Clink%20rel%3D%22stylesheet%22%20href%3D%22https%3A//maxcdn.bootstrapcdn.com/bootstrap/3.2.0/css/bootstrap.min.css%22/%3E%0A%20%20%20%20%3Clink%20rel%3D%22stylesheet%22%20href%3D%22https%3A//maxcdn.bootstrapcdn.com/bootstrap/3.2.0/css/bootstrap-theme.min.css%22/%3E%0A%20%20%20%20%3Clink%20rel%3D%22stylesheet%22%20href%3D%22https%3A//maxcdn.bootstrapcdn.com/font-awesome/4.6.3/css/font-awesome.min.css%22/%3E%0A%20%20%20%20%3Clink%20rel%3D%22stylesheet%22%20href%3D%22https%3A//cdnjs.cloudflare.com/ajax/libs/Leaflet.awesome-markers/2.0.2/leaflet.awesome-markers.css%22/%3E%0A%20%20%20%20%3Clink%20rel%3D%22stylesheet%22%20href%3D%22https%3A//rawcdn.githack.com/python-visualization/folium/master/folium/templates/leaflet.awesome.rotate.css%22/%3E%0A%20%20%20%20%3Cstyle%3Ehtml%2C%20body%20%7Bwidth%3A%20100%25%3Bheight%3A%20100%25%3Bmargin%3A%200%3Bpadding%3A%200%3B%7D%3C/style%3E%0A%20%20%20%20%3Cstyle%3E%23map%20%7Bposition%3Aabsolute%3Btop%3A0%3Bbottom%3A0%3Bright%3A0%3Bleft%3A0%3B%7D%3C/style%3E%0A%20%20%20%20%0A%20%20%20%20%3Cmeta%20name%3D%22viewport%22%20content%3D%22width%3Ddevice-width%2C%0A%20%20%20%20%20%20%20%20initial-scale%3D1.0%2C%20maximum-scale%3D1.0%2C%20user-scalable%3Dno%22%20/%3E%0A%20%20%20%20%3Cstyle%3E%23map_28f052cc0d4c4db8bca895814b327ef6%20%7B%0A%20%20%20%20%20%20%20%20position%3A%20relative%3B%0A%20%20%20%20%20%20%20%20width%3A%20100.0%25%3B%0A%20%20%20%20%20%20%20%20height%3A%20100.0%25%3B%0A%20%20%20%20%20%20%20%20left%3A%200.0%25%3B%0A%20%20%20%20%20%20%20%20top%3A%200.0%25%3B%0A%20%20%20%20%20%20%20%20%7D%0A%20%20%20%20%3C/style%3E%0A%20%20%20%20%3Cscript%20src%3D%22https%3A//leaflet.github.io/Leaflet.heat/dist/leaflet-heat.js%22%3E%3C/script%3E%0A%3C/head%3E%0A%3Cbody%3E%20%20%20%20%0A%20%20%20%20%0A%20%20%20%20%20%20%20%20%20%20%20%20%20%3Ch3%20align%3D%22center%22%20style%3D%22font-size%3A20px%22%3E%3Cb%3EMisdemeanors%20Committed%20in%20NYC%202021%3C/b%3E%3C/h3%3E%0A%20%20%20%20%20%20%20%20%20%20%20%20%20%0A%20%20%20%20%0A%20%20%20%20%3Cdiv%20class%3D%22folium-map%22%20id%3D%22map_28f052cc0d4c4db8bca895814b327ef6%22%20%3E%3C/div%3E%0A%3C/body%3E%0A%3Cscript%3E%20%20%20%20%0A%20%20%20%20%0A%20%20%20%20%0A%20%20%20%20%20%20%20%20var%20bounds%20%3D%20null%3B%0A%20%20%20%20%0A%0A%20%20%20%20var%20map_28f052cc0d4c4db8bca895814b327ef6%20%3D%20L.map%28%0A%20%20%20%20%20%20%20%20%27map_28f052cc0d4c4db8bca895814b327ef6%27%2C%20%7B%0A%20%20%20%20%20%20%20%20center%3A%20%5B40.73%2C%20-74%5D%2C%0A%20%20%20%20%20%20%20%20zoom%3A%2011%2C%0A%20%20%20%20%20%20%20%20maxBounds%3A%20bounds%2C%0A%20%20%20%20%20%20%20%20layers%3A%20%5B%5D%2C%0A%20%20%20%20%20%20%20%20worldCopyJump%3A%20false%2C%0A%20%20%20%20%20%20%20%20crs%3A%20L.CRS.EPSG3857%2C%0A%20%20%20%20%20%20%20%20zoomControl%3A%20true%2C%0A%20%20%20%20%20%20%20%20%7D%29%3B%0A%0A%0A%20%20%20%20%0A%20%20%20%20var%20tile_layer_81feaf960263499cae7a9f68b877e344%20%3D%20L.tileLayer%28%0A%20%20%20%20%20%20%20%20%27https%3A//%7Bs%7D.tile.openstreetmap.org/%7Bz%7D/%7Bx%7D/%7By%7D.png%27%2C%0A%20%20%20%20%20%20%20%20%7B%0A%20%20%20%20%20%20%20%20%22attribution%22%3A%20null%2C%0A%20%20%20%20%20%20%20%20%22detectRetina%22%3A%20false%2C%0A%20%20%20%20%20%20%20%20%22maxNativeZoom%22%3A%2018%2C%0A%20%20%20%20%20%20%20%20%22maxZoom%22%3A%2018%2C%0A%20%20%20%20%20%20%20%20%22minZoom%22%3A%200%2C%0A%20%20%20%20%20%20%20%20%22noWrap%22%3A%20false%2C%0A%20%20%20%20%20%20%20%20%22opacity%22%3A%201%2C%0A%20%20%20%20%20%20%20%20%22subdomains%22%3A%20%22abc%22%2C%0A%20%20%20%20%20%20%20%20%22tms%22%3A%20false%0A%7D%29.addTo%28map_28f052cc0d4c4db8bca895814b327ef6%29%3B%0A%20%20%20%20%0A%20%20%20%20%20%20%20%20%20%20%20%20var%20heat_map_e10de499f14347ca81ae9457cc50a55c%20%3D%20L.heatLayer%28%0A%20%20%20%20%20%20%20%20%20%20%20%20%20%20%20%20%5B%5B40.765397475000036%2C%20-73.98570226399994%5D%2C%20%5B40.75512417800008%2C%20-73.90856356099994%5D%2C%20%5B40.80918328400003%2C%20-73.95189553499995%5D%2C%20%5B40.609025756000044%2C%20-73.99187636999993%5D%2C%20%5B40.772480710000025%2C%20-73.91049294499999%5D%2C%20%5B40.65518133500007%2C%20-73.96113197999993%5D%2C%20%5B40.719220402000076%2C%20-74.00781888399997%5D%2C%20%5B40.86940749200004%2C%20-73.87999831299999%5D%2C%20%5B40.75920793900008%2C%20-73.98462069499993%5D%2C%20%5B40.65859347700007%2C%20-73.98732902699999%5D%2C%20%5B40.86940749200004%2C%20-73.87999831299999%5D%2C%20%5B40.88733281800006%2C%20-73.84725001299995%5D%2C%20%5B40.68740161900007%2C%20-73.94036919399997%5D%2C%20%5B40.76284267600005%2C%20-73.99128364799998%5D%2C%20%5B40.700556637000034%2C%20-73.90982493399997%5D%2C%20%5B40.84297680200007%2C%20-73.90772719799999%5D%2C%20%5B40.74975285700003%2C%20-73.88431023499999%5D%2C%20%5B40.753614450000036%2C%20-73.98709078499998%5D%2C%20%5B40.67111083400005%2C%20-73.91356336299998%5D%2C%20%5B40.737082284000046%2C%20-73.98296229999994%5D%2C%20%5B40.66239762400005%2C%20-73.96190993499994%5D%2C%20%5B40.74308016800006%2C%20-73.95473646099998%5D%2C%20%5B40.52627440400005%2C%20-74.20152798499998%5D%2C%20%5B40.88126160300004%2C%20-73.90312839199999%5D%2C%20%5B40.86940749200004%2C%20-73.87999831299999%5D%2C%20%5B40.85358740100002%2C%20-73.90059135599995%5D%2C%20%5B40.82628213200008%2C%20-73.92070763799995%5D%2C%20%5B40.72530108700005%2C%20-73.93484056999995%5D%2C%20%5B40.594244213000025%2C%20-73.77200587099996%5D%2C%20%5B40.751449824000076%2C%20-73.97605054499998%5D%2C%20%5B40.79605784000006%2C%20-73.96705230699997%5D%2C%20%5B40.586231405000035%2C%20-73.81601112099996%5D%2C%20%5B40.71650772200008%2C%20-73.98391989899994%5D%2C%20%5B40.85333000100008%2C%20-73.93161368199995%5D%2C%20%5B40.76956124200007%2C%20-73.91536344699995%5D%2C%20%5B40.76015718700007%2C%20-73.76742395499997%5D%2C%20%5B40.67998073800004%2C%20-73.77623390699993%5D%2C%20%5B40.623226819000074%2C%20-74.14922697299994%5D%2C%20%5B40.73086518700006%2C%20-73.98148455999996%5D%2C%20%5B40.81776347800008%2C%20-73.88865747399994%5D%2C%20%5B40.75679820100004%2C%20-73.97111078699999%5D%2C%20%5B40.81427662500005%2C%20-73.91295474999998%5D%2C%20%5B40.727410457000076%2C%20-73.98853903499997%5D%2C%20%5B40.781134672000064%2C%20-73.82261846299998%5D%2C%20%5B40.804694598000026%2C%20-73.93815825199994%5D%2C%20%5B40.636813201000045%2C%20-74.15365667199995%5D%2C%20%5B40.815929553000046%2C%20-73.94516735699995%5D%2C%20%5B40.865362649000076%2C%20-73.89493369499998%5D%2C%20%5B40.84640218800007%2C%20-73.88076992099997%5D%2C%20%5B40.83957595800007%2C%20-73.94098451699995%5D%2C%20%5B40.814901468000066%2C%20-73.94771875699999%5D%2C%20%5B40.764379785000074%2C%20-73.99201626499998%5D%2C%20%5B40.88311992000007%2C%20-73.90332096899994%5D%2C%20%5B40.689498668000056%2C%20-73.92207105399994%5D%2C%20%5B40.680508417000055%2C%20-73.97459780599996%5D%2C%20%5B40.88459594900007%2C%20-73.90932939299995%5D%2C%20%5B40.74695102800007%2C%20-73.89050092199994%5D%2C%20%5B40.74088057900008%2C%20-73.98019709199998%5D%2C%20%5B40.66403188700008%2C%20-73.90977698599994%5D%2C%20%5B40.71454252900003%2C%20-74.01567129499993%5D%2C%20%5B40.70001485200004%2C%20-73.94813342799995%5D%2C%20%5B40.64886713300007%2C%20-73.95082189999994%5D%2C%20%5B40.75322684800005%2C%20-73.92257399699997%5D%2C%20%5B40.88733281800006%2C%20-73.84725001299995%5D%2C%20%5B40.697548353000045%2C%20-73.83350115299999%5D%2C%20%5B40.604015196000034%2C%20-74.06915659299993%5D%2C%20%5B40.57047502800003%2C%20-74.10976338799998%5D%2C%20%5B40.77368684900005%2C%20-73.95480591899997%5D%2C%20%5B40.586452233000045%2C%20-73.98837600299998%5D%2C%20%5B40.79438636200007%2C%20-73.82447200799999%5D%2C%20%5B40.73420929300004%2C%20-73.98934251699995%5D%2C%20%5B40.58083303800004%2C%20-73.96086924399998%5D%2C%20%5B40.64591801500006%2C%20-74.01316153199997%5D%2C%20%5B40.71241149700006%2C%20-73.82621729999995%5D%2C%20%5B40.75803003100003%2C%20-73.98179465299995%5D%2C%20%5B40.64214108300007%2C%20-74.08068711799997%5D%2C%20%5B40.60482871000005%2C%20-74.07617279399994%5D%2C%20%5B40.67459999000005%2C%20-73.93057482199998%5D%2C%20%5B40.72199787300008%2C%20-73.84263596999993%5D%2C%20%5B40.85527369300007%2C%20-73.85937925599995%5D%2C%20%5B40.68766863800005%2C%20-73.85057039799993%5D%2C%20%5B40.795581553000034%2C%20-73.93229781499997%5D%2C%20%5B40.75737941700004%2C%20-73.83401937099995%5D%2C%20%5B40.68948270800007%2C%20-73.84419112199998%5D%2C%20%5B40.828183583000055%2C%20-73.94282661599993%5D%2C%20%5B40.89754616600004%2C%20-73.85389299899998%5D%2C%20%5B40.72182201900005%2C%20-73.98747935099993%5D%2C%20%5B40.750430768000044%2C%20-73.98928217599996%5D%2C%20%5B40.762198959000045%2C%20-73.91417073199995%5D%2C%20%5B40.81608766100004%2C%20-73.89582435399994%5D%2C%20%5B40.627977755000074%2C%20-73.94164715699995%5D%2C%20%5B40.668806093000065%2C%20-73.93112156699993%5D%2C%20%5B40.78934789300007%2C%20-73.94735241299998%5D%2C%20%5B40.76810385400006%2C%20-73.82521637499997%5D%2C%20%5B40.78926022400003%2C%20-73.94771000099996%5D%2C%20%5B40.73074590600004%2C%20-73.99986434%5D%2C%20%5B40.761328269000046%2C%20-73.91709216199997%5D%2C%20%5B40.74331227200002%2C%20-73.83767043699999%5D%2C%20%5B40.83628833500006%2C%20-73.92748973599998%5D%2C%20%5B40.83282930100006%2C%20-73.91824255099993%5D%2C%20%5B40.83732351100008%2C%20-73.91983075699994%5D%2C%20%5B40.698890722000044%2C%20-73.94486330399997%5D%2C%20%5B40.76690500600006%2C%20-73.96373101899997%5D%2C%20%5B40.689453908000075%2C%20-73.80871284299997%5D%2C%20%5B40.70629036500002%2C%20-73.95035033099998%5D%2C%20%5B40.66416202000005%2C%20-73.94681681999998%5D%2C%20%5B40.71643394100005%2C%20-73.98646309199995%5D%2C%20%5B40.88733281800006%2C%20-73.84725001299995%5D%2C%20%5B40.688743368000075%2C%20-73.94498708099997%5D%2C%20%5B40.82859008200006%2C%20-73.87917218299998%5D%2C%20%5B40.69603826100007%2C%20-73.94352774899994%5D%2C%20%5B40.855802743000034%2C%20-73.84390995399998%5D%2C%20%5B40.599258977000034%2C%20-73.94166505199999%5D%2C%20%5B40.70715351600006%2C%20-73.92701703599994%5D%2C%20%5B40.68406075000007%2C%20-73.97745929199993%5D%2C%20%5B40.66214759500008%2C%20-73.92721045199994%5D%2C%20%5B40.67998073800004%2C%20-73.77623390699993%5D%2C%20%5B40.66442649100002%2C%20-73.93292475099996%5D%2C%20%5B40.831905523000046%2C%20-73.90543707099994%5D%2C%20%5B40.70546240200008%2C%20-73.91093638899997%5D%2C%20%5B40.83364865700002%2C%20-73.90573091799997%5D%2C%20%5B40.742237852000066%2C%20-73.99119251599996%5D%2C%20%5B40.75851417100006%2C%20-73.99071750399997%5D%2C%20%5B40.718454834000056%2C%20-73.99675834799997%5D%2C%20%5B40.827819901000055%2C%20-73.92593075599996%5D%2C%20%5B40.83611757700004%2C%20-73.92237273499995%5D%2C%20%5B40.54696566500007%2C%20-74.18128573699995%5D%2C%20%5B40.64946851600007%2C%20-73.958482969%5D%2C%20%5B40.87754571800008%2C%20-73.82807467999999%5D%2C%20%5B40.619576213000066%2C%20-73.98627741199994%5D%2C%20%5B40.57558326100008%2C%20-73.99431745699997%5D%2C%20%5B40.67601760400004%2C%20-73.90544900399993%5D%2C%20%5B40.850129421000084%2C%20-73.88612368499997%5D%2C%20%5B40.63780411200002%2C%20-74.07698510099993%5D%2C%20%5B40.85627241100008%2C%20-73.88646743099997%5D%2C%20%5B40.682916850000026%2C%20-73.95978537499997%5D%2C%20%5B40.796571143000044%2C%20-73.96718568699998%5D%2C%20%5B40.72075882100006%2C%20-73.98046642299995%5D%2C%20%5B40.814852894000076%2C%20-73.95631335299998%5D%2C%20%5B40.86605592100005%2C%20-73.87206118999995%5D%2C%20%5B40.63807818300006%2C%20-74.13184274799994%5D%2C%20%5B40.655718343000046%2C%20-73.94525938899994%5D%2C%20%5B40.87880883800005%2C%20-73.87301662999994%5D%2C%20%5B40.627495985000046%2C%20-73.93889163899995%5D%2C%20%5B40.88745131300004%2C%20-73.84760778699997%5D%2C%20%5B40.623188378000066%2C%20-74.14923769499995%5D%2C%20%5B40.75766554000006%2C%20-73.98577611499995%5D%2C%20%5B40.73886867600004%2C%20-73.98019768999995%5D%2C%20%5B40.851111636000034%2C%20-73.93525591199995%5D%2C%20%5B40.88733281800006%2C%20-73.84725001299995%5D%2C%20%5B40.70050526700004%2C%20-73.90076551899993%5D%2C%20%5B40.68795354100007%2C%20-73.98140272299997%5D%2C%20%5B40.690551165000045%2C%20-73.95533824899995%5D%2C%20%5B40.82229848500003%2C%20-73.91169413099993%5D%2C%20%5B40.59475843900003%2C%20-73.95610446799998%5D%2C%20%5B40.83489107400004%2C%20-73.88923592399993%5D%2C%20%5B40.82075053800003%2C%20-73.84843255099996%5D%2C%20%5B40.71567057300007%2C%20-73.98394174399994%5D%2C%20%5B40.80407395700007%2C%20-73.93266483499998%5D%2C%20%5B40.61246467600006%2C%20-73.98829583799994%5D%2C%20%5B40.742487246000046%2C%20-73.88405941099995%5D%2C%20%5B40.634837755000035%2C%20-74.00845752099997%5D%2C%20%5B40.80473576100008%2C%20-73.95609604099997%5D%2C%20%5B40.81780344100008%2C%20-73.89318429599997%5D%2C%20%5B40.837321839000026%2C%20-73.91011659999998%5D%2C%20%5B40.74296235400004%2C%20-73.95527424799997%5D%2C%20%5B40.839791553000055%2C%20-73.83701941099997%5D%2C%20%5B40.747399795000035%2C%20-73.88625236599995%5D%2C%20%5B40.78934789300007%2C%20-73.94735241299998%5D%2C%20%5B40.619308795000045%2C%20-74.15429356999994%5D%2C%20%5B40.86397077500004%2C%20-73.89459243599998%5D%2C%20%5B40.60844334000007%2C%20-74.15543894899997%5D%2C%20%5B40.578809713000055%2C%20-73.95970045899995%5D%2C%20%5B40.63840811500006%2C%20-74.08823835899994%5D%2C%20%5B40.67259514700004%2C%20-73.77514474599997%5D%2C%20%5B40.82229848500003%2C%20-73.91169413099993%5D%2C%20%5B40.721033401000064%2C%20-73.98108684799999%5D%2C%20%5B40.84742269100008%2C%20-73.89430420099995%5D%2C%20%5B40.67141166300007%2C%20-73.88151172399995%5D%2C%20%5B40.74296235400004%2C%20-73.95527424799997%5D%2C%20%5B40.70629036500002%2C%20-73.95035033099998%5D%2C%20%5B40.76187469000007%2C%20-73.96635808399995%5D%2C%20%5B40.86723681000007%2C%20-73.89146344499993%5D%2C%20%5B40.74525274100006%2C%20-73.87006286999997%5D%2C%20%5B40.737082284000046%2C%20-73.98296229999994%5D%2C%20%5B40.70962570700004%2C%20-73.82999385799998%5D%2C%20%5B40.81527993000003%2C%20-73.90442746199994%5D%2C%20%5B40.619631920000074%2C%20-73.95646633299998%5D%2C%20%5B40.79894773900003%2C%20-73.93928686299995%5D%2C%20%5B40.69843969400005%2C%20-73.83112953899997%5D%2C%20%5B40.83294176100002%2C%20-73.93543259299997%5D%2C%20%5B40.511829552000044%2C%20-74.23147050299998%5D%2C%20%5B40.81054022200004%2C%20-73.94797866499994%5D%2C%20%5B40.652409353000046%2C%20-73.95433667599998%5D%2C%20%5B40.86211447300008%2C%20-73.92507190099997%5D%2C%20%5B40.63636512400007%2C%20-73.91800044299998%5D%2C%20%5B40.70074177600002%2C%20-73.82690770799998%5D%2C%20%5B40.65942756000004%2C%20-73.76111084399997%5D%2C%20%5B40.750430768000044%2C%20-73.98928217599996%5D%2C%20%5B40.70130538400008%2C%20-73.91633369899995%5D%2C%20%5B40.85176820800007%2C%20-73.91136583199994%5D%2C%20%5B40.639064398000066%2C%20-74.07634158899998%5D%2C%20%5B40.75757811200003%2C%20-73.98954452399995%5D%2C%20%5B40.66868253600006%2C%20-73.98175054699995%5D%2C%20%5B40.841642767000046%2C%20-73.94106580999993%5D%2C%20%5B40.82293702100003%2C%20-73.94005263699995%5D%2C%20%5B40.746938776000036%2C%20-73.85681094999995%5D%2C%20%5B40.817885913000055%2C%20-73.89332506399995%5D%2C%20%5B40.663368537000046%2C%20-73.95973948799997%5D%2C%20%5B40.765397475000036%2C%20-73.98570226399994%5D%2C%20%5B40.67998073800004%2C%20-73.77623390699993%5D%2C%20%5B40.65041561900005%2C%20-73.87518474299998%5D%2C%20%5B40.635748327000044%2C%20-74.12144713799995%5D%2C%20%5B40.61549122300004%2C%20-74.08165622999995%5D%2C%20%5B40.63718696300003%2C%20-73.90193699199995%5D%2C%20%5B40.72628777500006%2C%20-73.98779600499995%5D%2C%20%5B40.72467740500008%2C%20-73.95686672999993%5D%2C%20%5B40.631310548000044%2C%20-74.01033049899995%5D%2C%20%5B40.862170945000045%2C%20-73.89535449199997%5D%2C%20%5B40.70797170400005%2C%20-73.78619597099998%5D%2C%20%5B40.74763185300003%2C%20-73.89657741499997%5D%2C%20%5B40.82305580800004%2C%20-73.90452830099997%5D%2C%20%5B40.75656758500002%2C%20-73.87593153399997%5D%2C%20%5B40.69331593800007%2C%20-73.83542655999997%5D%2C%20%5B40.73801661700002%2C%20-73.99426391599997%5D%2C%20%5B40.858376975000056%2C%20-73.90391003799994%5D%2C%20%5B40.82741405100006%2C%20-73.87794577499993%5D%2C%20%5B40.842909442000064%2C%20-73.93842270599998%5D%2C%20%5B40.69833089400004%2C%20-73.91749507299994%5D%2C%20%5B40.696429780000074%2C%20-73.88645472399995%5D%2C%20%5B40.886052491000044%2C%20-73.86144429999997%5D%2C%20%5B40.84813442700005%2C%20-73.91529962099996%5D%2C%20%5B40.686832630000026%2C%20-73.93880481199994%5D%2C%20%5B40.794515091000044%2C%20-73.96632353299998%5D%2C%20%5B40.76105887700004%2C%20-73.99675988599995%5D%2C%20%5B40.70451983100002%2C%20-73.89347040299998%5D%2C%20%5B40.84677496300003%2C%20-73.91417004%5D%2C%20%5B40.87651173300002%2C%20-73.90456002699995%5D%2C%20%5B40.822862677000046%2C%20-73.86045219199997%5D%2C%20%5B40.89812471600004%2C%20-73.85343595899997%5D%2C%20%5B40.70302384700005%2C%20-73.89638333599999%5D%2C%20%5B40.88130754900004%2C%20-73.89909254599996%5D%2C%20%5B40.62523887900005%2C%20-74.16709226499995%5D%2C%20%5B40.74930704500007%2C%20-73.89757815199994%5D%2C%20%5B40.75393893800003%2C%20-73.99484365499995%5D%2C%20%5B40.826989411000056%2C%20-73.93712940999995%5D%2C%20%5B40.67919247000003%2C%20-73.94127786699994%5D%2C%20%5B40.77021126900007%2C%20-73.98224260599994%5D%2C%20%5B40.81532727000007%2C%20-73.91586521599999%5D%2C%20%5B40.623226819000074%2C%20-74.14922697299994%5D%5D%2C%0A%20%20%20%20%20%20%20%20%20%20%20%20%20%20%20%20%7B%0A%20%20%20%20%20%20%20%20%20%20%20%20%20%20%20%20%20%20%20%20minOpacity%3A%200.5%2C%0A%20%20%20%20%20%20%20%20%20%20%20%20%20%20%20%20%20%20%20%20maxZoom%3A%2018%2C%0A%20%20%20%20%20%20%20%20%20%20%20%20%20%20%20%20%20%20%20%20max%3A%201.0%2C%0A%20%20%20%20%20%20%20%20%20%20%20%20%20%20%20%20%20%20%20%20radius%3A%2025%2C%0A%20%20%20%20%20%20%20%20%20%20%20%20%20%20%20%20%20%20%20%20blur%3A%2015%2C%0A%20%20%20%20%20%20%20%20%20%20%20%20%20%20%20%20%20%20%20%20gradient%3A%20null%0A%20%20%20%20%20%20%20%20%20%20%20%20%20%20%20%20%20%20%20%20%7D%29%0A%20%20%20%20%20%20%20%20%20%20%20%20%20%20%20%20.addTo%28map_28f052cc0d4c4db8bca895814b327ef6%29%3B%0A%20%20%20%20%20%20%20%20%0A%3C/script%3E onload=\"this.contentDocument.open();this.contentDocument.write(    decodeURIComponent(this.getAttribute('data-html')));this.contentDocument.close();\" allowfullscreen webkitallowfullscreen mozallowfullscreen></iframe></div></div>"
            ],
            "text/plain": [
              "<folium.folium.Map at 0x7f9e431fd150>"
            ]
          },
          "metadata": {},
          "execution_count": 656
        }
      ]
    },
    {
      "cell_type": "code",
      "source": [
        "heatmap = folium.Map(location=[40.73, -74], zoom_start=11)\n",
        "\n",
        "\n",
        "heat_df = df[df['LAW_CAT_CD'] == 'F'].sample(heatmap_ss)\n",
        "heat_df = heat_df[['Latitude', 'Longitude']]\n",
        "heat_data = [[row['Latitude'],row['Longitude']] for index, row in heat_df.iterrows()]\n",
        "\n",
        "title_html = '''\n",
        "             <h3 align=\"center\" style=\"font-size:20px\"><b>Felonies Committed in NYC 2021</b></h3>\n",
        "             '''\n",
        "heatmap.get_root().html.add_child(folium.Element(title_html))\n",
        "\n",
        "HeatMap(heat_data).add_to(heatmap)\n",
        "\n",
        "heatmap"
      ],
      "metadata": {
        "colab": {
          "base_uri": "https://localhost:8080/",
          "height": 1000
        },
        "id": "E8fuzLNrFt9e",
        "outputId": "1c8477d4-9a01-45b8-dff3-1d3c721f403c"
      },
      "execution_count": 657,
      "outputs": [
        {
          "output_type": "execute_result",
          "data": {
            "text/html": [
              "<div style=\"width:100%;\"><div style=\"position:relative;width:100%;height:0;padding-bottom:60%;\"><span style=\"color:#565656\">Make this Notebook Trusted to load map: File -> Trust Notebook</span><iframe src=\"about:blank\" style=\"position:absolute;width:100%;height:100%;left:0;top:0;border:none !important;\" data-html=%3C%21DOCTYPE%20html%3E%0A%3Chead%3E%20%20%20%20%0A%20%20%20%20%3Cmeta%20http-equiv%3D%22content-type%22%20content%3D%22text/html%3B%20charset%3DUTF-8%22%20/%3E%0A%20%20%20%20%3Cscript%3EL_PREFER_CANVAS%3Dfalse%3B%20L_NO_TOUCH%3Dfalse%3B%20L_DISABLE_3D%3Dfalse%3B%3C/script%3E%0A%20%20%20%20%3Cscript%20src%3D%22https%3A//cdn.jsdelivr.net/npm/leaflet%401.4.0/dist/leaflet.js%22%3E%3C/script%3E%0A%20%20%20%20%3Cscript%20src%3D%22https%3A//code.jquery.com/jquery-1.12.4.min.js%22%3E%3C/script%3E%0A%20%20%20%20%3Cscript%20src%3D%22https%3A//maxcdn.bootstrapcdn.com/bootstrap/3.2.0/js/bootstrap.min.js%22%3E%3C/script%3E%0A%20%20%20%20%3Cscript%20src%3D%22https%3A//cdnjs.cloudflare.com/ajax/libs/Leaflet.awesome-markers/2.0.2/leaflet.awesome-markers.js%22%3E%3C/script%3E%0A%20%20%20%20%3Clink%20rel%3D%22stylesheet%22%20href%3D%22https%3A//cdn.jsdelivr.net/npm/leaflet%401.4.0/dist/leaflet.css%22/%3E%0A%20%20%20%20%3Clink%20rel%3D%22stylesheet%22%20href%3D%22https%3A//maxcdn.bootstrapcdn.com/bootstrap/3.2.0/css/bootstrap.min.css%22/%3E%0A%20%20%20%20%3Clink%20rel%3D%22stylesheet%22%20href%3D%22https%3A//maxcdn.bootstrapcdn.com/bootstrap/3.2.0/css/bootstrap-theme.min.css%22/%3E%0A%20%20%20%20%3Clink%20rel%3D%22stylesheet%22%20href%3D%22https%3A//maxcdn.bootstrapcdn.com/font-awesome/4.6.3/css/font-awesome.min.css%22/%3E%0A%20%20%20%20%3Clink%20rel%3D%22stylesheet%22%20href%3D%22https%3A//cdnjs.cloudflare.com/ajax/libs/Leaflet.awesome-markers/2.0.2/leaflet.awesome-markers.css%22/%3E%0A%20%20%20%20%3Clink%20rel%3D%22stylesheet%22%20href%3D%22https%3A//rawcdn.githack.com/python-visualization/folium/master/folium/templates/leaflet.awesome.rotate.css%22/%3E%0A%20%20%20%20%3Cstyle%3Ehtml%2C%20body%20%7Bwidth%3A%20100%25%3Bheight%3A%20100%25%3Bmargin%3A%200%3Bpadding%3A%200%3B%7D%3C/style%3E%0A%20%20%20%20%3Cstyle%3E%23map%20%7Bposition%3Aabsolute%3Btop%3A0%3Bbottom%3A0%3Bright%3A0%3Bleft%3A0%3B%7D%3C/style%3E%0A%20%20%20%20%0A%20%20%20%20%3Cmeta%20name%3D%22viewport%22%20content%3D%22width%3Ddevice-width%2C%0A%20%20%20%20%20%20%20%20initial-scale%3D1.0%2C%20maximum-scale%3D1.0%2C%20user-scalable%3Dno%22%20/%3E%0A%20%20%20%20%3Cstyle%3E%23map_786983071da24abc885925fb1898b86e%20%7B%0A%20%20%20%20%20%20%20%20position%3A%20relative%3B%0A%20%20%20%20%20%20%20%20width%3A%20100.0%25%3B%0A%20%20%20%20%20%20%20%20height%3A%20100.0%25%3B%0A%20%20%20%20%20%20%20%20left%3A%200.0%25%3B%0A%20%20%20%20%20%20%20%20top%3A%200.0%25%3B%0A%20%20%20%20%20%20%20%20%7D%0A%20%20%20%20%3C/style%3E%0A%20%20%20%20%3Cscript%20src%3D%22https%3A//leaflet.github.io/Leaflet.heat/dist/leaflet-heat.js%22%3E%3C/script%3E%0A%3C/head%3E%0A%3Cbody%3E%20%20%20%20%0A%20%20%20%20%0A%20%20%20%20%20%20%20%20%20%20%20%20%20%3Ch3%20align%3D%22center%22%20style%3D%22font-size%3A20px%22%3E%3Cb%3EFelonies%20Committed%20in%20NYC%202021%3C/b%3E%3C/h3%3E%0A%20%20%20%20%20%20%20%20%20%20%20%20%20%0A%20%20%20%20%0A%20%20%20%20%3Cdiv%20class%3D%22folium-map%22%20id%3D%22map_786983071da24abc885925fb1898b86e%22%20%3E%3C/div%3E%0A%3C/body%3E%0A%3Cscript%3E%20%20%20%20%0A%20%20%20%20%0A%20%20%20%20%0A%20%20%20%20%20%20%20%20var%20bounds%20%3D%20null%3B%0A%20%20%20%20%0A%0A%20%20%20%20var%20map_786983071da24abc885925fb1898b86e%20%3D%20L.map%28%0A%20%20%20%20%20%20%20%20%27map_786983071da24abc885925fb1898b86e%27%2C%20%7B%0A%20%20%20%20%20%20%20%20center%3A%20%5B40.73%2C%20-74%5D%2C%0A%20%20%20%20%20%20%20%20zoom%3A%2011%2C%0A%20%20%20%20%20%20%20%20maxBounds%3A%20bounds%2C%0A%20%20%20%20%20%20%20%20layers%3A%20%5B%5D%2C%0A%20%20%20%20%20%20%20%20worldCopyJump%3A%20false%2C%0A%20%20%20%20%20%20%20%20crs%3A%20L.CRS.EPSG3857%2C%0A%20%20%20%20%20%20%20%20zoomControl%3A%20true%2C%0A%20%20%20%20%20%20%20%20%7D%29%3B%0A%0A%0A%20%20%20%20%0A%20%20%20%20var%20tile_layer_963195ee8ed44adea4ffef57ae453dc9%20%3D%20L.tileLayer%28%0A%20%20%20%20%20%20%20%20%27https%3A//%7Bs%7D.tile.openstreetmap.org/%7Bz%7D/%7Bx%7D/%7By%7D.png%27%2C%0A%20%20%20%20%20%20%20%20%7B%0A%20%20%20%20%20%20%20%20%22attribution%22%3A%20null%2C%0A%20%20%20%20%20%20%20%20%22detectRetina%22%3A%20false%2C%0A%20%20%20%20%20%20%20%20%22maxNativeZoom%22%3A%2018%2C%0A%20%20%20%20%20%20%20%20%22maxZoom%22%3A%2018%2C%0A%20%20%20%20%20%20%20%20%22minZoom%22%3A%200%2C%0A%20%20%20%20%20%20%20%20%22noWrap%22%3A%20false%2C%0A%20%20%20%20%20%20%20%20%22opacity%22%3A%201%2C%0A%20%20%20%20%20%20%20%20%22subdomains%22%3A%20%22abc%22%2C%0A%20%20%20%20%20%20%20%20%22tms%22%3A%20false%0A%7D%29.addTo%28map_786983071da24abc885925fb1898b86e%29%3B%0A%20%20%20%20%0A%20%20%20%20%20%20%20%20%20%20%20%20var%20heat_map_af6c266b0bfb4fe8959a0ac82aa3a974%20%3D%20L.heatLayer%28%0A%20%20%20%20%20%20%20%20%20%20%20%20%20%20%20%20%5B%5B40.73775530200004%2C%20-73.85499756699994%5D%2C%20%5B40.816391847000034%2C%20-73.89529641399997%5D%2C%20%5B40.64101077400005%2C%20-73.99144729199999%5D%2C%20%5B40.70295991500007%2C%20-73.80482942999998%5D%2C%20%5B40.69994609100007%2C%20-73.91180930699994%5D%2C%20%5B40.75679820100004%2C%20-73.97111078699999%5D%2C%20%5B40.840783858000066%2C%20-73.93625260699997%5D%2C%20%5B40.59380202700004%2C%20-73.79828549299998%5D%2C%20%5B40.623226819000074%2C%20-74.14922697299994%5D%2C%20%5B40.67459999000005%2C%20-73.93057482199998%5D%2C%20%5B40.66852933200005%2C%20-73.84849728499995%5D%2C%20%5B40.74240439000005%2C%20-73.87824224799994%5D%2C%20%5B40.82867545800008%2C%20-73.94398971599996%5D%2C%20%5B40.86922455100006%2C%20-73.82492889599996%5D%2C%20%5B40.573763375000055%2C%20-73.99287775699997%5D%2C%20%5B40.81537776900007%2C%20-73.95801459299997%5D%2C%20%5B40.70241651400005%2C%20-74.01282645699997%5D%2C%20%5B40.83722265800003%2C%20-73.90620288799995%5D%2C%20%5B40.810398494000026%2C%20-73.92489531099994%5D%2C%20%5B40.65553848200005%2C%20-73.88409879299998%5D%2C%20%5B40.75656758500002%2C%20-73.87593153399997%5D%2C%20%5B40.63965038300007%2C%20-73.90030833099996%5D%2C%20%5B40.84801106400005%2C%20-73.89242373699994%5D%2C%20%5B40.639550643000064%2C%20-74.00714295599995%5D%2C%20%5B40.67474991700004%2C%20-73.99776989499998%5D%2C%20%5B40.707447364000075%2C%20-73.79214176799998%5D%2C%20%5B40.59406298000005%2C%20-73.96086869299995%5D%2C%20%5B40.71390722600006%2C%20-73.74879893899998%5D%2C%20%5B40.867902134000076%2C%20-73.89563833299998%5D%2C%20%5B40.67141166300007%2C%20-73.88151172399995%5D%2C%20%5B40.76690500600006%2C%20-73.96373101899997%5D%2C%20%5B40.76690500600006%2C%20-73.96373101899997%5D%2C%20%5B40.64886713300007%2C%20-73.95082189999994%5D%2C%20%5B40.834806765000046%2C%20-73.89596488999997%5D%2C%20%5B40.648650085000035%2C%20-73.95033556299995%5D%2C%20%5B40.70451983100002%2C%20-73.89347040299998%5D%2C%20%5B40.64198583500007%2C%20-73.95054230799997%5D%2C%20%5B40.67111083400005%2C%20-73.91356336299998%5D%2C%20%5B40.51158633800003%2C%20-74.24930372699998%5D%2C%20%5B40.68913703900005%2C%20-73.93178928699997%5D%2C%20%5B40.86940749200004%2C%20-73.87999831299999%5D%2C%20%5B40.82338729100008%2C%20-73.87017045%5D%2C%20%5B40.67459999000005%2C%20-73.93057482199998%5D%2C%20%5B40.58525401000002%2C%20-73.95829966999997%5D%2C%20%5B40.679637928000034%2C%20-73.98977306299997%5D%2C%20%5B40.84584783900005%2C%20-73.89200073999997%5D%2C%20%5B40.767743736000064%2C%20-73.91849573299999%5D%2C%20%5B40.75656758500002%2C%20-73.87593153399997%5D%2C%20%5B40.71634415200003%2C%20-74.00125319299997%5D%2C%20%5B40.81700468600008%2C%20-73.89923701099997%5D%2C%20%5B40.802422302000025%2C%20-73.93382234599994%5D%2C%20%5B40.81258573600008%2C%20-73.92035547499995%5D%2C%20%5B40.63853216900003%2C%20-73.97318694399995%5D%2C%20%5B40.761001984000075%2C%20-73.82442281299996%5D%2C%20%5B40.80233685300004%2C%20-73.94935763499996%5D%2C%20%5B40.644981504000036%2C%20-74.07732129999994%5D%2C%20%5B40.82102359700008%2C%20-73.82604205699994%5D%2C%20%5B40.653684258000055%2C%20-73.95781001099994%5D%2C%20%5B40.71634415200003%2C%20-74.00125319299997%5D%2C%20%5B40.644981504000036%2C%20-74.07732129999994%5D%2C%20%5B40.676960141000045%2C%20-73.95126265199998%5D%2C%20%5B40.687512664000046%2C%20-73.91983779199995%5D%2C%20%5B40.75656758500002%2C%20-73.87593153399997%5D%2C%20%5B40.83778161800007%2C%20-73.91945797099999%5D%2C%20%5B40.79588378900007%2C%20-73.94888941899995%5D%2C%20%5B40.74283378800004%2C%20-73.99842802399995%5D%2C%20%5B40.729082038000044%2C%20-73.98878770099995%5D%2C%20%5B40.661608202000025%2C%20-73.89073472399998%5D%2C%20%5B40.67111083400005%2C%20-73.91356336299998%5D%2C%20%5B40.86705078000005%2C%20-73.86831721699998%5D%2C%20%5B40.83778161800007%2C%20-73.91945797099999%5D%2C%20%5B40.762340262000066%2C%20-73.87135795399995%5D%2C%20%5B40.87142279000005%2C%20-73.86567990699997%5D%2C%20%5B40.765382374000076%2C%20-73.92964989599994%5D%2C%20%5B40.76058596700005%2C%20-73.98592709999998%5D%2C%20%5B40.63068215900006%2C%20-73.97355396999995%5D%2C%20%5B40.700511239000036%2C%20-73.94154039399997%5D%2C%20%5B40.67459999000005%2C%20-73.93057482199998%5D%2C%20%5B40.797348115000034%2C%20-73.93054433099995%5D%2C%20%5B40.70178488000005%2C%20-73.80793090299994%5D%2C%20%5B40.58982677200004%2C%20-74.16427806999997%5D%2C%20%5B40.814852894000076%2C%20-73.95631335299998%5D%2C%20%5B40.61204656900002%2C%20-73.98146708699994%5D%2C%20%5B40.844139945000045%2C%20-73.90038861799998%5D%2C%20%5B40.87049603600008%2C%20-73.90208828999994%5D%2C%20%5B40.68239828900005%2C%20-73.84007936899997%5D%2C%20%5B40.586231405000035%2C%20-73.81601112099996%5D%2C%20%5B40.69536744700008%2C%20-73.98324342499996%5D%2C%20%5B40.63583726600008%2C%20-74.16467957799993%5D%2C%20%5B40.70629036500002%2C%20-73.95035033099998%5D%2C%20%5B40.67457936700004%2C%20-73.79102207899997%5D%2C%20%5B40.88733281800006%2C%20-73.84725001299995%5D%2C%20%5B40.69554895700002%2C%20-73.94778709999997%5D%2C%20%5B40.70818574900005%2C%20-73.75452663199997%5D%2C%20%5B40.75254940400004%2C%20-73.88671639099994%5D%2C%20%5B40.720053611000026%2C%20-73.98163907899993%5D%2C%20%5B40.702230918000055%2C%20-73.94447824399998%5D%2C%20%5B40.69536744700008%2C%20-73.98324342499996%5D%2C%20%5B40.88733281800006%2C%20-73.84725001299995%5D%2C%20%5B40.81793065000005%2C%20-73.95174469799997%5D%2C%20%5B40.762043893000055%2C%20-73.82732958099997%5D%2C%20%5B40.74749800300003%2C%20-73.85624673999997%5D%2C%20%5B40.82338729100008%2C%20-73.87017045%5D%2C%20%5B40.645409760000064%2C%20-73.96978607799997%5D%2C%20%5B40.78934789300007%2C%20-73.94735241299998%5D%2C%20%5B40.81641682300005%2C%20-73.91572655299996%5D%2C%20%5B40.652498871000034%2C%20-73.921786318%5D%2C%20%5B40.623226819000074%2C%20-74.14922697299994%5D%2C%20%5B40.707447364000075%2C%20-73.79214176799998%5D%2C%20%5B40.75416455100003%2C%20-73.94465152299993%5D%2C%20%5B40.718658885000025%2C%20-73.83770522999998%5D%2C%20%5B40.756680093000064%2C%20-73.82879451599996%5D%2C%20%5B40.83375246000002%2C%20-73.86873003699995%5D%2C%20%5B40.82534812000005%2C%20-73.82347256899999%5D%2C%20%5B40.720463840000036%2C%20-74.00685220399998%5D%2C%20%5B40.82117169600008%2C%20-73.92104251199999%5D%2C%20%5B40.84577192900008%2C%20-73.88176499999997%5D%2C%20%5B40.67141166300007%2C%20-73.88151172399995%5D%2C%20%5B40.85358740100002%2C%20-73.90059135599995%5D%2C%20%5B40.726293088000034%2C%20-73.73476084899994%5D%2C%20%5B40.81608766100004%2C%20-73.89582435399994%5D%2C%20%5B40.64886713300007%2C%20-73.95082189999994%5D%2C%20%5B40.83085813300004%2C%20-73.94529598399998%5D%2C%20%5B40.750430768000044%2C%20-73.98928217599996%5D%2C%20%5B40.59097663400007%2C%20-73.78561280299994%5D%2C%20%5B40.59625634300004%2C%20-73.77912870599994%5D%2C%20%5B40.765912797000055%2C%20-73.98094414399995%5D%2C%20%5B40.686504121000034%2C%20-73.92207094799994%5D%2C%20%5B40.65799306600008%2C%20-74.00069344599996%5D%2C%20%5B40.877926728000034%2C%20-73.88237318399997%5D%2C%20%5B40.815929553000046%2C%20-73.94516735699995%5D%2C%20%5B40.726293088000034%2C%20-73.73476084899994%5D%2C%20%5B40.83749898100007%2C%20-73.92785341999998%5D%2C%20%5B40.815929553000046%2C%20-73.94516735699995%5D%2C%20%5B40.86233798800004%2C%20-73.92272173199996%5D%2C%20%5B40.759929380000074%2C%20-73.83031306899994%5D%2C%20%5B40.82096430100006%2C%20-73.94147793899998%5D%2C%20%5B40.82786013700007%2C%20-73.87417980899994%5D%2C%20%5B40.683700646000034%2C%20-74.00050622499998%5D%2C%20%5B40.814852894000076%2C%20-73.95631335299998%5D%2C%20%5B40.815929553000046%2C%20-73.94516735699995%5D%2C%20%5B40.75219869800003%2C%20-73.99346504499994%5D%2C%20%5B40.74857549200004%2C%20-73.86905306399994%5D%2C%20%5B40.64886713300007%2C%20-73.95082189999994%5D%2C%20%5B40.795541263000075%2C%20-73.97583604399993%5D%2C%20%5B40.65272794600002%2C%20-73.94832155299997%5D%2C%20%5B40.657616294000036%2C%20-73.94231683499999%5D%2C%20%5B40.898102291000036%2C%20-73.85744748999997%5D%2C%20%5B40.67028976800003%2C%20-73.89347460699997%5D%2C%20%5B40.67141166300007%2C%20-73.88151172399995%5D%2C%20%5B40.762043893000055%2C%20-73.82732958099997%5D%2C%20%5B40.844139945000045%2C%20-73.90038861799998%5D%2C%20%5B40.810398494000026%2C%20-73.92489531099994%5D%2C%20%5B40.74420426600005%2C%20-73.88560822899994%5D%2C%20%5B40.65388611000003%2C%20-73.95449784399995%5D%2C%20%5B40.87906633500006%2C%20-73.85186877399997%5D%2C%20%5B40.838173866000034%2C%20-73.92735396399995%5D%2C%20%5B40.60186420400004%2C%20-73.97199888299998%5D%2C%20%5B40.810398494000026%2C%20-73.92489531099994%5D%2C%20%5B40.733734910000074%2C%20-74.00280147199999%5D%2C%20%5B40.74368994400004%2C%20-74.00708194899995%5D%2C%20%5B40.72906475000008%2C%20-73.81102013199995%5D%2C%20%5B40.68986968000007%2C%20-73.91877842799995%5D%2C%20%5B40.87230534500002%2C%20-73.83701926699997%5D%2C%20%5B40.66604157200004%2C%20-73.906966271%5D%2C%20%5B40.59382012200007%2C%20-73.95035473699994%5D%2C%20%5B40.82673226100008%2C%20-73.95010148099993%5D%2C%20%5B40.755025653000075%2C%20-73.99140739099995%5D%2C%20%5B40.71588655400007%2C%20-73.97867501599995%5D%2C%20%5B40.63068215900006%2C%20-73.97355396999995%5D%2C%20%5B40.756594678000056%2C%20-73.87560301799994%5D%2C%20%5B40.62572501600005%2C%20-73.99104937999994%5D%2C%20%5B40.72736955700003%2C%20-73.85753489799998%5D%2C%20%5B40.83505599700004%2C%20-73.883898102%5D%2C%20%5B40.88733281800006%2C%20-73.84725001299995%5D%2C%20%5B40.841938906000046%2C%20-73.88581604599993%5D%2C%20%5B40.64472613100002%2C%20-74.07748315899995%5D%2C%20%5B40.603190622000064%2C%20-73.75008340299998%5D%2C%20%5B40.60017172800008%2C%20-73.75666306299998%5D%2C%20%5B40.836620524000075%2C%20-73.89243131299997%5D%2C%20%5B40.69690149400003%2C%20-73.76081789499993%5D%2C%20%5B40.64244139200008%2C%20-73.90974492199997%5D%2C%20%5B40.80012003400003%2C%20-73.96703584899994%5D%2C%20%5B40.67970040800003%2C%20-73.77604736799998%5D%2C%20%5B40.815929553000046%2C%20-73.94516735699995%5D%2C%20%5B40.51158633800003%2C%20-74.24930372699998%5D%2C%20%5B40.753464076000064%2C%20-73.99439974299997%5D%2C%20%5B40.69123640200007%2C%20-73.98213382099993%5D%2C%20%5B40.742237852000066%2C%20-73.99119251599996%5D%2C%20%5B40.644398399000075%2C%20-73.87972913999994%5D%2C%20%5B40.804384046000045%2C%20-73.93742166899995%5D%2C%20%5B40.59406298000005%2C%20-73.96086869299995%5D%2C%20%5B40.80855767700007%2C%20-73.95235475399994%5D%2C%20%5B40.824452463000064%2C%20-73.94074500599999%5D%2C%20%5B40.62730506700007%2C%20-73.90117696799997%5D%2C%20%5B40.702482133000046%2C%20-73.799922252%5D%2C%20%5B40.73524436600008%2C%20-73.89019901399995%5D%2C%20%5B40.79651171500007%2C%20-73.936594771%5D%2C%20%5B40.71654997600007%2C%20-73.99698570399994%5D%2C%20%5B40.830361363000065%2C%20-73.90346989799998%5D%2C%20%5B40.69833089400004%2C%20-73.91749507299994%5D%2C%20%5B40.69784634600006%2C%20-73.89244604699995%5D%2C%20%5B40.87049603600008%2C%20-73.90208828999994%5D%2C%20%5B40.816391847000034%2C%20-73.89529641399997%5D%2C%20%5B40.57391411000003%2C%20-73.97290331099998%5D%2C%20%5B40.63852488600002%2C%20-74.13004566699995%5D%2C%20%5B40.599725192000044%2C%20-73.76100035399995%5D%2C%20%5B40.71595711700007%2C%20-73.997353676%5D%2C%20%5B40.75626620700007%2C%20-73.99050124799999%5D%2C%20%5B40.613041400000036%2C%20-74.12331836099996%5D%2C%20%5B40.683700646000034%2C%20-74.00050622499998%5D%2C%20%5B40.72111686200003%2C%20-74.00999448699997%5D%2C%20%5B40.67459999000005%2C%20-73.93057482199998%5D%2C%20%5B40.65732259300006%2C%20-73.91196656999993%5D%2C%20%5B40.814852894000076%2C%20-73.95631335299998%5D%2C%20%5B40.68964821100008%2C%20-73.92405412199997%5D%2C%20%5B40.69254003900005%2C%20-73.95984447999997%5D%2C%20%5B40.737082284000046%2C%20-73.98296229999994%5D%2C%20%5B40.81573205300003%2C%20-73.94542041099999%5D%2C%20%5B40.77299566100004%2C%20-73.91638804899995%5D%2C%20%5B40.644981504000036%2C%20-74.07732129999994%5D%2C%20%5B40.698011862000044%2C%20-73.97478587899997%5D%2C%20%5B40.57758741600002%2C%20-73.97633607099993%5D%2C%20%5B40.86218859900004%2C%20-73.89071248199998%5D%2C%20%5B40.69450547300004%2C%20-73.91480961399995%5D%2C%20%5B40.71634415200003%2C%20-74.00125319299997%5D%2C%20%5B40.667923679000076%2C%20-73.77522537899995%5D%2C%20%5B40.756576344000045%2C%20-73.99027741399993%5D%2C%20%5B40.63761556500003%2C%20-74.13074649599997%5D%2C%20%5B40.844139945000045%2C%20-73.90038861799998%5D%2C%20%5B40.623226819000074%2C%20-74.14922697299994%5D%2C%20%5B40.82338729100008%2C%20-73.87017045%5D%2C%20%5B40.752530799000056%2C%20-73.99322318999998%5D%2C%20%5B40.70059287300006%2C%20-73.81585419699995%5D%2C%20%5B40.64190867900004%2C%20-74.07938964399995%5D%2C%20%5B40.72628777500006%2C%20-73.98779600499995%5D%2C%20%5B40.80152060800003%2C%20-73.91491827399994%5D%2C%20%5B40.83044740700007%2C%20-73.87579016199999%5D%2C%20%5B40.67459999000005%2C%20-73.93057482199998%5D%2C%20%5B40.586231405000035%2C%20-73.81601112099996%5D%2C%20%5B40.573849649000074%2C%20-74.10549615599997%5D%2C%20%5B40.645022746000045%2C%20-74.077216847%5D%2C%20%5B40.726965067000044%2C%20-73.95311662899995%5D%2C%20%5B40.800880893000055%2C%20-73.94095380699997%5D%2C%20%5B40.64886713300007%2C%20-73.95082189999994%5D%2C%20%5B40.68239828900005%2C%20-73.84007936899997%5D%2C%20%5B40.804199208000064%2C%20-73.95272630699995%5D%2C%20%5B40.854410101000035%2C%20-73.882331632%5D%2C%20%5B40.759246406000045%2C%20-73.87845691999998%5D%2C%20%5B40.66008252900008%2C%20-73.93973402799999%5D%5D%2C%0A%20%20%20%20%20%20%20%20%20%20%20%20%20%20%20%20%7B%0A%20%20%20%20%20%20%20%20%20%20%20%20%20%20%20%20%20%20%20%20minOpacity%3A%200.5%2C%0A%20%20%20%20%20%20%20%20%20%20%20%20%20%20%20%20%20%20%20%20maxZoom%3A%2018%2C%0A%20%20%20%20%20%20%20%20%20%20%20%20%20%20%20%20%20%20%20%20max%3A%201.0%2C%0A%20%20%20%20%20%20%20%20%20%20%20%20%20%20%20%20%20%20%20%20radius%3A%2025%2C%0A%20%20%20%20%20%20%20%20%20%20%20%20%20%20%20%20%20%20%20%20blur%3A%2015%2C%0A%20%20%20%20%20%20%20%20%20%20%20%20%20%20%20%20%20%20%20%20gradient%3A%20null%0A%20%20%20%20%20%20%20%20%20%20%20%20%20%20%20%20%20%20%20%20%7D%29%0A%20%20%20%20%20%20%20%20%20%20%20%20%20%20%20%20.addTo%28map_786983071da24abc885925fb1898b86e%29%3B%0A%20%20%20%20%20%20%20%20%0A%3C/script%3E onload=\"this.contentDocument.open();this.contentDocument.write(    decodeURIComponent(this.getAttribute('data-html')));this.contentDocument.close();\" allowfullscreen webkitallowfullscreen mozallowfullscreen></iframe></div></div>"
            ],
            "text/plain": [
              "<folium.folium.Map at 0x7f9e431c4290>"
            ]
          },
          "metadata": {},
          "execution_count": 657
        }
      ]
    },
    {
      "cell_type": "markdown",
      "source": [
        "The most surprising difference I found here was the increasing representation of Staten Island in misdemeanors and felonies over violations. My intuition was that the generally higher economic standing of its residents would lead to most of its crimes being less severe. I hypothesize this could be due to the lowered police presence in Staten Island - police come there on calls to control more serious offenses, but are less likely to naturally be in the area to arrest for simple violations. I have no means of testing this hypothesis in particular, but more in-depth investigation is made into discrepancies in arrests between the boroughs of NYC below."
      ],
      "metadata": {
        "id": "NE9zSc1EII8L"
      }
    },
    {
      "cell_type": "markdown",
      "source": [
        "Here, I sourced the populations of each individual borough just through simple Google search, and median household incomes from [this table](https://www.baruch.cuny.edu/nycdata/income-taxes/med_hhold_income.htm). I used them for plotting below."
      ],
      "metadata": {
        "id": "amqgDQsARsKv"
      }
    },
    {
      "cell_type": "code",
      "source": [
        "populations = {\n",
        "    \"Bronx\": 1435000,\n",
        "    \"Brooklyn\": 2590000,\n",
        "    \"Manhattan\": 1632000,\n",
        "    \"Queens\": 2287000,\n",
        "    \"Staten Island\": 474000\n",
        "}\n",
        "\n",
        "med_household_inc = {\n",
        "    \"Bronx\": 37379,\n",
        "    \"Brooklyn\": 56942,\n",
        "    \"Manhattan\": 85071,\n",
        "    \"Queens\": 64509,\n",
        "    \"Staten Island\": 79201\n",
        "}\n",
        "\n",
        "labels = ['Bronx','Brooklyn','Manhattan', 'Queens', 'Staten Island']\n",
        "\n",
        "populations = pd.Series(populations)\n",
        "med_household_inc = pd.Series(med_household_inc)\n",
        "populations"
      ],
      "metadata": {
        "colab": {
          "base_uri": "https://localhost:8080/"
        },
        "id": "75JyTM_JO0W4",
        "outputId": "a18ea15a-87ca-4f87-a533-3095d60bcff3"
      },
      "execution_count": 658,
      "outputs": [
        {
          "output_type": "execute_result",
          "data": {
            "text/plain": [
              "Bronx            1435000\n",
              "Brooklyn         2590000\n",
              "Manhattan        1632000\n",
              "Queens           2287000\n",
              "Staten Island     474000\n",
              "dtype: int64"
            ]
          },
          "metadata": {},
          "execution_count": 658
        }
      ]
    },
    {
      "cell_type": "markdown",
      "source": [
        "Now, I choose to look into how these arrests are distributed by borough. I though a pie chart would be the best way to represent this visually, since we're just looking for the percentage of total arrests that occured in each borough. I decided to compare this side by side with a similar pie chart depicting the population of each borough, so we can get an idea of which boroughs are under/overrepresented in arrests."
      ],
      "metadata": {
        "id": "Na2bDq4dSM4v"
      }
    },
    {
      "cell_type": "code",
      "source": [
        "borough_dist = df.groupby('ARREST_BORO').count()['KY_CD']\n",
        "\n",
        "plt.figure(figsize=(8,8))\n",
        "plt.title('Arrests By NYC Borough (2021)', fontsize=20)\n",
        "plt.pie(borough_dist, explode=(0.05, 0.05, 0.05, 0.05, 0.05), labels=labels, autopct='%1.1f%%')\n",
        "plt.show()\n",
        "\n",
        "plt.figure(figsize=(8,8))\n",
        "plt.title('Population By NYC Borough (2021)', fontsize=20)\n",
        "plt.pie(populations, explode=(0.05, 0.05, 0.05, 0.05, 0.05), labels=labels, autopct='%1.1f%%')\n",
        "plt.show()"
      ],
      "metadata": {
        "colab": {
          "base_uri": "https://localhost:8080/",
          "height": 957
        },
        "id": "6s9YF0DCKq4h",
        "outputId": "d362130b-530b-4836-8566-0ce19d8be0fc"
      },
      "execution_count": 659,
      "outputs": [
        {
          "output_type": "display_data",
          "data": {
            "image/png": "[encoded data removed]",
            "text/plain": [
              "<Figure size 576x576 with 1 Axes>"
            ]
          },
          "metadata": {}
        },
        {
          "output_type": "display_data",
          "data": {
            "image/png": "[encoded data removed]",
            "text/plain": [
              "<Figure size 576x576 with 1 Axes>"
            ]
          },
          "metadata": {}
        }
      ]
    },
    {
      "cell_type": "markdown",
      "source": [
        "Drawing a pie chart of the population next to the arrests pie chart helps us understand the relation between the population of each borough and its portion of arrests. From this, we see that the boroughs of The Bronx and Manhattan are overrepresented in arrests, while Queens and Brooklyn are underrepresented. We see that Staten Island is just about normally represented for its population. Below we look further into the possible reasons for this."
      ],
      "metadata": {
        "id": "WtZv1wSCPB8T"
      }
    },
    {
      "cell_type": "code",
      "source": [
        "plt.figure(figsize=(10,8))\n",
        "plt.title('Median Household Income (US $) By NYC Borough (2021)', fontsize=20)\n",
        "plt.bar(labels, med_household_inc)\n",
        "plt.ylabel(\"Median Household Income ($)\")\n",
        "plt.xlabel(\"Borough Name\")\n",
        "plt.show()"
      ],
      "metadata": {
        "colab": {
          "base_uri": "https://localhost:8080/",
          "height": 518
        },
        "id": "EILo-7F9VnB9",
        "outputId": "cc51598f-d174-408b-be98-5151f1e26133"
      },
      "execution_count": 660,
      "outputs": [
        {
          "output_type": "display_data",
          "data": {
            "image/png": "[encoded data removed]",
            "text/plain": [
              "<Figure size 720x576 with 1 Axes>"
            ]
          },
          "metadata": {
            "needs_background": "light"
          }
        }
      ]
    },
    {
      "cell_type": "markdown",
      "source": [
        "Looking at the median household income for each borough, we see that it doesn't offer much of an explanation for the data above. Despite having the highest household income by a decent margin, Manhattan is the most criminally overrepresented bureau- making up 19.4% of the population yet contributing to 24.9% of the arrests."
      ],
      "metadata": {
        "id": "XpJZXbDqR9i0"
      }
    },
    {
      "cell_type": "markdown",
      "source": [
        "Now, we look into what types of arrests are occuring in each borough in search of a better explanation."
      ],
      "metadata": {
        "id": "IPUurSwDUVvA"
      }
    },
    {
      "cell_type": "code",
      "source": [
        "df_bronx = df[df['ARREST_BORO'] == 'B']\n",
        "df_brook = df[df['ARREST_BORO'] == 'K']\n",
        "df_manhat = df[df['ARREST_BORO'] == 'M']\n",
        "df_queens = df[df['ARREST_BORO'] == 'Q']\n",
        "df_staten = df[df['ARREST_BORO'] == 'S']\n",
        "\n",
        "borough_dfs = [df_bronx, df_brook, df_manhat, df_queens, df_staten]\n",
        "\n",
        "crimes = []\n",
        "\n",
        "for borough in borough_dfs:\n",
        "  violations = len(borough[borough['LAW_CAT_CD'] == 'V'])\n",
        "  misdemeanors = len(borough[borough['LAW_CAT_CD'] == 'M'])\n",
        "  felonies = len(borough[borough['LAW_CAT_CD'] == 'F'])\n",
        "\n",
        "  crimes.append((violations, misdemeanors, felonies))\n",
        "\n",
        "plt.figure(figsize=(16,6))\n",
        "  \n",
        "X_axis = np.arange(len(labels))\n",
        "\n",
        "V = [crime[0] for crime in crimes]\n",
        "M = [crime[1] for crime in crimes]\n",
        "F = [crime[2] for crime in crimes]\n",
        "  \n",
        "plt.bar(X_axis - 0.3, V, 0.25, label = 'Violations', color='b')\n",
        "plt.bar(X_axis, M, 0.25, label = 'Misdemeanors', color='orange')\n",
        "plt.bar(X_axis + 0.3, F, 0.25, label = 'Felonies', color='r')\n",
        "\n",
        "  \n",
        "plt.xticks(X_axis, labels)\n",
        "plt.xlabel(\"Borough Names\")\n",
        "plt.ylabel(\"Number of Arrests\")\n",
        "plt.title(\"Distribution of Arrest Severities by NYC Borough (2021)\")\n",
        "plt.legend()\n",
        "plt.show()\n"
      ],
      "metadata": {
        "colab": {
          "base_uri": "https://localhost:8080/",
          "height": 404
        },
        "id": "vgbMiFJOU1fQ",
        "outputId": "0037d2a5-8843-49e6-d6ca-b73a6d678612"
      },
      "execution_count": 661,
      "outputs": [
        {
          "output_type": "display_data",
          "data": {
            "image/png": "[encoded data removed]",
            "text/plain": [
              "<Figure size 1152x432 with 1 Axes>"
            ]
          },
          "metadata": {
            "needs_background": "light"
          }
        }
      ]
    },
    {
      "cell_type": "markdown",
      "source": [
        "This chart helps us understand why Manhattan and the Bronx were so overrepresented in their arrests compared to the other boroughs. More so than other boroughs, they have a high ratio of misdemeanor to felony arrests. From this we can see that although Manhattan and the Bronx have a higher volume of arrests for their population, other boroughs tend to have arrests for more severe crimes."
      ],
      "metadata": {
        "id": "SzxAJ69ck0Zs"
      }
    },
    {
      "cell_type": "markdown",
      "source": [
        "## 4. Machine Learning"
      ],
      "metadata": {
        "id": "4cj8ACAzmEQn"
      }
    },
    {
      "cell_type": "markdown",
      "source": [
        "For the machine learning portion of this walkthrough, I plan on pivoting to asking questions that are better suited for machine learning. One thing I would like to look into is predicting the type of crime committed for an arrest based on data surrounding it: the location/borough it took place in, the race, age, and gender of its perpetrator."
      ],
      "metadata": {
        "id": "Op_VNx_n0vbx"
      }
    },
    {
      "cell_type": "markdown",
      "source": [
        "I'm choosing to categorize between 4 separate categories of crime: Forgery, Felony Assault, Sex Crimes, and Petit Larceny. I picked crimes with distinct levels of severity, all of which have a large number of offenses. From the dataset, I sample an equal portion of arrests for each offense such that the model isn't incentivized to guess at certain offenses just because they're more common."
      ],
      "metadata": {
        "id": "hsQq5nNWCEmh"
      }
    },
    {
      "cell_type": "markdown",
      "source": [
        "Here, we separate out these four categories, and remove from the dataframe the ones we aren't looking at here."
      ],
      "metadata": {
        "id": "vhZlkSvaNbCq"
      }
    },
    {
      "cell_type": "code",
      "source": [
        "df['OFFENSE'] = -1\n",
        "df.loc[(df['OFNS_DESC'] == 'PETIT LARCENY'), 'OFFENSE'] = 0\n",
        "df.loc[(df['OFNS_DESC'] == 'FORGERY'), 'OFFENSE'] = 1\n",
        "df.loc[(df['OFNS_DESC'] == 'SEX CRIMES'), 'OFFENSE'] = 2\n",
        "df.loc[(df['OFNS_DESC'] == 'FELONY ASSAULT'), 'OFFENSE'] = 3\n",
        "\n",
        "df = df[df['OFFENSE'] != -1]\n",
        "df.head()"
      ],
      "metadata": {
        "colab": {
          "base_uri": "https://localhost:8080/",
          "height": 206
        },
        "id": "MDDd_JWyI3Gi",
        "outputId": "9f0dc97d-5477-43fc-9d7d-3e0b09637296"
      },
      "execution_count": 662,
      "outputs": [
        {
          "output_type": "execute_result",
          "data": {
            "text/html": [
              "\n",
              "  <div id=\"df-da9242e8-96a3-4f3a-93e1-c2dc0586e479\">\n",
              "    <div class=\"colab-df-container\">\n",
              "      <div>\n",
              "<style scoped>\n",
              "    .dataframe tbody tr th:only-of-type {\n",
              "        vertical-align: middle;\n",
              "    }\n",
              "\n",
              "    .dataframe tbody tr th {\n",
              "        vertical-align: top;\n",
              "    }\n",
              "\n",
              "    .dataframe thead th {\n",
              "        text-align: right;\n",
              "    }\n",
              "</style>\n",
              "<table border=\"1\" class=\"dataframe\">\n",
              "  <thead>\n",
              "    <tr style=\"text-align: right;\">\n",
              "      <th></th>\n",
              "      <th>ARREST_DATE</th>\n",
              "      <th>KY_CD</th>\n",
              "      <th>OFNS_DESC</th>\n",
              "      <th>LAW_CAT_CD</th>\n",
              "      <th>ARREST_BORO</th>\n",
              "      <th>JURISDICTION_CODE</th>\n",
              "      <th>AGE_GROUP</th>\n",
              "      <th>PERP_SEX</th>\n",
              "      <th>PERP_RACE</th>\n",
              "      <th>Latitude</th>\n",
              "      <th>Longitude</th>\n",
              "      <th>OFFENSE</th>\n",
              "    </tr>\n",
              "  </thead>\n",
              "  <tbody>\n",
              "    <tr>\n",
              "      <th>0</th>\n",
              "      <td>09/29/2021</td>\n",
              "      <td>106.0</td>\n",
              "      <td>FELONY ASSAULT</td>\n",
              "      <td>F</td>\n",
              "      <td>B</td>\n",
              "      <td>0</td>\n",
              "      <td>25-44</td>\n",
              "      <td>M</td>\n",
              "      <td>BLACK</td>\n",
              "      <td>40.826189</td>\n",
              "      <td>-73.909738</td>\n",
              "      <td>3</td>\n",
              "    </tr>\n",
              "    <tr>\n",
              "      <th>2</th>\n",
              "      <td>09/25/2021</td>\n",
              "      <td>106.0</td>\n",
              "      <td>FELONY ASSAULT</td>\n",
              "      <td>F</td>\n",
              "      <td>Q</td>\n",
              "      <td>0</td>\n",
              "      <td>25-44</td>\n",
              "      <td>M</td>\n",
              "      <td>BLACK</td>\n",
              "      <td>40.603441</td>\n",
              "      <td>-73.765986</td>\n",
              "      <td>3</td>\n",
              "    </tr>\n",
              "    <tr>\n",
              "      <th>7</th>\n",
              "      <td>09/21/2021</td>\n",
              "      <td>106.0</td>\n",
              "      <td>FELONY ASSAULT</td>\n",
              "      <td>F</td>\n",
              "      <td>B</td>\n",
              "      <td>0</td>\n",
              "      <td>25-44</td>\n",
              "      <td>M</td>\n",
              "      <td>WHITE</td>\n",
              "      <td>40.810383</td>\n",
              "      <td>-73.904528</td>\n",
              "      <td>3</td>\n",
              "    </tr>\n",
              "    <tr>\n",
              "      <th>13</th>\n",
              "      <td>08/31/2021</td>\n",
              "      <td>116.0</td>\n",
              "      <td>SEX CRIMES</td>\n",
              "      <td>F</td>\n",
              "      <td>Q</td>\n",
              "      <td>0</td>\n",
              "      <td>25-44</td>\n",
              "      <td>M</td>\n",
              "      <td>WHITE</td>\n",
              "      <td>40.743080</td>\n",
              "      <td>-73.954736</td>\n",
              "      <td>2</td>\n",
              "    </tr>\n",
              "    <tr>\n",
              "      <th>21</th>\n",
              "      <td>08/12/2021</td>\n",
              "      <td>106.0</td>\n",
              "      <td>FELONY ASSAULT</td>\n",
              "      <td>F</td>\n",
              "      <td>K</td>\n",
              "      <td>0</td>\n",
              "      <td>25-44</td>\n",
              "      <td>F</td>\n",
              "      <td>BLACK</td>\n",
              "      <td>40.648867</td>\n",
              "      <td>-73.950822</td>\n",
              "      <td>3</td>\n",
              "    </tr>\n",
              "  </tbody>\n",
              "</table>\n",
              "</div>\n",
              "      <button class=\"colab-df-convert\" onclick=\"convertToInteractive('df-da9242e8-96a3-4f3a-93e1-c2dc0586e479')\"\n",
              "              title=\"Convert this dataframe to an interactive table.\"\n",
              "              style=\"display:none;\">\n",
              "        \n",
              "  <svg xmlns=\"http://www.w3.org/2000/svg\" height=\"24px\"viewBox=\"0 0 24 24\"\n",
              "       width=\"24px\">\n",
              "    <path d=\"M0 0h24v24H0V0z\" fill=\"none\"/>\n",
              "    <path d=\"M18.56 5.44l.94 2.06.94-2.06 2.06-.94-2.06-.94-.94-2.06-.94 2.06-2.06.94zm-11 1L8.5 8.5l.94-2.06 2.06-.94-2.06-.94L8.5 2.5l-.94 2.06-2.06.94zm10 10l.94 2.06.94-2.06 2.06-.94-2.06-.94-.94-2.06-.94 2.06-2.06.94z\"/><path d=\"M17.41 7.96l-1.37-1.37c-.4-.4-.92-.59-1.43-.59-.52 0-1.04.2-1.43.59L10.3 9.45l-7.72 7.72c-.78.78-.78 2.05 0 2.83L4 21.41c.39.39.9.59 1.41.59.51 0 1.02-.2 1.41-.59l7.78-7.78 2.81-2.81c.8-.78.8-2.07 0-2.86zM5.41 20L4 18.59l7.72-7.72 1.47 1.35L5.41 20z\"/>\n",
              "  </svg>\n",
              "      </button>\n",
              "      \n",
              "  <style>\n",
              "    .colab-df-container {\n",
              "      display:flex;\n",
              "      flex-wrap:wrap;\n",
              "      gap: 12px;\n",
              "    }\n",
              "\n",
              "    .colab-df-convert {\n",
              "      background-color: #E8F0FE;\n",
              "      border: none;\n",
              "      border-radius: 50%;\n",
              "      cursor: pointer;\n",
              "      display: none;\n",
              "      fill: #1967D2;\n",
              "      height: 32px;\n",
              "      padding: 0 0 0 0;\n",
              "      width: 32px;\n",
              "    }\n",
              "\n",
              "    .colab-df-convert:hover {\n",
              "      background-color: #E2EBFA;\n",
              "      box-shadow: 0px 1px 2px rgba(60, 64, 67, 0.3), 0px 1px 3px 1px rgba(60, 64, 67, 0.15);\n",
              "      fill: #174EA6;\n",
              "    }\n",
              "\n",
              "    [theme=dark] .colab-df-convert {\n",
              "      background-color: #3B4455;\n",
              "      fill: #D2E3FC;\n",
              "    }\n",
              "\n",
              "    [theme=dark] .colab-df-convert:hover {\n",
              "      background-color: #434B5C;\n",
              "      box-shadow: 0px 1px 3px 1px rgba(0, 0, 0, 0.15);\n",
              "      filter: drop-shadow(0px 1px 2px rgba(0, 0, 0, 0.3));\n",
              "      fill: #FFFFFF;\n",
              "    }\n",
              "  </style>\n",
              "\n",
              "      <script>\n",
              "        const buttonEl =\n",
              "          document.querySelector('#df-da9242e8-96a3-4f3a-93e1-c2dc0586e479 button.colab-df-convert');\n",
              "        buttonEl.style.display =\n",
              "          google.colab.kernel.accessAllowed ? 'block' : 'none';\n",
              "\n",
              "        async function convertToInteractive(key) {\n",
              "          const element = document.querySelector('#df-da9242e8-96a3-4f3a-93e1-c2dc0586e479');\n",
              "          const dataTable =\n",
              "            await google.colab.kernel.invokeFunction('convertToInteractive',\n",
              "                                                     [key], {});\n",
              "          if (!dataTable) return;\n",
              "\n",
              "          const docLinkHtml = 'Like what you see? Visit the ' +\n",
              "            '<a target=\"_blank\" href=https://colab.research.google.com/notebooks/data_table.ipynb>data table notebook</a>'\n",
              "            + ' to learn more about interactive tables.';\n",
              "          element.innerHTML = '';\n",
              "          dataTable['output_type'] = 'display_data';\n",
              "          await google.colab.output.renderOutput(dataTable, element);\n",
              "          const docLink = document.createElement('div');\n",
              "          docLink.innerHTML = docLinkHtml;\n",
              "          element.appendChild(docLink);\n",
              "        }\n",
              "      </script>\n",
              "    </div>\n",
              "  </div>\n",
              "  "
            ],
            "text/plain": [
              "   ARREST_DATE  KY_CD       OFNS_DESC  ...   Latitude  Longitude  OFFENSE\n",
              "0   09/29/2021  106.0  FELONY ASSAULT  ...  40.826189 -73.909738        3\n",
              "2   09/25/2021  106.0  FELONY ASSAULT  ...  40.603441 -73.765986        3\n",
              "7   09/21/2021  106.0  FELONY ASSAULT  ...  40.810383 -73.904528        3\n",
              "13  08/31/2021  116.0      SEX CRIMES  ...  40.743080 -73.954736        2\n",
              "21  08/12/2021  106.0  FELONY ASSAULT  ...  40.648867 -73.950822        3\n",
              "\n",
              "[5 rows x 12 columns]"
            ]
          },
          "metadata": {},
          "execution_count": 662
        }
      ]
    },
    {
      "cell_type": "markdown",
      "source": [
        "Here, we construct our training dataset by sampling an equal amount from each variety, and then concatenating them together in the dataframe."
      ],
      "metadata": {
        "id": "67nnrsKxPeUt"
      }
    },
    {
      "cell_type": "code",
      "source": [
        "larcenies = df[df['OFFENSE'] == 0].sample(2000)\n",
        "forgeries = df[df['OFFENSE'] == 1].sample(2000)\n",
        "sex_crimes = df[df['OFFENSE'] == 2].sample(2000)\n",
        "assaults = df[df['OFFENSE'] == 3].sample(2000)\n",
        "\n",
        "df = pd.concat([larcenies, forgeries, sex_crimes, assaults])"
      ],
      "metadata": {
        "id": "vS2ljME4BCH6"
      },
      "execution_count": 663,
      "outputs": []
    },
    {
      "cell_type": "markdown",
      "source": [
        "Here, we use one-hot encoding on our categorical input features to help with training later. You can read more about one-hot encoding [here](https://machinelearningmastery.com/why-one-hot-encode-data-in-machine-learning/)"
      ],
      "metadata": {
        "id": "g9-HXjXcpdCa"
      }
    },
    {
      "cell_type": "code",
      "source": [
        "df = pd.get_dummies(df, columns=['ARREST_BORO', 'PERP_RACE', 'PERP_SEX', 'AGE_GROUP'])\n",
        "df.head()"
      ],
      "metadata": {
        "colab": {
          "base_uri": "https://localhost:8080/",
          "height": 392
        },
        "id": "ObmtXM5bQBGN",
        "outputId": "807a9db6-b94f-45f4-d153-0530da8a4241"
      },
      "execution_count": 664,
      "outputs": [
        {
          "output_type": "execute_result",
          "data": {
            "text/html": [
              "\n",
              "  <div id=\"df-644fcdd0-faad-4d6c-aa00-3255c074cf32\">\n",
              "    <div class=\"colab-df-container\">\n",
              "      <div>\n",
              "<style scoped>\n",
              "    .dataframe tbody tr th:only-of-type {\n",
              "        vertical-align: middle;\n",
              "    }\n",
              "\n",
              "    .dataframe tbody tr th {\n",
              "        vertical-align: top;\n",
              "    }\n",
              "\n",
              "    .dataframe thead th {\n",
              "        text-align: right;\n",
              "    }\n",
              "</style>\n",
              "<table border=\"1\" class=\"dataframe\">\n",
              "  <thead>\n",
              "    <tr style=\"text-align: right;\">\n",
              "      <th></th>\n",
              "      <th>ARREST_DATE</th>\n",
              "      <th>KY_CD</th>\n",
              "      <th>OFNS_DESC</th>\n",
              "      <th>LAW_CAT_CD</th>\n",
              "      <th>JURISDICTION_CODE</th>\n",
              "      <th>Latitude</th>\n",
              "      <th>Longitude</th>\n",
              "      <th>OFFENSE</th>\n",
              "      <th>ARREST_BORO_B</th>\n",
              "      <th>ARREST_BORO_K</th>\n",
              "      <th>ARREST_BORO_M</th>\n",
              "      <th>ARREST_BORO_Q</th>\n",
              "      <th>ARREST_BORO_S</th>\n",
              "      <th>PERP_RACE_AMERICAN INDIAN/ALASKAN NATIVE</th>\n",
              "      <th>PERP_RACE_ASIAN / PACIFIC ISLANDER</th>\n",
              "      <th>PERP_RACE_BLACK</th>\n",
              "      <th>PERP_RACE_BLACK HISPANIC</th>\n",
              "      <th>PERP_RACE_UNKNOWN</th>\n",
              "      <th>PERP_RACE_WHITE</th>\n",
              "      <th>PERP_RACE_WHITE HISPANIC</th>\n",
              "      <th>PERP_SEX_F</th>\n",
              "      <th>PERP_SEX_M</th>\n",
              "      <th>AGE_GROUP_18-24</th>\n",
              "      <th>AGE_GROUP_25-44</th>\n",
              "      <th>AGE_GROUP_45-64</th>\n",
              "      <th>AGE_GROUP_65+</th>\n",
              "      <th>AGE_GROUP_&lt;18</th>\n",
              "    </tr>\n",
              "  </thead>\n",
              "  <tbody>\n",
              "    <tr>\n",
              "      <th>8119</th>\n",
              "      <td>09/25/2021</td>\n",
              "      <td>341.0</td>\n",
              "      <td>PETIT LARCENY</td>\n",
              "      <td>M</td>\n",
              "      <td>0</td>\n",
              "      <td>40.862189</td>\n",
              "      <td>-73.890712</td>\n",
              "      <td>0</td>\n",
              "      <td>1</td>\n",
              "      <td>0</td>\n",
              "      <td>0</td>\n",
              "      <td>0</td>\n",
              "      <td>0</td>\n",
              "      <td>0</td>\n",
              "      <td>0</td>\n",
              "      <td>0</td>\n",
              "      <td>0</td>\n",
              "      <td>0</td>\n",
              "      <td>0</td>\n",
              "      <td>1</td>\n",
              "      <td>0</td>\n",
              "      <td>1</td>\n",
              "      <td>0</td>\n",
              "      <td>1</td>\n",
              "      <td>0</td>\n",
              "      <td>0</td>\n",
              "      <td>0</td>\n",
              "    </tr>\n",
              "    <tr>\n",
              "      <th>46423</th>\n",
              "      <td>05/28/2021</td>\n",
              "      <td>341.0</td>\n",
              "      <td>PETIT LARCENY</td>\n",
              "      <td>M</td>\n",
              "      <td>0</td>\n",
              "      <td>40.750431</td>\n",
              "      <td>-73.989282</td>\n",
              "      <td>0</td>\n",
              "      <td>0</td>\n",
              "      <td>0</td>\n",
              "      <td>1</td>\n",
              "      <td>0</td>\n",
              "      <td>0</td>\n",
              "      <td>0</td>\n",
              "      <td>0</td>\n",
              "      <td>1</td>\n",
              "      <td>0</td>\n",
              "      <td>0</td>\n",
              "      <td>0</td>\n",
              "      <td>0</td>\n",
              "      <td>1</td>\n",
              "      <td>0</td>\n",
              "      <td>0</td>\n",
              "      <td>0</td>\n",
              "      <td>1</td>\n",
              "      <td>0</td>\n",
              "      <td>0</td>\n",
              "    </tr>\n",
              "    <tr>\n",
              "      <th>93326</th>\n",
              "      <td>02/19/2021</td>\n",
              "      <td>341.0</td>\n",
              "      <td>PETIT LARCENY</td>\n",
              "      <td>M</td>\n",
              "      <td>0</td>\n",
              "      <td>40.733927</td>\n",
              "      <td>-73.871582</td>\n",
              "      <td>0</td>\n",
              "      <td>0</td>\n",
              "      <td>0</td>\n",
              "      <td>0</td>\n",
              "      <td>1</td>\n",
              "      <td>0</td>\n",
              "      <td>0</td>\n",
              "      <td>0</td>\n",
              "      <td>0</td>\n",
              "      <td>0</td>\n",
              "      <td>0</td>\n",
              "      <td>0</td>\n",
              "      <td>1</td>\n",
              "      <td>1</td>\n",
              "      <td>0</td>\n",
              "      <td>0</td>\n",
              "      <td>0</td>\n",
              "      <td>1</td>\n",
              "      <td>0</td>\n",
              "      <td>0</td>\n",
              "    </tr>\n",
              "    <tr>\n",
              "      <th>109271</th>\n",
              "      <td>02/17/2021</td>\n",
              "      <td>341.0</td>\n",
              "      <td>PETIT LARCENY</td>\n",
              "      <td>M</td>\n",
              "      <td>0</td>\n",
              "      <td>40.726725</td>\n",
              "      <td>-73.853261</td>\n",
              "      <td>0</td>\n",
              "      <td>0</td>\n",
              "      <td>0</td>\n",
              "      <td>0</td>\n",
              "      <td>1</td>\n",
              "      <td>0</td>\n",
              "      <td>0</td>\n",
              "      <td>0</td>\n",
              "      <td>0</td>\n",
              "      <td>0</td>\n",
              "      <td>0</td>\n",
              "      <td>0</td>\n",
              "      <td>1</td>\n",
              "      <td>0</td>\n",
              "      <td>1</td>\n",
              "      <td>0</td>\n",
              "      <td>1</td>\n",
              "      <td>0</td>\n",
              "      <td>0</td>\n",
              "      <td>0</td>\n",
              "    </tr>\n",
              "    <tr>\n",
              "      <th>8975</th>\n",
              "      <td>09/27/2021</td>\n",
              "      <td>341.0</td>\n",
              "      <td>PETIT LARCENY</td>\n",
              "      <td>M</td>\n",
              "      <td>0</td>\n",
              "      <td>40.798293</td>\n",
              "      <td>-73.940822</td>\n",
              "      <td>0</td>\n",
              "      <td>0</td>\n",
              "      <td>0</td>\n",
              "      <td>1</td>\n",
              "      <td>0</td>\n",
              "      <td>0</td>\n",
              "      <td>0</td>\n",
              "      <td>0</td>\n",
              "      <td>1</td>\n",
              "      <td>0</td>\n",
              "      <td>0</td>\n",
              "      <td>0</td>\n",
              "      <td>0</td>\n",
              "      <td>0</td>\n",
              "      <td>1</td>\n",
              "      <td>0</td>\n",
              "      <td>1</td>\n",
              "      <td>0</td>\n",
              "      <td>0</td>\n",
              "      <td>0</td>\n",
              "    </tr>\n",
              "  </tbody>\n",
              "</table>\n",
              "</div>\n",
              "      <button class=\"colab-df-convert\" onclick=\"convertToInteractive('df-644fcdd0-faad-4d6c-aa00-3255c074cf32')\"\n",
              "              title=\"Convert this dataframe to an interactive table.\"\n",
              "              style=\"display:none;\">\n",
              "        \n",
              "  <svg xmlns=\"http://www.w3.org/2000/svg\" height=\"24px\"viewBox=\"0 0 24 24\"\n",
              "       width=\"24px\">\n",
              "    <path d=\"M0 0h24v24H0V0z\" fill=\"none\"/>\n",
              "    <path d=\"M18.56 5.44l.94 2.06.94-2.06 2.06-.94-2.06-.94-.94-2.06-.94 2.06-2.06.94zm-11 1L8.5 8.5l.94-2.06 2.06-.94-2.06-.94L8.5 2.5l-.94 2.06-2.06.94zm10 10l.94 2.06.94-2.06 2.06-.94-2.06-.94-.94-2.06-.94 2.06-2.06.94z\"/><path d=\"M17.41 7.96l-1.37-1.37c-.4-.4-.92-.59-1.43-.59-.52 0-1.04.2-1.43.59L10.3 9.45l-7.72 7.72c-.78.78-.78 2.05 0 2.83L4 21.41c.39.39.9.59 1.41.59.51 0 1.02-.2 1.41-.59l7.78-7.78 2.81-2.81c.8-.78.8-2.07 0-2.86zM5.41 20L4 18.59l7.72-7.72 1.47 1.35L5.41 20z\"/>\n",
              "  </svg>\n",
              "      </button>\n",
              "      \n",
              "  <style>\n",
              "    .colab-df-container {\n",
              "      display:flex;\n",
              "      flex-wrap:wrap;\n",
              "      gap: 12px;\n",
              "    }\n",
              "\n",
              "    .colab-df-convert {\n",
              "      background-color: #E8F0FE;\n",
              "      border: none;\n",
              "      border-radius: 50%;\n",
              "      cursor: pointer;\n",
              "      display: none;\n",
              "      fill: #1967D2;\n",
              "      height: 32px;\n",
              "      padding: 0 0 0 0;\n",
              "      width: 32px;\n",
              "    }\n",
              "\n",
              "    .colab-df-convert:hover {\n",
              "      background-color: #E2EBFA;\n",
              "      box-shadow: 0px 1px 2px rgba(60, 64, 67, 0.3), 0px 1px 3px 1px rgba(60, 64, 67, 0.15);\n",
              "      fill: #174EA6;\n",
              "    }\n",
              "\n",
              "    [theme=dark] .colab-df-convert {\n",
              "      background-color: #3B4455;\n",
              "      fill: #D2E3FC;\n",
              "    }\n",
              "\n",
              "    [theme=dark] .colab-df-convert:hover {\n",
              "      background-color: #434B5C;\n",
              "      box-shadow: 0px 1px 3px 1px rgba(0, 0, 0, 0.15);\n",
              "      filter: drop-shadow(0px 1px 2px rgba(0, 0, 0, 0.3));\n",
              "      fill: #FFFFFF;\n",
              "    }\n",
              "  </style>\n",
              "\n",
              "      <script>\n",
              "        const buttonEl =\n",
              "          document.querySelector('#df-644fcdd0-faad-4d6c-aa00-3255c074cf32 button.colab-df-convert');\n",
              "        buttonEl.style.display =\n",
              "          google.colab.kernel.accessAllowed ? 'block' : 'none';\n",
              "\n",
              "        async function convertToInteractive(key) {\n",
              "          const element = document.querySelector('#df-644fcdd0-faad-4d6c-aa00-3255c074cf32');\n",
              "          const dataTable =\n",
              "            await google.colab.kernel.invokeFunction('convertToInteractive',\n",
              "                                                     [key], {});\n",
              "          if (!dataTable) return;\n",
              "\n",
              "          const docLinkHtml = 'Like what you see? Visit the ' +\n",
              "            '<a target=\"_blank\" href=https://colab.research.google.com/notebooks/data_table.ipynb>data table notebook</a>'\n",
              "            + ' to learn more about interactive tables.';\n",
              "          element.innerHTML = '';\n",
              "          dataTable['output_type'] = 'display_data';\n",
              "          await google.colab.output.renderOutput(dataTable, element);\n",
              "          const docLink = document.createElement('div');\n",
              "          docLink.innerHTML = docLinkHtml;\n",
              "          element.appendChild(docLink);\n",
              "        }\n",
              "      </script>\n",
              "    </div>\n",
              "  </div>\n",
              "  "
            ],
            "text/plain": [
              "       ARREST_DATE  KY_CD  ... AGE_GROUP_65+ AGE_GROUP_<18\n",
              "8119    09/25/2021  341.0  ...             0             0\n",
              "46423   05/28/2021  341.0  ...             0             0\n",
              "93326   02/19/2021  341.0  ...             0             0\n",
              "109271  02/17/2021  341.0  ...             0             0\n",
              "8975    09/27/2021  341.0  ...             0             0\n",
              "\n",
              "[5 rows x 27 columns]"
            ]
          },
          "metadata": {},
          "execution_count": 664
        }
      ]
    },
    {
      "cell_type": "markdown",
      "source": [
        "Now, we split our data into training and testing sets for cross-validation. We choose to take a random sample of 20% of the training data as testing data. In order to assure the validity of our results and avoid over-fitting, we fit our model on the training data and then afterwards test it on this separate testing data."
      ],
      "metadata": {
        "id": "7W-EjM4OpyUt"
      }
    },
    {
      "cell_type": "code",
      "source": [
        "from sklearn.model_selection import train_test_split\n",
        "\n",
        "in_df = df.drop(columns=['ARREST_DATE', 'KY_CD', 'OFNS_DESC', 'LAW_CAT_CD', 'JURISDICTION_CODE', 'Latitude', 'Longitude', 'OFFENSE'])\n",
        "out_df = df[['OFFENSE']]\n",
        "\n",
        "train_in, test_in, train_out, test_out = train_test_split(in_df.values, out_df.values, test_size=0.20, random_state=42)\n",
        "\n",
        "print(f\"training data length: {len(train_in)}\\ntesting data length: {len(test_in)}\")\n",
        "in_df.head()"
      ],
      "metadata": {
        "colab": {
          "base_uri": "https://localhost:8080/",
          "height": 340
        },
        "id": "Ad_0hJmza2dv",
        "outputId": "1923df58-668e-4f20-c65a-602a7ead646d"
      },
      "execution_count": 665,
      "outputs": [
        {
          "output_type": "stream",
          "name": "stdout",
          "text": [
            "training data length: 6400\n",
            "testing data length: 1600\n"
          ]
        },
        {
          "output_type": "execute_result",
          "data": {
            "text/html": [
              "\n",
              "  <div id=\"df-31bc0484-9f87-46c5-97f4-c349df06236b\">\n",
              "    <div class=\"colab-df-container\">\n",
              "      <div>\n",
              "<style scoped>\n",
              "    .dataframe tbody tr th:only-of-type {\n",
              "        vertical-align: middle;\n",
              "    }\n",
              "\n",
              "    .dataframe tbody tr th {\n",
              "        vertical-align: top;\n",
              "    }\n",
              "\n",
              "    .dataframe thead th {\n",
              "        text-align: right;\n",
              "    }\n",
              "</style>\n",
              "<table border=\"1\" class=\"dataframe\">\n",
              "  <thead>\n",
              "    <tr style=\"text-align: right;\">\n",
              "      <th></th>\n",
              "      <th>ARREST_BORO_B</th>\n",
              "      <th>ARREST_BORO_K</th>\n",
              "      <th>ARREST_BORO_M</th>\n",
              "      <th>ARREST_BORO_Q</th>\n",
              "      <th>ARREST_BORO_S</th>\n",
              "      <th>PERP_RACE_AMERICAN INDIAN/ALASKAN NATIVE</th>\n",
              "      <th>PERP_RACE_ASIAN / PACIFIC ISLANDER</th>\n",
              "      <th>PERP_RACE_BLACK</th>\n",
              "      <th>PERP_RACE_BLACK HISPANIC</th>\n",
              "      <th>PERP_RACE_UNKNOWN</th>\n",
              "      <th>PERP_RACE_WHITE</th>\n",
              "      <th>PERP_RACE_WHITE HISPANIC</th>\n",
              "      <th>PERP_SEX_F</th>\n",
              "      <th>PERP_SEX_M</th>\n",
              "      <th>AGE_GROUP_18-24</th>\n",
              "      <th>AGE_GROUP_25-44</th>\n",
              "      <th>AGE_GROUP_45-64</th>\n",
              "      <th>AGE_GROUP_65+</th>\n",
              "      <th>AGE_GROUP_&lt;18</th>\n",
              "    </tr>\n",
              "  </thead>\n",
              "  <tbody>\n",
              "    <tr>\n",
              "      <th>8119</th>\n",
              "      <td>1</td>\n",
              "      <td>0</td>\n",
              "      <td>0</td>\n",
              "      <td>0</td>\n",
              "      <td>0</td>\n",
              "      <td>0</td>\n",
              "      <td>0</td>\n",
              "      <td>0</td>\n",
              "      <td>0</td>\n",
              "      <td>0</td>\n",
              "      <td>0</td>\n",
              "      <td>1</td>\n",
              "      <td>0</td>\n",
              "      <td>1</td>\n",
              "      <td>0</td>\n",
              "      <td>1</td>\n",
              "      <td>0</td>\n",
              "      <td>0</td>\n",
              "      <td>0</td>\n",
              "    </tr>\n",
              "    <tr>\n",
              "      <th>46423</th>\n",
              "      <td>0</td>\n",
              "      <td>0</td>\n",
              "      <td>1</td>\n",
              "      <td>0</td>\n",
              "      <td>0</td>\n",
              "      <td>0</td>\n",
              "      <td>0</td>\n",
              "      <td>1</td>\n",
              "      <td>0</td>\n",
              "      <td>0</td>\n",
              "      <td>0</td>\n",
              "      <td>0</td>\n",
              "      <td>1</td>\n",
              "      <td>0</td>\n",
              "      <td>0</td>\n",
              "      <td>0</td>\n",
              "      <td>1</td>\n",
              "      <td>0</td>\n",
              "      <td>0</td>\n",
              "    </tr>\n",
              "    <tr>\n",
              "      <th>93326</th>\n",
              "      <td>0</td>\n",
              "      <td>0</td>\n",
              "      <td>0</td>\n",
              "      <td>1</td>\n",
              "      <td>0</td>\n",
              "      <td>0</td>\n",
              "      <td>0</td>\n",
              "      <td>0</td>\n",
              "      <td>0</td>\n",
              "      <td>0</td>\n",
              "      <td>0</td>\n",
              "      <td>1</td>\n",
              "      <td>1</td>\n",
              "      <td>0</td>\n",
              "      <td>0</td>\n",
              "      <td>0</td>\n",
              "      <td>1</td>\n",
              "      <td>0</td>\n",
              "      <td>0</td>\n",
              "    </tr>\n",
              "    <tr>\n",
              "      <th>109271</th>\n",
              "      <td>0</td>\n",
              "      <td>0</td>\n",
              "      <td>0</td>\n",
              "      <td>1</td>\n",
              "      <td>0</td>\n",
              "      <td>0</td>\n",
              "      <td>0</td>\n",
              "      <td>0</td>\n",
              "      <td>0</td>\n",
              "      <td>0</td>\n",
              "      <td>0</td>\n",
              "      <td>1</td>\n",
              "      <td>0</td>\n",
              "      <td>1</td>\n",
              "      <td>0</td>\n",
              "      <td>1</td>\n",
              "      <td>0</td>\n",
              "      <td>0</td>\n",
              "      <td>0</td>\n",
              "    </tr>\n",
              "    <tr>\n",
              "      <th>8975</th>\n",
              "      <td>0</td>\n",
              "      <td>0</td>\n",
              "      <td>1</td>\n",
              "      <td>0</td>\n",
              "      <td>0</td>\n",
              "      <td>0</td>\n",
              "      <td>0</td>\n",
              "      <td>1</td>\n",
              "      <td>0</td>\n",
              "      <td>0</td>\n",
              "      <td>0</td>\n",
              "      <td>0</td>\n",
              "      <td>0</td>\n",
              "      <td>1</td>\n",
              "      <td>0</td>\n",
              "      <td>1</td>\n",
              "      <td>0</td>\n",
              "      <td>0</td>\n",
              "      <td>0</td>\n",
              "    </tr>\n",
              "  </tbody>\n",
              "</table>\n",
              "</div>\n",
              "      <button class=\"colab-df-convert\" onclick=\"convertToInteractive('df-31bc0484-9f87-46c5-97f4-c349df06236b')\"\n",
              "              title=\"Convert this dataframe to an interactive table.\"\n",
              "              style=\"display:none;\">\n",
              "        \n",
              "  <svg xmlns=\"http://www.w3.org/2000/svg\" height=\"24px\"viewBox=\"0 0 24 24\"\n",
              "       width=\"24px\">\n",
              "    <path d=\"M0 0h24v24H0V0z\" fill=\"none\"/>\n",
              "    <path d=\"M18.56 5.44l.94 2.06.94-2.06 2.06-.94-2.06-.94-.94-2.06-.94 2.06-2.06.94zm-11 1L8.5 8.5l.94-2.06 2.06-.94-2.06-.94L8.5 2.5l-.94 2.06-2.06.94zm10 10l.94 2.06.94-2.06 2.06-.94-2.06-.94-.94-2.06-.94 2.06-2.06.94z\"/><path d=\"M17.41 7.96l-1.37-1.37c-.4-.4-.92-.59-1.43-.59-.52 0-1.04.2-1.43.59L10.3 9.45l-7.72 7.72c-.78.78-.78 2.05 0 2.83L4 21.41c.39.39.9.59 1.41.59.51 0 1.02-.2 1.41-.59l7.78-7.78 2.81-2.81c.8-.78.8-2.07 0-2.86zM5.41 20L4 18.59l7.72-7.72 1.47 1.35L5.41 20z\"/>\n",
              "  </svg>\n",
              "      </button>\n",
              "      \n",
              "  <style>\n",
              "    .colab-df-container {\n",
              "      display:flex;\n",
              "      flex-wrap:wrap;\n",
              "      gap: 12px;\n",
              "    }\n",
              "\n",
              "    .colab-df-convert {\n",
              "      background-color: #E8F0FE;\n",
              "      border: none;\n",
              "      border-radius: 50%;\n",
              "      cursor: pointer;\n",
              "      display: none;\n",
              "      fill: #1967D2;\n",
              "      height: 32px;\n",
              "      padding: 0 0 0 0;\n",
              "      width: 32px;\n",
              "    }\n",
              "\n",
              "    .colab-df-convert:hover {\n",
              "      background-color: #E2EBFA;\n",
              "      box-shadow: 0px 1px 2px rgba(60, 64, 67, 0.3), 0px 1px 3px 1px rgba(60, 64, 67, 0.15);\n",
              "      fill: #174EA6;\n",
              "    }\n",
              "\n",
              "    [theme=dark] .colab-df-convert {\n",
              "      background-color: #3B4455;\n",
              "      fill: #D2E3FC;\n",
              "    }\n",
              "\n",
              "    [theme=dark] .colab-df-convert:hover {\n",
              "      background-color: #434B5C;\n",
              "      box-shadow: 0px 1px 3px 1px rgba(0, 0, 0, 0.15);\n",
              "      filter: drop-shadow(0px 1px 2px rgba(0, 0, 0, 0.3));\n",
              "      fill: #FFFFFF;\n",
              "    }\n",
              "  </style>\n",
              "\n",
              "      <script>\n",
              "        const buttonEl =\n",
              "          document.querySelector('#df-31bc0484-9f87-46c5-97f4-c349df06236b button.colab-df-convert');\n",
              "        buttonEl.style.display =\n",
              "          google.colab.kernel.accessAllowed ? 'block' : 'none';\n",
              "\n",
              "        async function convertToInteractive(key) {\n",
              "          const element = document.querySelector('#df-31bc0484-9f87-46c5-97f4-c349df06236b');\n",
              "          const dataTable =\n",
              "            await google.colab.kernel.invokeFunction('convertToInteractive',\n",
              "                                                     [key], {});\n",
              "          if (!dataTable) return;\n",
              "\n",
              "          const docLinkHtml = 'Like what you see? Visit the ' +\n",
              "            '<a target=\"_blank\" href=https://colab.research.google.com/notebooks/data_table.ipynb>data table notebook</a>'\n",
              "            + ' to learn more about interactive tables.';\n",
              "          element.innerHTML = '';\n",
              "          dataTable['output_type'] = 'display_data';\n",
              "          await google.colab.output.renderOutput(dataTable, element);\n",
              "          const docLink = document.createElement('div');\n",
              "          docLink.innerHTML = docLinkHtml;\n",
              "          element.appendChild(docLink);\n",
              "        }\n",
              "      </script>\n",
              "    </div>\n",
              "  </div>\n",
              "  "
            ],
            "text/plain": [
              "        ARREST_BORO_B  ARREST_BORO_K  ...  AGE_GROUP_65+  AGE_GROUP_<18\n",
              "8119                1              0  ...              0              0\n",
              "46423               0              0  ...              0              0\n",
              "93326               0              0  ...              0              0\n",
              "109271              0              0  ...              0              0\n",
              "8975                0              0  ...              0              0\n",
              "\n",
              "[5 rows x 19 columns]"
            ]
          },
          "metadata": {},
          "execution_count": 665
        }
      ]
    },
    {
      "cell_type": "markdown",
      "source": [
        "For this task, I thought it would be helpful to try a decision tree for classifying this crime data. In my mind, the decision tree is a simple model which should be able to use the training data to derive simple and intelligible rules for classifying it. For example, one node could identify that someone in the 65+ years age group is much less likely of commiting assault, and adjust its prediction accordingly. Another major advantage of this architecture is its simplicity, especially using scikit-learn to implement it. This means that it should also be easier to visualize and understand afterwards, as well."
      ],
      "metadata": {
        "id": "FxOHBGDwqb8d"
      }
    },
    {
      "cell_type": "code",
      "source": [
        "from sklearn import tree\n",
        "\n",
        "clf = tree.DecisionTreeClassifier(max_depth=4)\n",
        "clf = clf.fit(train_in, train_out)\n",
        "pred = clf.predict(test_in)\n",
        "\n",
        "corr = 0 \n",
        "for i in range(len(pred)):\n",
        "  if pred[i] == test_out[i]:\n",
        "    corr += 1\n",
        "\n",
        "print(f\"Successfully identified {corr}/{len(pred)} samples for {(corr*100)/len(pred)}% Accuracy\")"
      ],
      "metadata": {
        "colab": {
          "base_uri": "https://localhost:8080/"
        },
        "id": "sKIkykwYSlnc",
        "outputId": "b5fc404f-4cad-435a-a55f-69994c4ae3eb"
      },
      "execution_count": 666,
      "outputs": [
        {
          "output_type": "stream",
          "name": "stdout",
          "text": [
            "Successfully identified 658/1600 samples for 41.125% Accuracy\n"
          ]
        }
      ]
    },
    {
      "cell_type": "markdown",
      "source": [
        "Here, we see that the model is correctly identifying around 40% of the validation data. This isn't awful, but there's definitely room for improvement. It's a decent bit better than it would be with just random guesses, given that we are separating into 4 categories. I believe this to be less a fault on the model, and more the fault of the dataset. The information we have at hand isn't nearly enough to model what brings people to commit certain crimes, so we shouldn't expect it to be an extremely accurate model."
      ],
      "metadata": {
        "id": "5p3u31HUtJJM"
      }
    },
    {
      "cell_type": "code",
      "source": [
        "import seaborn as sn\n",
        "\n",
        "test_out = test_out.reshape(len(test_out))\n",
        "confusion_matrix = pd.crosstab(test_out, pred, rownames=['Actual'], colnames=['Predicted'])\n",
        "\n",
        "plt.figure(figsize=(10,10))\n",
        "sn.heatmap(confusion_matrix, annot=True)\n",
        "plt.title(\"Decision Tree Confusion Matrix\")\n",
        "plt.show()"
      ],
      "metadata": {
        "colab": {
          "base_uri": "https://localhost:8080/",
          "height": 621
        },
        "id": "F0GwFOCUk2po",
        "outputId": "b9c5bdfb-d44d-4c6f-af16-535b34e46a41"
      },
      "execution_count": 667,
      "outputs": [
        {
          "output_type": "display_data",
          "data": {
            "image/png": "[encoded data removed]",
            "text/plain": [
              "<Figure size 720x720 with 2 Axes>"
            ]
          },
          "metadata": {
            "needs_background": "light"
          }
        }
      ]
    },
    {
      "cell_type": "markdown",
      "source": [
        "The confusion matrix above gives us a better idea of where innacuracies evolved in our model. We see a large quantity of sex crimes and assaults being mistaken for larcenies and forgeries, which is interesting. You would expect less serious crimes like petty larceny and forgery to be mistaken for eachother, but that was not the case."
      ],
      "metadata": {
        "id": "AmonxD5EyGdj"
      }
    },
    {
      "cell_type": "markdown",
      "source": [
        "Finally, we use graphviz to illustrate our final decision tree."
      ],
      "metadata": {
        "id": "k7IS3Chc4Sj8"
      }
    },
    {
      "cell_type": "code",
      "source": [
        "import graphviz\n",
        "dot_data = tree.export_graphviz(clf, out_file=None,\n",
        "                                feature_names=list(in_df.columns),\n",
        "                                class_names=['larceny', 'forgery', 'sex crime', 'assault'],\n",
        "                                filled=True)\n",
        "\n",
        "graph = graphviz.Source(dot_data, format=\"png\") \n",
        "graph"
      ],
      "metadata": {
        "colab": {
          "base_uri": "https://localhost:8080/",
          "height": 777
        },
        "id": "nCk_Ysfl0qfH",
        "outputId": "d1086367-877d-40e8-a80b-452b4d9c7476"
      },
      "execution_count": 668,
      "outputs": [
        {
          "output_type": "execute_result",
          "data": {
            "text/plain": [
              "<graphviz.files.Source at 0x7f9e43833ad0>"
            ],
            "image/svg+xml": "<?xml version=\"1.0\" encoding=\"UTF-8\" standalone=\"no\"?>\n<!DOCTYPE svg PUBLIC \"-//W3C//DTD SVG 1.1//EN\"\n \"http://www.w3.org/Graphics/SVG/1.1/DTD/svg11.dtd\">\n<!-- Generated by graphviz version 2.40.1 (20161225.0304)\n -->\n<!-- Title: Tree Pages: 1 -->\n<svg width=\"2959pt\" height=\"552pt\"\n viewBox=\"0.00 0.00 2959.00 552.00\" xmlns=\"http://www.w3.org/2000/svg\" xmlns:xlink=\"http://www.w3.org/1999/xlink\">\n<g id=\"graph0\" class=\"graph\" transform=\"scale(1 1) rotate(0) translate(4 548)\">\n<title>Tree</title>\n<polygon fill=\"#ffffff\" stroke=\"transparent\" points=\"-4,4 -4,-548 2955,-548 2955,4 -4,4\"/>\n<!-- 0 -->\n<g id=\"node1\" class=\"node\">\n<title>0</title>\n<polygon fill=\"#fefffe\" stroke=\"#000000\" points=\"1626.5,-544 1396.5,-544 1396.5,-461 1626.5,-461 1626.5,-544\"/>\n<text text-anchor=\"middle\" x=\"1511.5\" y=\"-528.8\" font-family=\"Helvetica,sans-Serif\" font-size=\"14.00\" fill=\"#000000\">ARREST_BORO_M &lt;= 0.5</text>\n<text text-anchor=\"middle\" x=\"1511.5\" y=\"-513.8\" font-family=\"Helvetica,sans-Serif\" font-size=\"14.00\" fill=\"#000000\">gini = 0.75</text>\n<text text-anchor=\"middle\" x=\"1511.5\" y=\"-498.8\" font-family=\"Helvetica,sans-Serif\" font-size=\"14.00\" fill=\"#000000\">samples = 6400</text>\n<text text-anchor=\"middle\" x=\"1511.5\" y=\"-483.8\" font-family=\"Helvetica,sans-Serif\" font-size=\"14.00\" fill=\"#000000\">value = [1575, 1621, 1603, 1601]</text>\n<text text-anchor=\"middle\" x=\"1511.5\" y=\"-468.8\" font-family=\"Helvetica,sans-Serif\" font-size=\"14.00\" fill=\"#000000\">class = forgery</text>\n</g>\n<!-- 1 -->\n<g id=\"node2\" class=\"node\">\n<title>1</title>\n<polygon fill=\"#fcfffc\" stroke=\"#000000\" points=\"1311,-425 1090,-425 1090,-342 1311,-342 1311,-425\"/>\n<text text-anchor=\"middle\" x=\"1200.5\" y=\"-409.8\" font-family=\"Helvetica,sans-Serif\" font-size=\"14.00\" fill=\"#000000\">PERP_SEX_F &lt;= 0.5</text>\n<text text-anchor=\"middle\" x=\"1200.5\" y=\"-394.8\" font-family=\"Helvetica,sans-Serif\" font-size=\"14.00\" fill=\"#000000\">gini = 0.745</text>\n<text text-anchor=\"middle\" x=\"1200.5\" y=\"-379.8\" font-family=\"Helvetica,sans-Serif\" font-size=\"14.00\" fill=\"#000000\">samples = 4797</text>\n<text text-anchor=\"middle\" x=\"1200.5\" y=\"-364.8\" font-family=\"Helvetica,sans-Serif\" font-size=\"14.00\" fill=\"#000000\">value = [907, 1331, 1280, 1279]</text>\n<text text-anchor=\"middle\" x=\"1200.5\" y=\"-349.8\" font-family=\"Helvetica,sans-Serif\" font-size=\"14.00\" fill=\"#000000\">class = forgery</text>\n</g>\n<!-- 0&#45;&gt;1 -->\n<g id=\"edge1\" class=\"edge\">\n<title>0&#45;&gt;1</title>\n<path fill=\"none\" stroke=\"#000000\" d=\"M1402.7273,-460.8796C1375.6201,-450.5074 1346.4245,-439.3361 1318.8794,-428.7963\"/>\n<polygon fill=\"#000000\" stroke=\"#000000\" points=\"1319.8017,-425.4018 1309.2113,-425.0969 1317.3001,-431.9395 1319.8017,-425.4018\"/>\n<text text-anchor=\"middle\" x=\"1319.4041\" y=\"-444.2247\" font-family=\"Helvetica,sans-Serif\" font-size=\"14.00\" fill=\"#000000\">True</text>\n</g>\n<!-- 16 -->\n<g id=\"node17\" class=\"node\">\n<title>16</title>\n<polygon fill=\"#f8ddca\" stroke=\"#000000\" points=\"1975,-425 1776,-425 1776,-342 1975,-342 1975,-425\"/>\n<text text-anchor=\"middle\" x=\"1875.5\" y=\"-409.8\" font-family=\"Helvetica,sans-Serif\" font-size=\"14.00\" fill=\"#000000\">AGE_GROUP_18&#45;24 &lt;= 0.5</text>\n<text text-anchor=\"middle\" x=\"1875.5\" y=\"-394.8\" font-family=\"Helvetica,sans-Serif\" font-size=\"14.00\" fill=\"#000000\">gini = 0.713</text>\n<text text-anchor=\"middle\" x=\"1875.5\" y=\"-379.8\" font-family=\"Helvetica,sans-Serif\" font-size=\"14.00\" fill=\"#000000\">samples = 1603</text>\n<text text-anchor=\"middle\" x=\"1875.5\" y=\"-364.8\" font-family=\"Helvetica,sans-Serif\" font-size=\"14.00\" fill=\"#000000\">value = [668, 290, 323, 322]</text>\n<text text-anchor=\"middle\" x=\"1875.5\" y=\"-349.8\" font-family=\"Helvetica,sans-Serif\" font-size=\"14.00\" fill=\"#000000\">class = larceny</text>\n</g>\n<!-- 0&#45;&gt;16 -->\n<g id=\"edge16\" class=\"edge\">\n<title>0&#45;&gt;16</title>\n<path fill=\"none\" stroke=\"#000000\" d=\"M1626.6719,-464.8477C1671.3021,-450.257 1722.1584,-433.6309 1766.2124,-419.2287\"/>\n<polygon fill=\"#000000\" stroke=\"#000000\" points=\"1767.3774,-422.5301 1775.7948,-416.0959 1765.2022,-415.8767 1767.3774,-422.5301\"/>\n<text text-anchor=\"middle\" x=\"1764.4853\" y=\"-434.6916\" font-family=\"Helvetica,sans-Serif\" font-size=\"14.00\" fill=\"#000000\">False</text>\n</g>\n<!-- 2 -->\n<g id=\"node3\" class=\"node\">\n<title>2</title>\n<polygon fill=\"#f3fdf2\" stroke=\"#000000\" points=\"726,-306 513,-306 513,-223 726,-223 726,-306\"/>\n<text text-anchor=\"middle\" x=\"619.5\" y=\"-290.8\" font-family=\"Helvetica,sans-Serif\" font-size=\"14.00\" fill=\"#000000\">PERP_RACE_BLACK &lt;= 0.5</text>\n<text text-anchor=\"middle\" x=\"619.5\" y=\"-275.8\" font-family=\"Helvetica,sans-Serif\" font-size=\"14.00\" fill=\"#000000\">gini = 0.74</text>\n<text text-anchor=\"middle\" x=\"619.5\" y=\"-260.8\" font-family=\"Helvetica,sans-Serif\" font-size=\"14.00\" fill=\"#000000\">samples = 3985</text>\n<text text-anchor=\"middle\" x=\"619.5\" y=\"-245.8\" font-family=\"Helvetica,sans-Serif\" font-size=\"14.00\" fill=\"#000000\">value = [707, 1249, 1051, 978]</text>\n<text text-anchor=\"middle\" x=\"619.5\" y=\"-230.8\" font-family=\"Helvetica,sans-Serif\" font-size=\"14.00\" fill=\"#000000\">class = forgery</text>\n</g>\n<!-- 1&#45;&gt;2 -->\n<g id=\"edge2\" class=\"edge\">\n<title>1&#45;&gt;2</title>\n<path fill=\"none\" stroke=\"#000000\" d=\"M1089.8508,-360.8369C988.5832,-340.0954 839.2429,-309.5076 736.1343,-288.389\"/>\n<polygon fill=\"#000000\" stroke=\"#000000\" points=\"736.8025,-284.9532 726.3035,-286.3754 735.3979,-291.8109 736.8025,-284.9532\"/>\n</g>\n<!-- 9 -->\n<g id=\"node10\" class=\"node\">\n<title>9</title>\n<polygon fill=\"#fae7fc\" stroke=\"#000000\" points=\"1302.5,-306 1098.5,-306 1098.5,-223 1302.5,-223 1302.5,-306\"/>\n<text text-anchor=\"middle\" x=\"1200.5\" y=\"-290.8\" font-family=\"Helvetica,sans-Serif\" font-size=\"14.00\" fill=\"#000000\">PERP_RACE_WHITE &lt;= 0.5</text>\n<text text-anchor=\"middle\" x=\"1200.5\" y=\"-275.8\" font-family=\"Helvetica,sans-Serif\" font-size=\"14.00\" fill=\"#000000\">gini = 0.712</text>\n<text text-anchor=\"middle\" x=\"1200.5\" y=\"-260.8\" font-family=\"Helvetica,sans-Serif\" font-size=\"14.00\" fill=\"#000000\">samples = 812</text>\n<text text-anchor=\"middle\" x=\"1200.5\" y=\"-245.8\" font-family=\"Helvetica,sans-Serif\" font-size=\"14.00\" fill=\"#000000\">value = [200, 82, 229, 301]</text>\n<text text-anchor=\"middle\" x=\"1200.5\" y=\"-230.8\" font-family=\"Helvetica,sans-Serif\" font-size=\"14.00\" fill=\"#000000\">class = assault</text>\n</g>\n<!-- 1&#45;&gt;9 -->\n<g id=\"edge9\" class=\"edge\">\n<title>1&#45;&gt;9</title>\n<path fill=\"none\" stroke=\"#000000\" d=\"M1200.5,-341.8796C1200.5,-333.6838 1200.5,-324.9891 1200.5,-316.5013\"/>\n<polygon fill=\"#000000\" stroke=\"#000000\" points=\"1204.0001,-316.298 1200.5,-306.2981 1197.0001,-316.2981 1204.0001,-316.298\"/>\n</g>\n<!-- 3 -->\n<g id=\"node4\" class=\"node\">\n<title>3</title>\n<polygon fill=\"#eaf5fc\" stroke=\"#000000\" points=\"405,-187 206,-187 206,-104 405,-104 405,-187\"/>\n<text text-anchor=\"middle\" x=\"305.5\" y=\"-171.8\" font-family=\"Helvetica,sans-Serif\" font-size=\"14.00\" fill=\"#000000\">AGE_GROUP_18&#45;24 &lt;= 0.5</text>\n<text text-anchor=\"middle\" x=\"305.5\" y=\"-156.8\" font-family=\"Helvetica,sans-Serif\" font-size=\"14.00\" fill=\"#000000\">gini = 0.74</text>\n<text text-anchor=\"middle\" x=\"305.5\" y=\"-141.8\" font-family=\"Helvetica,sans-Serif\" font-size=\"14.00\" fill=\"#000000\">samples = 1975</text>\n<text text-anchor=\"middle\" x=\"305.5\" y=\"-126.8\" font-family=\"Helvetica,sans-Serif\" font-size=\"14.00\" fill=\"#000000\">value = [374, 460, 648, 493]</text>\n<text text-anchor=\"middle\" x=\"305.5\" y=\"-111.8\" font-family=\"Helvetica,sans-Serif\" font-size=\"14.00\" fill=\"#000000\">class = sex crime</text>\n</g>\n<!-- 2&#45;&gt;3 -->\n<g id=\"edge3\" class=\"edge\">\n<title>2&#45;&gt;3</title>\n<path fill=\"none\" stroke=\"#000000\" d=\"M512.7558,-224.046C481.1756,-212.0777 446.5628,-198.9601 414.8223,-186.9311\"/>\n<polygon fill=\"#000000\" stroke=\"#000000\" points=\"415.662,-183.5064 405.0706,-183.2354 413.1812,-190.0521 415.662,-183.5064\"/>\n</g>\n<!-- 6 -->\n<g id=\"node7\" class=\"node\">\n<title>6</title>\n<polygon fill=\"#dafad8\" stroke=\"#000000\" points=\"719,-187 520,-187 520,-104 719,-104 719,-187\"/>\n<text text-anchor=\"middle\" x=\"619.5\" y=\"-171.8\" font-family=\"Helvetica,sans-Serif\" font-size=\"14.00\" fill=\"#000000\">AGE_GROUP_45&#45;64 &lt;= 0.5</text>\n<text text-anchor=\"middle\" x=\"619.5\" y=\"-156.8\" font-family=\"Helvetica,sans-Serif\" font-size=\"14.00\" fill=\"#000000\">gini = 0.72</text>\n<text text-anchor=\"middle\" x=\"619.5\" y=\"-141.8\" font-family=\"Helvetica,sans-Serif\" font-size=\"14.00\" fill=\"#000000\">samples = 2010</text>\n<text text-anchor=\"middle\" x=\"619.5\" y=\"-126.8\" font-family=\"Helvetica,sans-Serif\" font-size=\"14.00\" fill=\"#000000\">value = [333, 789, 403, 485]</text>\n<text text-anchor=\"middle\" x=\"619.5\" y=\"-111.8\" font-family=\"Helvetica,sans-Serif\" font-size=\"14.00\" fill=\"#000000\">class = forgery</text>\n</g>\n<!-- 2&#45;&gt;6 -->\n<g id=\"edge6\" class=\"edge\">\n<title>2&#45;&gt;6</title>\n<path fill=\"none\" stroke=\"#000000\" d=\"M619.5,-222.8796C619.5,-214.6838 619.5,-205.9891 619.5,-197.5013\"/>\n<polygon fill=\"#000000\" stroke=\"#000000\" points=\"623.0001,-197.298 619.5,-187.2981 616.0001,-197.2981 623.0001,-197.298\"/>\n</g>\n<!-- 4 -->\n<g id=\"node5\" class=\"node\">\n<title>4</title>\n<polygon fill=\"#e1f0fb\" stroke=\"#000000\" points=\"197,-68 0,-68 0,0 197,0 197,-68\"/>\n<text text-anchor=\"middle\" x=\"98.5\" y=\"-52.8\" font-family=\"Helvetica,sans-Serif\" font-size=\"14.00\" fill=\"#000000\">gini = 0.735</text>\n<text text-anchor=\"middle\" x=\"98.5\" y=\"-37.8\" font-family=\"Helvetica,sans-Serif\" font-size=\"14.00\" fill=\"#000000\">samples = 1643</text>\n<text text-anchor=\"middle\" x=\"98.5\" y=\"-22.8\" font-family=\"Helvetica,sans-Serif\" font-size=\"14.00\" fill=\"#000000\">value = [337, 339, 579, 388]</text>\n<text text-anchor=\"middle\" x=\"98.5\" y=\"-7.8\" font-family=\"Helvetica,sans-Serif\" font-size=\"14.00\" fill=\"#000000\">class = sex crime</text>\n</g>\n<!-- 3&#45;&gt;4 -->\n<g id=\"edge4\" class=\"edge\">\n<title>3&#45;&gt;4</title>\n<path fill=\"none\" stroke=\"#000000\" d=\"M228.4208,-103.9815C209.5533,-93.8186 189.4304,-82.9794 170.7962,-72.9421\"/>\n<polygon fill=\"#000000\" stroke=\"#000000\" points=\"172.2439,-69.7465 161.78,-68.0856 168.9243,-75.9094 172.2439,-69.7465\"/>\n</g>\n<!-- 5 -->\n<g id=\"node6\" class=\"node\">\n<title>5</title>\n<polygon fill=\"#f2fdf1\" stroke=\"#000000\" points=\"395.5,-68 215.5,-68 215.5,0 395.5,0 395.5,-68\"/>\n<text text-anchor=\"middle\" x=\"305.5\" y=\"-52.8\" font-family=\"Helvetica,sans-Serif\" font-size=\"14.00\" fill=\"#000000\">gini = 0.712</text>\n<text text-anchor=\"middle\" x=\"305.5\" y=\"-37.8\" font-family=\"Helvetica,sans-Serif\" font-size=\"14.00\" fill=\"#000000\">samples = 332</text>\n<text text-anchor=\"middle\" x=\"305.5\" y=\"-22.8\" font-family=\"Helvetica,sans-Serif\" font-size=\"14.00\" fill=\"#000000\">value = [37, 121, 69, 105]</text>\n<text text-anchor=\"middle\" x=\"305.5\" y=\"-7.8\" font-family=\"Helvetica,sans-Serif\" font-size=\"14.00\" fill=\"#000000\">class = forgery</text>\n</g>\n<!-- 3&#45;&gt;5 -->\n<g id=\"edge5\" class=\"edge\">\n<title>3&#45;&gt;5</title>\n<path fill=\"none\" stroke=\"#000000\" d=\"M305.5,-103.9815C305.5,-95.618 305.5,-86.7965 305.5,-78.3409\"/>\n<polygon fill=\"#000000\" stroke=\"#000000\" points=\"309.0001,-78.2636 305.5,-68.2637 302.0001,-78.2637 309.0001,-78.2636\"/>\n</g>\n<!-- 7 -->\n<g id=\"node8\" class=\"node\">\n<title>7</title>\n<polygon fill=\"#d0f8cd\" stroke=\"#000000\" points=\"611,-68 414,-68 414,0 611,0 611,-68\"/>\n<text text-anchor=\"middle\" x=\"512.5\" y=\"-52.8\" font-family=\"Helvetica,sans-Serif\" font-size=\"14.00\" fill=\"#000000\">gini = 0.694</text>\n<text text-anchor=\"middle\" x=\"512.5\" y=\"-37.8\" font-family=\"Helvetica,sans-Serif\" font-size=\"14.00\" fill=\"#000000\">samples = 1617</text>\n<text text-anchor=\"middle\" x=\"512.5\" y=\"-22.8\" font-family=\"Helvetica,sans-Serif\" font-size=\"14.00\" fill=\"#000000\">value = [187, 708, 322, 400]</text>\n<text text-anchor=\"middle\" x=\"512.5\" y=\"-7.8\" font-family=\"Helvetica,sans-Serif\" font-size=\"14.00\" fill=\"#000000\">class = forgery</text>\n</g>\n<!-- 6&#45;&gt;7 -->\n<g id=\"edge7\" class=\"edge\">\n<title>6&#45;&gt;7</title>\n<path fill=\"none\" stroke=\"#000000\" d=\"M579.6571,-103.9815C570.7492,-94.6989 561.2999,-84.8522 552.3901,-75.5677\"/>\n<polygon fill=\"#000000\" stroke=\"#000000\" points=\"554.8302,-73.0555 545.3808,-68.2637 549.7795,-77.9023 554.8302,-73.0555\"/>\n</g>\n<!-- 8 -->\n<g id=\"node9\" class=\"node\">\n<title>8</title>\n<polygon fill=\"#fae6d8\" stroke=\"#000000\" points=\"801.5,-68 629.5,-68 629.5,0 801.5,0 801.5,-68\"/>\n<text text-anchor=\"middle\" x=\"715.5\" y=\"-52.8\" font-family=\"Helvetica,sans-Serif\" font-size=\"14.00\" fill=\"#000000\">gini = 0.73</text>\n<text text-anchor=\"middle\" x=\"715.5\" y=\"-37.8\" font-family=\"Helvetica,sans-Serif\" font-size=\"14.00\" fill=\"#000000\">samples = 393</text>\n<text text-anchor=\"middle\" x=\"715.5\" y=\"-22.8\" font-family=\"Helvetica,sans-Serif\" font-size=\"14.00\" fill=\"#000000\">value = [146, 81, 81, 85]</text>\n<text text-anchor=\"middle\" x=\"715.5\" y=\"-7.8\" font-family=\"Helvetica,sans-Serif\" font-size=\"14.00\" fill=\"#000000\">class = larceny</text>\n</g>\n<!-- 6&#45;&gt;8 -->\n<g id=\"edge8\" class=\"edge\">\n<title>6&#45;&gt;8</title>\n<path fill=\"none\" stroke=\"#000000\" d=\"M655.2469,-103.9815C663.1599,-94.7908 671.5491,-85.0472 679.4732,-75.8436\"/>\n<polygon fill=\"#000000\" stroke=\"#000000\" points=\"682.1271,-78.1255 685.9994,-68.2637 676.8224,-73.5582 682.1271,-78.1255\"/>\n</g>\n<!-- 10 -->\n<g id=\"node11\" class=\"node\">\n<title>10</title>\n<polygon fill=\"#f9e3fb\" stroke=\"#000000\" points=\"1193.5,-187 987.5,-187 987.5,-104 1193.5,-104 1193.5,-187\"/>\n<text text-anchor=\"middle\" x=\"1090.5\" y=\"-171.8\" font-family=\"Helvetica,sans-Serif\" font-size=\"14.00\" fill=\"#000000\">PERP_RACE_BLACK &lt;= 0.5</text>\n<text text-anchor=\"middle\" x=\"1090.5\" y=\"-156.8\" font-family=\"Helvetica,sans-Serif\" font-size=\"14.00\" fill=\"#000000\">gini = 0.706</text>\n<text text-anchor=\"middle\" x=\"1090.5\" y=\"-141.8\" font-family=\"Helvetica,sans-Serif\" font-size=\"14.00\" fill=\"#000000\">samples = 716</text>\n<text text-anchor=\"middle\" x=\"1090.5\" y=\"-126.8\" font-family=\"Helvetica,sans-Serif\" font-size=\"14.00\" fill=\"#000000\">value = [153, 74, 209, 280]</text>\n<text text-anchor=\"middle\" x=\"1090.5\" y=\"-111.8\" font-family=\"Helvetica,sans-Serif\" font-size=\"14.00\" fill=\"#000000\">class = assault</text>\n</g>\n<!-- 9&#45;&gt;10 -->\n<g id=\"edge10\" class=\"edge\">\n<title>9&#45;&gt;10</title>\n<path fill=\"none\" stroke=\"#000000\" d=\"M1162.0273,-222.8796C1153.6189,-213.7832 1144.6424,-204.0722 1135.9897,-194.7116\"/>\n<polygon fill=\"#000000\" stroke=\"#000000\" points=\"1138.495,-192.2656 1129.1369,-187.2981 1133.3547,-197.0172 1138.495,-192.2656\"/>\n</g>\n<!-- 13 -->\n<g id=\"node14\" class=\"node\">\n<title>13</title>\n<polygon fill=\"#f6d3ba\" stroke=\"#000000\" points=\"1411,-187 1212,-187 1212,-104 1411,-104 1411,-187\"/>\n<text text-anchor=\"middle\" x=\"1311.5\" y=\"-171.8\" font-family=\"Helvetica,sans-Serif\" font-size=\"14.00\" fill=\"#000000\">AGE_GROUP_18&#45;24 &lt;= 0.5</text>\n<text text-anchor=\"middle\" x=\"1311.5\" y=\"-156.8\" font-family=\"Helvetica,sans-Serif\" font-size=\"14.00\" fill=\"#000000\">gini = 0.662</text>\n<text text-anchor=\"middle\" x=\"1311.5\" y=\"-141.8\" font-family=\"Helvetica,sans-Serif\" font-size=\"14.00\" fill=\"#000000\">samples = 96</text>\n<text text-anchor=\"middle\" x=\"1311.5\" y=\"-126.8\" font-family=\"Helvetica,sans-Serif\" font-size=\"14.00\" fill=\"#000000\">value = [47, 8, 20, 21]</text>\n<text text-anchor=\"middle\" x=\"1311.5\" y=\"-111.8\" font-family=\"Helvetica,sans-Serif\" font-size=\"14.00\" fill=\"#000000\">class = larceny</text>\n</g>\n<!-- 9&#45;&gt;13 -->\n<g id=\"edge13\" class=\"edge\">\n<title>9&#45;&gt;13</title>\n<path fill=\"none\" stroke=\"#000000\" d=\"M1239.3224,-222.8796C1247.8073,-213.7832 1256.8654,-204.0722 1265.5968,-194.7116\"/>\n<polygon fill=\"#000000\" stroke=\"#000000\" points=\"1268.2503,-196.9981 1272.5119,-187.2981 1263.1314,-192.2233 1268.2503,-196.9981\"/>\n</g>\n<!-- 11 -->\n<g id=\"node12\" class=\"node\">\n<title>11</title>\n<polygon fill=\"#fefbff\" stroke=\"#000000\" points=\"999.5,-68 819.5,-68 819.5,0 999.5,0 999.5,-68\"/>\n<text text-anchor=\"middle\" x=\"909.5\" y=\"-52.8\" font-family=\"Helvetica,sans-Serif\" font-size=\"14.00\" fill=\"#000000\">gini = 0.705</text>\n<text text-anchor=\"middle\" x=\"909.5\" y=\"-37.8\" font-family=\"Helvetica,sans-Serif\" font-size=\"14.00\" fill=\"#000000\">samples = 333</text>\n<text text-anchor=\"middle\" x=\"909.5\" y=\"-22.8\" font-family=\"Helvetica,sans-Serif\" font-size=\"14.00\" fill=\"#000000\">value = [86, 25, 109, 113]</text>\n<text text-anchor=\"middle\" x=\"909.5\" y=\"-7.8\" font-family=\"Helvetica,sans-Serif\" font-size=\"14.00\" fill=\"#000000\">class = assault</text>\n</g>\n<!-- 10&#45;&gt;11 -->\n<g id=\"edge11\" class=\"edge\">\n<title>10&#45;&gt;11</title>\n<path fill=\"none\" stroke=\"#000000\" d=\"M1023.1023,-103.9815C1006.9045,-94.0034 989.6487,-83.3733 973.6055,-73.4904\"/>\n<polygon fill=\"#000000\" stroke=\"#000000\" points=\"975.1817,-70.3506 964.8318,-68.0856 971.5103,-76.3105 975.1817,-70.3506\"/>\n</g>\n<!-- 12 -->\n<g id=\"node13\" class=\"node\">\n<title>12</title>\n<polygon fill=\"#f6d0f9\" stroke=\"#000000\" points=\"1197.5,-68 1017.5,-68 1017.5,0 1197.5,0 1197.5,-68\"/>\n<text text-anchor=\"middle\" x=\"1107.5\" y=\"-52.8\" font-family=\"Helvetica,sans-Serif\" font-size=\"14.00\" fill=\"#000000\">gini = 0.695</text>\n<text text-anchor=\"middle\" x=\"1107.5\" y=\"-37.8\" font-family=\"Helvetica,sans-Serif\" font-size=\"14.00\" fill=\"#000000\">samples = 383</text>\n<text text-anchor=\"middle\" x=\"1107.5\" y=\"-22.8\" font-family=\"Helvetica,sans-Serif\" font-size=\"14.00\" fill=\"#000000\">value = [67, 49, 100, 167]</text>\n<text text-anchor=\"middle\" x=\"1107.5\" y=\"-7.8\" font-family=\"Helvetica,sans-Serif\" font-size=\"14.00\" fill=\"#000000\">class = assault</text>\n</g>\n<!-- 10&#45;&gt;12 -->\n<g id=\"edge12\" class=\"edge\">\n<title>10&#45;&gt;12</title>\n<path fill=\"none\" stroke=\"#000000\" d=\"M1096.8302,-103.9815C1098.1053,-95.618 1099.4503,-86.7965 1100.7395,-78.3409\"/>\n<polygon fill=\"#000000\" stroke=\"#000000\" points=\"1104.2286,-78.677 1102.2759,-68.2637 1097.3086,-77.6219 1104.2286,-78.677\"/>\n</g>\n<!-- 14 -->\n<g id=\"node15\" class=\"node\">\n<title>14</title>\n<polygon fill=\"#f6d2b9\" stroke=\"#000000\" points=\"1371,-68 1216,-68 1216,0 1371,0 1371,-68\"/>\n<text text-anchor=\"middle\" x=\"1293.5\" y=\"-52.8\" font-family=\"Helvetica,sans-Serif\" font-size=\"14.00\" fill=\"#000000\">gini = 0.642</text>\n<text text-anchor=\"middle\" x=\"1293.5\" y=\"-37.8\" font-family=\"Helvetica,sans-Serif\" font-size=\"14.00\" fill=\"#000000\">samples = 85</text>\n<text text-anchor=\"middle\" x=\"1293.5\" y=\"-22.8\" font-family=\"Helvetica,sans-Serif\" font-size=\"14.00\" fill=\"#000000\">value = [43, 4, 18, 20]</text>\n<text text-anchor=\"middle\" x=\"1293.5\" y=\"-7.8\" font-family=\"Helvetica,sans-Serif\" font-size=\"14.00\" fill=\"#000000\">class = larceny</text>\n</g>\n<!-- 13&#45;&gt;14 -->\n<g id=\"edge14\" class=\"edge\">\n<title>13&#45;&gt;14</title>\n<path fill=\"none\" stroke=\"#000000\" d=\"M1304.7975,-103.9815C1303.4473,-95.618 1302.0232,-86.7965 1300.6582,-78.3409\"/>\n<polygon fill=\"#000000\" stroke=\"#000000\" points=\"1304.0804,-77.578 1299.0314,-68.2637 1297.1699,-78.6937 1304.0804,-77.578\"/>\n</g>\n<!-- 15 -->\n<g id=\"node16\" class=\"node\">\n<title>15</title>\n<polygon fill=\"#ffffff\" stroke=\"#000000\" points=\"1520,-68 1389,-68 1389,0 1520,0 1520,-68\"/>\n<text text-anchor=\"middle\" x=\"1454.5\" y=\"-52.8\" font-family=\"Helvetica,sans-Serif\" font-size=\"14.00\" fill=\"#000000\">gini = 0.694</text>\n<text text-anchor=\"middle\" x=\"1454.5\" y=\"-37.8\" font-family=\"Helvetica,sans-Serif\" font-size=\"14.00\" fill=\"#000000\">samples = 11</text>\n<text text-anchor=\"middle\" x=\"1454.5\" y=\"-22.8\" font-family=\"Helvetica,sans-Serif\" font-size=\"14.00\" fill=\"#000000\">value = [4, 4, 2, 1]</text>\n<text text-anchor=\"middle\" x=\"1454.5\" y=\"-7.8\" font-family=\"Helvetica,sans-Serif\" font-size=\"14.00\" fill=\"#000000\">class = larceny</text>\n</g>\n<!-- 13&#45;&gt;15 -->\n<g id=\"edge15\" class=\"edge\">\n<title>13&#45;&gt;15</title>\n<path fill=\"none\" stroke=\"#000000\" d=\"M1364.7479,-103.9815C1377.1244,-94.3313 1390.2828,-84.0714 1402.6003,-74.4673\"/>\n<polygon fill=\"#000000\" stroke=\"#000000\" points=\"1404.8225,-77.1728 1410.5565,-68.2637 1400.5182,-71.6525 1404.8225,-77.1728\"/>\n</g>\n<!-- 17 -->\n<g id=\"node18\" class=\"node\">\n<title>17</title>\n<polygon fill=\"#f7d8c2\" stroke=\"#000000\" points=\"1975,-306 1776,-306 1776,-223 1975,-223 1975,-306\"/>\n<text text-anchor=\"middle\" x=\"1875.5\" y=\"-290.8\" font-family=\"Helvetica,sans-Serif\" font-size=\"14.00\" fill=\"#000000\">AGE_GROUP_45&#45;64 &lt;= 0.5</text>\n<text text-anchor=\"middle\" x=\"1875.5\" y=\"-275.8\" font-family=\"Helvetica,sans-Serif\" font-size=\"14.00\" fill=\"#000000\">gini = 0.698</text>\n<text text-anchor=\"middle\" x=\"1875.5\" y=\"-260.8\" font-family=\"Helvetica,sans-Serif\" font-size=\"14.00\" fill=\"#000000\">samples = 1381</text>\n<text text-anchor=\"middle\" x=\"1875.5\" y=\"-245.8\" font-family=\"Helvetica,sans-Serif\" font-size=\"14.00\" fill=\"#000000\">value = [616, 217, 277, 271]</text>\n<text text-anchor=\"middle\" x=\"1875.5\" y=\"-230.8\" font-family=\"Helvetica,sans-Serif\" font-size=\"14.00\" fill=\"#000000\">class = larceny</text>\n</g>\n<!-- 16&#45;&gt;17 -->\n<g id=\"edge17\" class=\"edge\">\n<title>16&#45;&gt;17</title>\n<path fill=\"none\" stroke=\"#000000\" d=\"M1875.5,-341.8796C1875.5,-333.6838 1875.5,-324.9891 1875.5,-316.5013\"/>\n<polygon fill=\"#000000\" stroke=\"#000000\" points=\"1879.0001,-316.298 1875.5,-306.2981 1872.0001,-316.2981 1879.0001,-316.298\"/>\n</g>\n<!-- 24 -->\n<g id=\"node25\" class=\"node\">\n<title>24</title>\n<polygon fill=\"#e8fce7\" stroke=\"#000000\" points=\"2466.5,-306 2302.5,-306 2302.5,-223 2466.5,-223 2466.5,-306\"/>\n<text text-anchor=\"middle\" x=\"2384.5\" y=\"-290.8\" font-family=\"Helvetica,sans-Serif\" font-size=\"14.00\" fill=\"#000000\">PERP_SEX_M &lt;= 0.5</text>\n<text text-anchor=\"middle\" x=\"2384.5\" y=\"-275.8\" font-family=\"Helvetica,sans-Serif\" font-size=\"14.00\" fill=\"#000000\">gini = 0.741</text>\n<text text-anchor=\"middle\" x=\"2384.5\" y=\"-260.8\" font-family=\"Helvetica,sans-Serif\" font-size=\"14.00\" fill=\"#000000\">samples = 222</text>\n<text text-anchor=\"middle\" x=\"2384.5\" y=\"-245.8\" font-family=\"Helvetica,sans-Serif\" font-size=\"14.00\" fill=\"#000000\">value = [52, 73, 46, 51]</text>\n<text text-anchor=\"middle\" x=\"2384.5\" y=\"-230.8\" font-family=\"Helvetica,sans-Serif\" font-size=\"14.00\" fill=\"#000000\">class = forgery</text>\n</g>\n<!-- 16&#45;&gt;24 -->\n<g id=\"edge24\" class=\"edge\">\n<title>16&#45;&gt;24</title>\n<path fill=\"none\" stroke=\"#000000\" d=\"M1975.1515,-360.2023C2067.2082,-338.6802 2202.8707,-306.9634 2292.4309,-286.025\"/>\n<polygon fill=\"#000000\" stroke=\"#000000\" points=\"2293.3633,-289.4015 2302.3039,-283.7168 2291.7697,-282.5853 2293.3633,-289.4015\"/>\n</g>\n<!-- 18 -->\n<g id=\"node19\" class=\"node\">\n<title>18</title>\n<polygon fill=\"#f9e2d1\" stroke=\"#000000\" points=\"1831.5,-187 1627.5,-187 1627.5,-104 1831.5,-104 1831.5,-187\"/>\n<text text-anchor=\"middle\" x=\"1729.5\" y=\"-171.8\" font-family=\"Helvetica,sans-Serif\" font-size=\"14.00\" fill=\"#000000\">PERP_RACE_WHITE &lt;= 0.5</text>\n<text text-anchor=\"middle\" x=\"1729.5\" y=\"-156.8\" font-family=\"Helvetica,sans-Serif\" font-size=\"14.00\" fill=\"#000000\">gini = 0.718</text>\n<text text-anchor=\"middle\" x=\"1729.5\" y=\"-141.8\" font-family=\"Helvetica,sans-Serif\" font-size=\"14.00\" fill=\"#000000\">samples = 990</text>\n<text text-anchor=\"middle\" x=\"1729.5\" y=\"-126.8\" font-family=\"Helvetica,sans-Serif\" font-size=\"14.00\" fill=\"#000000\">value = [397, 167, 217, 209]</text>\n<text text-anchor=\"middle\" x=\"1729.5\" y=\"-111.8\" font-family=\"Helvetica,sans-Serif\" font-size=\"14.00\" fill=\"#000000\">class = larceny</text>\n</g>\n<!-- 17&#45;&gt;18 -->\n<g id=\"edge18\" class=\"edge\">\n<title>17&#45;&gt;18</title>\n<path fill=\"none\" stroke=\"#000000\" d=\"M1824.4363,-222.8796C1812.9445,-213.513 1800.6532,-203.4948 1788.855,-193.8784\"/>\n<polygon fill=\"#000000\" stroke=\"#000000\" points=\"1790.7444,-190.903 1780.7817,-187.2981 1786.3218,-196.329 1790.7444,-190.903\"/>\n</g>\n<!-- 21 -->\n<g id=\"node22\" class=\"node\">\n<title>21</title>\n<polygon fill=\"#f3c3a1\" stroke=\"#000000\" points=\"2194,-187 1849,-187 1849,-104 2194,-104 2194,-187\"/>\n<text text-anchor=\"middle\" x=\"2021.5\" y=\"-171.8\" font-family=\"Helvetica,sans-Serif\" font-size=\"14.00\" fill=\"#000000\">PERP_RACE_ASIAN / PACIFIC ISLANDER &lt;= 0.5</text>\n<text text-anchor=\"middle\" x=\"2021.5\" y=\"-156.8\" font-family=\"Helvetica,sans-Serif\" font-size=\"14.00\" fill=\"#000000\">gini = 0.621</text>\n<text text-anchor=\"middle\" x=\"2021.5\" y=\"-141.8\" font-family=\"Helvetica,sans-Serif\" font-size=\"14.00\" fill=\"#000000\">samples = 391</text>\n<text text-anchor=\"middle\" x=\"2021.5\" y=\"-126.8\" font-family=\"Helvetica,sans-Serif\" font-size=\"14.00\" fill=\"#000000\">value = [219, 50, 60, 62]</text>\n<text text-anchor=\"middle\" x=\"2021.5\" y=\"-111.8\" font-family=\"Helvetica,sans-Serif\" font-size=\"14.00\" fill=\"#000000\">class = larceny</text>\n</g>\n<!-- 17&#45;&gt;21 -->\n<g id=\"edge21\" class=\"edge\">\n<title>17&#45;&gt;21</title>\n<path fill=\"none\" stroke=\"#000000\" d=\"M1926.5637,-222.8796C1938.0555,-213.513 1950.3468,-203.4948 1962.145,-193.8784\"/>\n<polygon fill=\"#000000\" stroke=\"#000000\" points=\"1964.6782,-196.329 1970.2183,-187.2981 1960.2556,-190.903 1964.6782,-196.329\"/>\n</g>\n<!-- 19 -->\n<g id=\"node20\" class=\"node\">\n<title>19</title>\n<polygon fill=\"#fae8db\" stroke=\"#000000\" points=\"1735,-68 1538,-68 1538,0 1735,0 1735,-68\"/>\n<text text-anchor=\"middle\" x=\"1636.5\" y=\"-52.8\" font-family=\"Helvetica,sans-Serif\" font-size=\"14.00\" fill=\"#000000\">gini = 0.73</text>\n<text text-anchor=\"middle\" x=\"1636.5\" y=\"-37.8\" font-family=\"Helvetica,sans-Serif\" font-size=\"14.00\" fill=\"#000000\">samples = 833</text>\n<text text-anchor=\"middle\" x=\"1636.5\" y=\"-22.8\" font-family=\"Helvetica,sans-Serif\" font-size=\"14.00\" fill=\"#000000\">value = [307, 147, 189, 190]</text>\n<text text-anchor=\"middle\" x=\"1636.5\" y=\"-7.8\" font-family=\"Helvetica,sans-Serif\" font-size=\"14.00\" fill=\"#000000\">class = larceny</text>\n</g>\n<!-- 18&#45;&gt;19 -->\n<g id=\"edge19\" class=\"edge\">\n<title>18&#45;&gt;19</title>\n<path fill=\"none\" stroke=\"#000000\" d=\"M1694.8702,-103.9815C1687.2811,-94.8828 1679.24,-85.242 1671.6314,-76.1199\"/>\n<polygon fill=\"#000000\" stroke=\"#000000\" points=\"1674.1717,-73.7012 1665.0787,-68.2637 1668.7961,-78.1849 1674.1717,-73.7012\"/>\n</g>\n<!-- 20 -->\n<g id=\"node21\" class=\"node\">\n<title>20</title>\n<polygon fill=\"#f3c2a0\" stroke=\"#000000\" points=\"1917.5,-68 1753.5,-68 1753.5,0 1917.5,0 1917.5,-68\"/>\n<text text-anchor=\"middle\" x=\"1835.5\" y=\"-52.8\" font-family=\"Helvetica,sans-Serif\" font-size=\"14.00\" fill=\"#000000\">gini = 0.609</text>\n<text text-anchor=\"middle\" x=\"1835.5\" y=\"-37.8\" font-family=\"Helvetica,sans-Serif\" font-size=\"14.00\" fill=\"#000000\">samples = 157</text>\n<text text-anchor=\"middle\" x=\"1835.5\" y=\"-22.8\" font-family=\"Helvetica,sans-Serif\" font-size=\"14.00\" fill=\"#000000\">value = [90, 20, 28, 19]</text>\n<text text-anchor=\"middle\" x=\"1835.5\" y=\"-7.8\" font-family=\"Helvetica,sans-Serif\" font-size=\"14.00\" fill=\"#000000\">class = larceny</text>\n</g>\n<!-- 18&#45;&gt;20 -->\n<g id=\"edge20\" class=\"edge\">\n<title>18&#45;&gt;20</title>\n<path fill=\"none\" stroke=\"#000000\" d=\"M1768.9705,-103.9815C1777.7952,-94.6989 1787.1562,-84.8522 1795.9827,-75.5677\"/>\n<polygon fill=\"#000000\" stroke=\"#000000\" points=\"1798.573,-77.9228 1802.9265,-68.2637 1793.4997,-73.0997 1798.573,-77.9228\"/>\n</g>\n<!-- 22 -->\n<g id=\"node23\" class=\"node\">\n<title>22</title>\n<polygon fill=\"#f2c19e\" stroke=\"#000000\" points=\"2107.5,-68 1935.5,-68 1935.5,0 2107.5,0 2107.5,-68\"/>\n<text text-anchor=\"middle\" x=\"2021.5\" y=\"-52.8\" font-family=\"Helvetica,sans-Serif\" font-size=\"14.00\" fill=\"#000000\">gini = 0.612</text>\n<text text-anchor=\"middle\" x=\"2021.5\" y=\"-37.8\" font-family=\"Helvetica,sans-Serif\" font-size=\"14.00\" fill=\"#000000\">samples = 366</text>\n<text text-anchor=\"middle\" x=\"2021.5\" y=\"-22.8\" font-family=\"Helvetica,sans-Serif\" font-size=\"14.00\" fill=\"#000000\">value = [209, 49, 51, 57]</text>\n<text text-anchor=\"middle\" x=\"2021.5\" y=\"-7.8\" font-family=\"Helvetica,sans-Serif\" font-size=\"14.00\" fill=\"#000000\">class = larceny</text>\n</g>\n<!-- 21&#45;&gt;22 -->\n<g id=\"edge22\" class=\"edge\">\n<title>21&#45;&gt;22</title>\n<path fill=\"none\" stroke=\"#000000\" d=\"M2021.5,-103.9815C2021.5,-95.618 2021.5,-86.7965 2021.5,-78.3409\"/>\n<polygon fill=\"#000000\" stroke=\"#000000\" points=\"2025.0001,-78.2636 2021.5,-68.2637 2018.0001,-78.2637 2025.0001,-78.2636\"/>\n</g>\n<!-- 23 -->\n<g id=\"node24\" class=\"node\">\n<title>23</title>\n<polygon fill=\"#fdf7f3\" stroke=\"#000000\" points=\"2265,-68 2126,-68 2126,0 2265,0 2265,-68\"/>\n<text text-anchor=\"middle\" x=\"2195.5\" y=\"-52.8\" font-family=\"Helvetica,sans-Serif\" font-size=\"14.00\" fill=\"#000000\">gini = 0.669</text>\n<text text-anchor=\"middle\" x=\"2195.5\" y=\"-37.8\" font-family=\"Helvetica,sans-Serif\" font-size=\"14.00\" fill=\"#000000\">samples = 25</text>\n<text text-anchor=\"middle\" x=\"2195.5\" y=\"-22.8\" font-family=\"Helvetica,sans-Serif\" font-size=\"14.00\" fill=\"#000000\">value = [10, 1, 9, 5]</text>\n<text text-anchor=\"middle\" x=\"2195.5\" y=\"-7.8\" font-family=\"Helvetica,sans-Serif\" font-size=\"14.00\" fill=\"#000000\">class = larceny</text>\n</g>\n<!-- 21&#45;&gt;23 -->\n<g id=\"edge23\" class=\"edge\">\n<title>21&#45;&gt;23</title>\n<path fill=\"none\" stroke=\"#000000\" d=\"M2086.2912,-103.9815C2101.8625,-94.0034 2118.451,-83.3733 2133.8737,-73.4904\"/>\n<polygon fill=\"#000000\" stroke=\"#000000\" points=\"2135.7768,-76.4279 2142.3081,-68.0856 2132,-70.5341 2135.7768,-76.4279\"/>\n</g>\n<!-- 25 -->\n<g id=\"node26\" class=\"node\">\n<title>25</title>\n<polygon fill=\"#fcf0fd\" stroke=\"#000000\" points=\"2557,-187 2212,-187 2212,-104 2557,-104 2557,-187\"/>\n<text text-anchor=\"middle\" x=\"2384.5\" y=\"-171.8\" font-family=\"Helvetica,sans-Serif\" font-size=\"14.00\" fill=\"#000000\">PERP_RACE_ASIAN / PACIFIC ISLANDER &lt;= 0.5</text>\n<text text-anchor=\"middle\" x=\"2384.5\" y=\"-156.8\" font-family=\"Helvetica,sans-Serif\" font-size=\"14.00\" fill=\"#000000\">gini = 0.647</text>\n<text text-anchor=\"middle\" x=\"2384.5\" y=\"-141.8\" font-family=\"Helvetica,sans-Serif\" font-size=\"14.00\" fill=\"#000000\">samples = 44</text>\n<text text-anchor=\"middle\" x=\"2384.5\" y=\"-126.8\" font-family=\"Helvetica,sans-Serif\" font-size=\"14.00\" fill=\"#000000\">value = [17, 5, 3, 19]</text>\n<text text-anchor=\"middle\" x=\"2384.5\" y=\"-111.8\" font-family=\"Helvetica,sans-Serif\" font-size=\"14.00\" fill=\"#000000\">class = assault</text>\n</g>\n<!-- 24&#45;&gt;25 -->\n<g id=\"edge25\" class=\"edge\">\n<title>24&#45;&gt;25</title>\n<path fill=\"none\" stroke=\"#000000\" d=\"M2384.5,-222.8796C2384.5,-214.6838 2384.5,-205.9891 2384.5,-197.5013\"/>\n<polygon fill=\"#000000\" stroke=\"#000000\" points=\"2388.0001,-197.298 2384.5,-187.2981 2381.0001,-197.2981 2388.0001,-197.298\"/>\n</g>\n<!-- 28 -->\n<g id=\"node29\" class=\"node\">\n<title>28</title>\n<polygon fill=\"#ddfada\" stroke=\"#000000\" points=\"2850,-187 2575,-187 2575,-104 2850,-104 2850,-187\"/>\n<text text-anchor=\"middle\" x=\"2712.5\" y=\"-171.8\" font-family=\"Helvetica,sans-Serif\" font-size=\"14.00\" fill=\"#000000\">PERP_RACE_WHITE HISPANIC &lt;= 0.5</text>\n<text text-anchor=\"middle\" x=\"2712.5\" y=\"-156.8\" font-family=\"Helvetica,sans-Serif\" font-size=\"14.00\" fill=\"#000000\">gini = 0.725</text>\n<text text-anchor=\"middle\" x=\"2712.5\" y=\"-141.8\" font-family=\"Helvetica,sans-Serif\" font-size=\"14.00\" fill=\"#000000\">samples = 178</text>\n<text text-anchor=\"middle\" x=\"2712.5\" y=\"-126.8\" font-family=\"Helvetica,sans-Serif\" font-size=\"14.00\" fill=\"#000000\">value = [35, 68, 43, 32]</text>\n<text text-anchor=\"middle\" x=\"2712.5\" y=\"-111.8\" font-family=\"Helvetica,sans-Serif\" font-size=\"14.00\" fill=\"#000000\">class = forgery</text>\n</g>\n<!-- 24&#45;&gt;28 -->\n<g id=\"edge28\" class=\"edge\">\n<title>24&#45;&gt;28</title>\n<path fill=\"none\" stroke=\"#000000\" d=\"M2466.8449,-234.6249C2503.6397,-221.2755 2547.7969,-205.2551 2588.4632,-190.5012\"/>\n<polygon fill=\"#000000\" stroke=\"#000000\" points=\"2589.6908,-193.7791 2597.8976,-187.0783 2587.3034,-187.1988 2589.6908,-193.7791\"/>\n</g>\n<!-- 26 -->\n<g id=\"node27\" class=\"node\">\n<title>26</title>\n<polygon fill=\"#f7d9fa\" stroke=\"#000000\" points=\"2444,-68 2297,-68 2297,0 2444,0 2444,-68\"/>\n<text text-anchor=\"middle\" x=\"2370.5\" y=\"-52.8\" font-family=\"Helvetica,sans-Serif\" font-size=\"14.00\" fill=\"#000000\">gini = 0.636</text>\n<text text-anchor=\"middle\" x=\"2370.5\" y=\"-37.8\" font-family=\"Helvetica,sans-Serif\" font-size=\"14.00\" fill=\"#000000\">samples = 40</text>\n<text text-anchor=\"middle\" x=\"2370.5\" y=\"-22.8\" font-family=\"Helvetica,sans-Serif\" font-size=\"14.00\" fill=\"#000000\">value = [14, 4, 3, 19]</text>\n<text text-anchor=\"middle\" x=\"2370.5\" y=\"-7.8\" font-family=\"Helvetica,sans-Serif\" font-size=\"14.00\" fill=\"#000000\">class = assault</text>\n</g>\n<!-- 25&#45;&gt;26 -->\n<g id=\"edge26\" class=\"edge\">\n<title>25&#45;&gt;26</title>\n<path fill=\"none\" stroke=\"#000000\" d=\"M2379.2869,-103.9815C2378.2368,-95.618 2377.1292,-86.7965 2376.0675,-78.3409\"/>\n<polygon fill=\"#000000\" stroke=\"#000000\" points=\"2379.5208,-77.7497 2374.8022,-68.2637 2372.5753,-78.6218 2379.5208,-77.7497\"/>\n</g>\n<!-- 27 -->\n<g id=\"node28\" class=\"node\">\n<title>27</title>\n<polygon fill=\"#eeab7b\" stroke=\"#000000\" points=\"2593,-68 2462,-68 2462,0 2593,0 2593,-68\"/>\n<text text-anchor=\"middle\" x=\"2527.5\" y=\"-52.8\" font-family=\"Helvetica,sans-Serif\" font-size=\"14.00\" fill=\"#000000\">gini = 0.375</text>\n<text text-anchor=\"middle\" x=\"2527.5\" y=\"-37.8\" font-family=\"Helvetica,sans-Serif\" font-size=\"14.00\" fill=\"#000000\">samples = 4</text>\n<text text-anchor=\"middle\" x=\"2527.5\" y=\"-22.8\" font-family=\"Helvetica,sans-Serif\" font-size=\"14.00\" fill=\"#000000\">value = [3, 1, 0, 0]</text>\n<text text-anchor=\"middle\" x=\"2527.5\" y=\"-7.8\" font-family=\"Helvetica,sans-Serif\" font-size=\"14.00\" fill=\"#000000\">class = larceny</text>\n</g>\n<!-- 25&#45;&gt;27 -->\n<g id=\"edge27\" class=\"edge\">\n<title>25&#45;&gt;27</title>\n<path fill=\"none\" stroke=\"#000000\" d=\"M2437.7479,-103.9815C2450.1244,-94.3313 2463.2828,-84.0714 2475.6003,-74.4673\"/>\n<polygon fill=\"#000000\" stroke=\"#000000\" points=\"2477.8225,-77.1728 2483.5565,-68.2637 2473.5182,-71.6525 2477.8225,-77.1728\"/>\n</g>\n<!-- 29 -->\n<g id=\"node30\" class=\"node\">\n<title>29</title>\n<polygon fill=\"#cff8cb\" stroke=\"#000000\" points=\"2785.5,-68 2621.5,-68 2621.5,0 2785.5,0 2785.5,-68\"/>\n<text text-anchor=\"middle\" x=\"2703.5\" y=\"-52.8\" font-family=\"Helvetica,sans-Serif\" font-size=\"14.00\" fill=\"#000000\">gini = 0.711</text>\n<text text-anchor=\"middle\" x=\"2703.5\" y=\"-37.8\" font-family=\"Helvetica,sans-Serif\" font-size=\"14.00\" fill=\"#000000\">samples = 136</text>\n<text text-anchor=\"middle\" x=\"2703.5\" y=\"-22.8\" font-family=\"Helvetica,sans-Serif\" font-size=\"14.00\" fill=\"#000000\">value = [29, 57, 27, 23]</text>\n<text text-anchor=\"middle\" x=\"2703.5\" y=\"-7.8\" font-family=\"Helvetica,sans-Serif\" font-size=\"14.00\" fill=\"#000000\">class = forgery</text>\n</g>\n<!-- 28&#45;&gt;29 -->\n<g id=\"edge29\" class=\"edge\">\n<title>28&#45;&gt;29</title>\n<path fill=\"none\" stroke=\"#000000\" d=\"M2709.1487,-103.9815C2708.4737,-95.618 2707.7616,-86.7965 2707.0791,-78.3409\"/>\n<polygon fill=\"#000000\" stroke=\"#000000\" points=\"2710.559,-77.9496 2706.2657,-68.2637 2703.5817,-78.5129 2710.559,-77.9496\"/>\n</g>\n<!-- 30 -->\n<g id=\"node31\" class=\"node\">\n<title>30</title>\n<polygon fill=\"#dfeffb\" stroke=\"#000000\" points=\"2951,-68 2804,-68 2804,0 2951,0 2951,-68\"/>\n<text text-anchor=\"middle\" x=\"2877.5\" y=\"-52.8\" font-family=\"Helvetica,sans-Serif\" font-size=\"14.00\" fill=\"#000000\">gini = 0.72</text>\n<text text-anchor=\"middle\" x=\"2877.5\" y=\"-37.8\" font-family=\"Helvetica,sans-Serif\" font-size=\"14.00\" fill=\"#000000\">samples = 42</text>\n<text text-anchor=\"middle\" x=\"2877.5\" y=\"-22.8\" font-family=\"Helvetica,sans-Serif\" font-size=\"14.00\" fill=\"#000000\">value = [6, 11, 16, 9]</text>\n<text text-anchor=\"middle\" x=\"2877.5\" y=\"-7.8\" font-family=\"Helvetica,sans-Serif\" font-size=\"14.00\" fill=\"#000000\">class = sex crime</text>\n</g>\n<!-- 28&#45;&gt;30 -->\n<g id=\"edge30\" class=\"edge\">\n<title>28&#45;&gt;30</title>\n<path fill=\"none\" stroke=\"#000000\" d=\"M2773.9399,-103.9815C2788.5691,-94.0957 2804.1451,-83.5701 2818.6548,-73.7651\"/>\n<polygon fill=\"#000000\" stroke=\"#000000\" points=\"2820.7335,-76.5847 2827.0594,-68.0856 2816.8141,-70.7848 2820.7335,-76.5847\"/>\n</g>\n</g>\n</svg>\n"
          },
          "metadata": {},
          "execution_count": 668
        }
      ]
    },
    {
      "cell_type": "markdown",
      "source": [
        "Looking at the visualization for our decision tree, we can come to some interesting conclusions. We notice that the model deemed the most important factor when determining the type of crime committed was whether or not it took place in Manhattan (this varies run to run but seems to be true for the most part). This makes some sense, since as we saw earlier Manhattan has the highest proportional difference between misdemeanors and felonies of any borough. This could help the model in differentiating between what was most likely to be committed."
      ],
      "metadata": {
        "id": "ywH1DVAy4nr9"
      }
    },
    {
      "cell_type": "markdown",
      "source": [
        "## 5. Conclusions"
      ],
      "metadata": {
        "id": "h77jDqQC6doQ"
      }
    },
    {
      "cell_type": "markdown",
      "source": [
        "Overall, we've learned a lot about how arrests are distributed throughout the boroughs of NYC, not only in quantity but also in severity. I was surprised to find that Manhattan was disproportionately represented in arrests compared to its population, especially considering that its median household income is well above that of the other four boroughs. We found that this was in part due to a large proportion of these arrests being misdemeanors and not felonies, but this isn't the whole story. In that regard, there's certainly more to investigate. Maybe it has to do with population density, or with Manhattan's status as a global tourist destination. I don't think any effective policy decisions can be reached through the conclusions of this work, but it was certainly interesting to investigate."
      ],
      "metadata": {
        "id": "QCZeQsZjHHm0"
      }
    },
    {
      "cell_type": "markdown",
      "source": [
        "In the future, further investigations could be made by cross-referencing this dataset with others. It could be interesting to look into how other factors like unemployment rate, cost of living, and rental costs play into the quantity and types of crimes in an area. Another direction this could be taken is through adding a time element to the data. It would be interesting to see not only general trends in city-wide crime rate over the years, but also how its distribution throughout the city changes over the years. I'm currently imagining a visualization which averages the coordinates of every arrest at a timestep, and plots throughout time the average location of arrest throughout New York."
      ],
      "metadata": {
        "id": "r8WgCUk4MiJQ"
      }
    }
  ]
}